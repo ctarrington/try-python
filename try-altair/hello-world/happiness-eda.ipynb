{
 "cells": [
  {
   "cell_type": "code",
   "execution_count": null,
   "metadata": {
    "pycharm": {
     "name": "#%%\n"
    }
   },
   "outputs": [],
   "source": [
    "import pandas as pd\n",
    "import altair as alt\n",
    "\n",
    "data = pd.read_csv('2016.csv')\n",
    "data.head()"
   ]
  },
  {
   "cell_type": "code",
   "execution_count": null,
   "metadata": {
    "pycharm": {
     "name": "#%%\n"
    }
   },
   "outputs": [],
   "source": [
    "alt.Chart(data).mark_bar().encode(x='Happiness Score', y='Region')"
   ]
  },
  {
   "cell_type": "code",
   "execution_count": null,
   "metadata": {
    "pycharm": {
     "name": "#%%\n"
    }
   },
   "outputs": [],
   "source": [
    "alt.Chart(data).mark_circle().encode(\n",
    "    x='Health (Life Expectancy)',\n",
    "    y='Happiness Score',\n",
    "    color=alt.Color('Region', scale=alt.Scale(scheme='Dark2')),\n",
    "    tooltip=['Country', 'Happiness Score']\n",
    ")"
   ]
  },
  {
   "cell_type": "code",
   "execution_count": null,
   "metadata": {
    "pycharm": {
     "name": "#%%\n"
    }
   },
   "outputs": [],
   "source": [
    "alt.Chart(data).mark_line().encode(\n",
    "    x='Happiness Rank',\n",
    "    y='Health (Life Expectancy)'\n",
    ")"
   ]
  },
  {
   "cell_type": "code",
   "execution_count": null,
   "metadata": {
    "pycharm": {
     "name": "#%%\n"
    }
   },
   "outputs": [],
   "source": [
    "# knowledge test 2\n",
    "c1 = alt.Chart(data).mark_circle().encode(\n",
    "    x = \"Health (Life Expectancy)\",\n",
    "    y = \"Happiness Score\",\n",
    ")\n",
    "\n",
    "c2 = alt.Chart(data).mark_circle().encode(\n",
    "    x = \"Generosity\",\n",
    "    y = \"Happiness Score\",\n",
    ")\n",
    "\n",
    "c1|c2"
   ]
  },
  {
   "cell_type": "code",
   "execution_count": null,
   "metadata": {
    "pycharm": {
     "name": "#%%\n"
    }
   },
   "outputs": [],
   "source": [
    "# Build a SPLOM\n",
    "alt.Chart(data).mark_circle().encode(\n",
    "    alt.X(alt.repeat(\"column\"), type=\"quantitative\"),\n",
    "    alt.Y(alt.repeat(\"row\"), type=\"quantitative\"),\n",
    "    color=\"Happiness Score\",\n",
    "    tooltip=[\"Country\", \"Happiness Score\"]\n",
    ").properties(\n",
    "    width=125,\n",
    "    height=125\n",
    ").repeat(\n",
    "    row=[\"Health (Life Expectancy)\", \"Generosity\",\"Family\", \"Freedom\"],\n",
    "    column=[\"Health (Life Expectancy)\", \"Generosity\", \"Family\", \"Freedom\"]\n",
    ")"
   ]
  },
  {
   "cell_type": "code",
   "execution_count": null,
   "metadata": {
    "pycharm": {
     "name": "#%%\n"
    }
   },
   "outputs": [],
   "source": [
    "# Build a parallel coordinates plot\n",
    "alt.Chart(data).transform_window(\n",
    "    index=\"count()\"\n",
    ").transform_fold(\n",
    "    [\"Health (Life Expectancy)\", \"Generosity\",\"Family\", \"Freedom\"]\n",
    ").mark_line().encode(\n",
    "    x=\"key:N\",\n",
    "    y=\"value:Q\",\n",
    "    detail=\"index:N\",\n",
    "    opacity=alt.value(0.5),\n",
    "    color=alt.Color(\"Happiness Rank:Q\", scale=alt.Scale(scheme=\"Magma\")),\n",
    "    tooltip=[\"Country\"]\n",
    ").properties(width=700).interactive()"
   ]
  },
  {
   "cell_type": "code",
   "execution_count": null,
   "metadata": {},
   "outputs": [],
   "source": [
    "# one question - is the apparent family correlation just an artifact of regional differences in family \n",
    "alt.Chart(data).mark_circle().encode(\n",
    "    x='Family',\n",
    "    y='Happiness Score',\n",
    "    color=alt.Color('Region', scale=alt.Scale(scheme='Dark2')),\n",
    "    tooltip=['Country', 'Happiness Score']\n",
    ")\n",
    "\n"
   ]
  },
  {
   "cell_type": "code",
   "execution_count": null,
   "metadata": {},
   "outputs": [],
   "source": [
    "alt.Chart(data).mark_circle().encode(\n",
    "    y='Family',\n",
    "    x='Region',\n",
    "    color=alt.Color('Region', scale=alt.Scale(scheme='Dark2')),\n",
    "    tooltip=['Country', 'Happiness Score']\n",
    ")\n"
   ]
  },
  {
   "cell_type": "code",
   "execution_count": null,
   "metadata": {},
   "outputs": [],
   "source": [
    "alt.Chart(data).mark_circle().encode(\n",
    "    x='Family',\n",
    "    y='Happiness Score',\n",
    "    color=alt.Color('Region', scale=alt.Scale(scheme='Dark2')),\n",
    "    row='Region',\n",
    "    tooltip=['Country', 'Happiness Score']\n",
    ")"
   ]
  },
  {
   "cell_type": "code",
   "execution_count": null,
   "metadata": {},
   "outputs": [],
   "source": []
  }
 ],
 "metadata": {
  "kernelspec": {
   "display_name": "Python 3 (ipykernel)",
   "language": "python",
   "name": "python3"
  },
  "language_info": {
   "codemirror_mode": {
    "name": "ipython",
    "version": 3
   },
   "file_extension": ".py",
   "mimetype": "text/x-python",
   "name": "python",
   "nbconvert_exporter": "python",
   "pygments_lexer": "ipython3",
   "version": "3.8.9"
  }
 },
 "nbformat": 4,
 "nbformat_minor": 1
}
