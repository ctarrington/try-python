{
 "cells": [
  {
   "cell_type": "code",
   "execution_count": 77,
   "outputs": [
    {
     "name": "stdout",
     "text": [
      "Flushing output cache (0 entries)\n"
     ],
     "output_type": "stream"
    }
   ],
   "source": [
    "%reset -f\n",
    "%reset -f out\n"
   ],
   "metadata": {
    "collapsed": false,
    "pycharm": {
     "name": "#%%\n",
     "is_executing": false
    }
   }
  },
  {
   "cell_type": "code",
   "execution_count": 75,
   "metadata": {
    "collapsed": true,
    "pycharm": {
     "is_executing": false
    }
   },
   "outputs": [],
   "source": [
    "from collections import namedtuple\n",
    "import importlib\n",
    "import linear_track\n",
    "importlib.reload(linear_track)\n",
    "from linear_track import LinearTrack"
   ]
  },
  {
   "cell_type": "code",
   "execution_count": 76,
   "outputs": [],
   "source": [
    "Box = namedtuple('Box', 'width depth height')\n",
    "box = Box(1000, 1000, 1000)\n",
    "\n",
    "linear_tracks = [LinearTrack(box) for _extra in range(2)]\n",
    "tracks = linear_tracks\n",
    "\n",
    "\n",
    "tick_size = 1\n",
    "start_tick = 0\n",
    "output_file = open(\"tracks.csv\", \"w\")\n",
    "for tick_ctr in range(10):\n",
    "    for index, track in enumerate(tracks):\n",
    "        position = track.tick(tick_size)\n",
    "        values = []\n",
    "        values.append(start_tick + tick_ctr * tick_size)\n",
    "        values.append(index)\n",
    "        values = values + list(position)\n",
    "        line = \",\".join(str(value) for value in values)\n",
    "        output_file.write(line+'\\n')\n",
    "        \n",
    "output_file.close()\n",
    "#%"
   ],
   "metadata": {
    "collapsed": false,
    "pycharm": {
     "name": "#%%\n",
     "is_executing": false
    }
   }
  },
  {
   "cell_type": "code",
   "execution_count": 76,
   "outputs": [],
   "source": [
    "\n"
   ],
   "metadata": {
    "collapsed": false,
    "pycharm": {
     "name": "#%%\n",
     "is_executing": false
    }
   }
  }
 ],
 "metadata": {
  "kernelspec": {
   "display_name": "Python 3",
   "language": "python",
   "name": "python3"
  },
  "language_info": {
   "codemirror_mode": {
    "name": "ipython",
    "version": 2
   },
   "file_extension": ".py",
   "mimetype": "text/x-python",
   "name": "python",
   "nbconvert_exporter": "python",
   "pygments_lexer": "ipython2",
   "version": "2.7.6"
  },
  "pycharm": {
   "stem_cell": {
    "cell_type": "raw",
    "source": [],
    "metadata": {
     "collapsed": false
    }
   }
  }
 },
 "nbformat": 4,
 "nbformat_minor": 0
}