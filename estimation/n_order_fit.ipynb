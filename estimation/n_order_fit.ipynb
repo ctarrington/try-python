{
 "cells": [
  {
   "cell_type": "code",
   "execution_count": 41,
   "metadata": {
    "collapsed": true,
    "pycharm": {
     "is_executing": false
    }
   },
   "outputs": [],
   "source": [
    "import numpy as np\n",
    "import matplotlib.pyplot as plt\n"
   ]
  },
  {
   "cell_type": "code",
   "execution_count": 42,
   "outputs": [],
   "source": [
    "from util import evaluate_polynomial_value, build_a"
   ],
   "metadata": {
    "collapsed": false,
    "pycharm": {
     "name": "#%%\n",
     "is_executing": false
    }
   }
  },
  {
   "cell_type": "code",
   "execution_count": 43,
   "outputs": [],
   "source": [
    "domain = (0,1)"
   ],
   "metadata": {
    "collapsed": false,
    "pycharm": {
     "name": "#%%\n",
     "is_executing": false
    }
   }
  },
  {
   "cell_type": "code",
   "execution_count": 44,
   "outputs": [
    {
     "name": "stdout",
     "text": [
      "tx [0.         0.09090909 0.18181818 0.27272727 0.36363636 0.45454545\n",
      " 0.54545455 0.63636364 0.72727273 0.81818182 0.90909091 1.        ]\n",
      "perfect [ 0.00000000e+00  5.40640817e-01  9.09631995e-01  9.89821442e-01\n",
      "  7.55749574e-01  2.81732557e-01 -2.81732557e-01 -7.55749574e-01\n",
      " -9.89821442e-01 -9.09631995e-01 -5.40640817e-01 -2.44929360e-16]\n"
     ],
     "output_type": "stream"
    }
   ],
   "source": [
    "tx = np.linspace(domain[0], domain[1], 12)\n",
    "xarg = tx * 2 * np.pi\n",
    "perfect = np.sin(xarg)\n",
    "print('tx', tx)\n",
    "print('perfect', perfect)\n"
   ],
   "metadata": {
    "collapsed": false,
    "pycharm": {
     "name": "#%%\n",
     "is_executing": false
    }
   }
  },
  {
   "cell_type": "code",
   "execution_count": 45,
   "outputs": [
    {
     "name": "stdout",
     "text": [
      "noisy [-0.04192129  0.51322515  0.97973561  1.11730881  0.64755578  0.36572148\n",
      " -0.19724445 -0.48970933 -0.87822292 -0.84486629 -0.44094962  0.11142756]\n"
     ],
     "output_type": "stream"
    }
   ],
   "source": [
    "noise = np.random.normal(0, 0.1, tx.shape[0])\n",
    "noisy = perfect + noise\n",
    "print('noisy', noisy)"
   ],
   "metadata": {
    "collapsed": false,
    "pycharm": {
     "name": "#%%\n",
     "is_executing": false
    }
   }
  },
  {
   "cell_type": "code",
   "execution_count": 46,
   "outputs": [
    {
     "name": "stdout",
     "text": [
      "[[1.00000000e+00 0.00000000e+00 0.00000000e+00 0.00000000e+00\n",
      "  0.00000000e+00 0.00000000e+00 0.00000000e+00 0.00000000e+00\n",
      "  0.00000000e+00 0.00000000e+00 0.00000000e+00 0.00000000e+00\n",
      "  0.00000000e+00]\n",
      " [1.00000000e+00 9.09090909e-02 8.26446281e-03 7.51314801e-04\n",
      "  6.83013455e-05 6.20921323e-06 5.64473930e-07 5.13158118e-08\n",
      "  4.66507380e-09 4.24097618e-10 3.85543289e-11 3.50493899e-12\n",
      "  3.18630818e-13]\n",
      " [1.00000000e+00 1.81818182e-01 3.30578512e-02 6.01051841e-03\n",
      "  1.09282153e-03 1.98694823e-04 3.61263315e-05 6.56842391e-06\n",
      "  1.19425889e-06 2.17137981e-07 3.94796328e-08 7.17811506e-09\n",
      "  1.30511183e-09]\n",
      " [1.00000000e+00 2.72727273e-01 7.43801653e-02 2.02854996e-02\n",
      "  5.53240899e-03 1.50883882e-03 4.11501495e-04 1.12227680e-04\n",
      "  3.06075492e-05 8.34751342e-06 2.27659457e-06 6.20889428e-07\n",
      "  1.69333480e-07]\n",
      " [1.00000000e+00 3.63636364e-01 1.32231405e-01 4.80841473e-02\n",
      "  1.74851445e-02 6.35823435e-03 2.31208522e-03 8.40758261e-04\n",
      "  3.05730277e-04 1.11174646e-04 4.04271440e-05 1.47007796e-05\n",
      "  5.34573805e-06]\n",
      " [1.00000000e+00 4.54545455e-01 2.06611570e-01 9.39143501e-02\n",
      "  4.26883410e-02 1.94037913e-02 8.81990516e-03 4.00904780e-03\n",
      "  1.82229445e-03 8.28315661e-04 3.76507119e-04 1.71139599e-04\n",
      "  7.77907270e-05]\n",
      " [1.00000000e+00 5.45454545e-01 2.97520661e-01 1.62283997e-01\n",
      "  8.85185438e-02 4.82828421e-02 2.63360957e-02 1.43651431e-02\n",
      "  7.83553260e-03 4.27392687e-03 2.33123284e-03 1.27158155e-03\n",
      "  6.93589936e-04]\n",
      " [1.00000000e+00 6.36363636e-01 4.04958678e-01 2.57700977e-01\n",
      "  1.63991531e-01 1.04358247e-01 6.64097934e-02 4.22607776e-02\n",
      "  2.68932221e-02 1.71138686e-02 1.08906437e-02 6.93040961e-03\n",
      "  4.41026066e-03]\n",
      " [1.00000000e+00 7.27272727e-01 5.28925620e-01 3.84673178e-01\n",
      "  2.79762311e-01 2.03463499e-01 1.47973454e-01 1.07617057e-01\n",
      "  7.82669508e-02 5.69214188e-02 4.13973955e-02 3.01071967e-02\n",
      "  2.18961431e-02]\n",
      " [1.00000000e+00 8.18181818e-01 6.69421488e-01 5.47708490e-01\n",
      "  4.48125128e-01 3.66647832e-01 2.99984590e-01 2.45441937e-01\n",
      "  2.00816130e-01 1.64304107e-01 1.34430633e-01 1.09988700e-01\n",
      "  8.99907542e-02]\n",
      " [1.00000000e+00 9.09090909e-01 8.26446281e-01 7.51314801e-01\n",
      "  6.83013455e-01 6.20921323e-01 5.64473930e-01 5.13158118e-01\n",
      "  4.66507380e-01 4.24097618e-01 3.85543289e-01 3.50493899e-01\n",
      "  3.18630818e-01]\n",
      " [1.00000000e+00 1.00000000e+00 1.00000000e+00 1.00000000e+00\n",
      "  1.00000000e+00 1.00000000e+00 1.00000000e+00 1.00000000e+00\n",
      "  1.00000000e+00 1.00000000e+00 1.00000000e+00 1.00000000e+00\n",
      "  1.00000000e+00]]\n"
     ],
     "output_type": "stream"
    }
   ],
   "source": [
    "order = 12\n",
    "A = build_a(order, tx)\n",
    "print(A)"
   ],
   "metadata": {
    "collapsed": false,
    "pycharm": {
     "name": "#%%\n",
     "is_executing": false
    }
   }
  },
  {
   "cell_type": "code",
   "execution_count": 47,
   "outputs": [
    {
     "name": "stdout",
     "text": [
      "model weights [-4.19212881e-02  2.05766444e+02 -5.95709061e+03  7.05958109e+04\n",
      " -4.43335456e+05  1.63380794e+06 -3.62102163e+06  4.50512973e+06\n",
      " -1.91470782e+06 -2.62687276e+06  4.45843064e+06 -2.64529464e+06\n",
      "  5.89019669e+05]\n",
      "model residuals []\n"
     ],
     "output_type": "stream"
    }
   ],
   "source": [
    "(mw, residuals, rank, s) = np.linalg.lstsq(A, noisy, rcond=None)\n",
    "print('model weights', mw)\n",
    "print('model residuals', residuals)"
   ],
   "metadata": {
    "collapsed": false,
    "pycharm": {
     "name": "#%%\n",
     "is_executing": false
    }
   }
  },
  {
   "cell_type": "code",
   "execution_count": 48,
   "outputs": [
    {
     "data": {
      "text/plain": "<Figure size 432x288 with 1 Axes>",
      "image/png": "[encoded data removed]"
     },
     "metadata": {
      "needs_background": "light"
     },
     "output_type": "display_data"
    }
   ],
   "source": [
    "px = np.linspace(domain[0], domain[1], 100)\n",
    "predicted = [ evaluate_polynomial_value(i, mw) for i in px]\n",
    "plt.plot(px, predicted)\n",
    "plt.plot(tx,noisy, marker='o', linestyle='None')\n",
    "plt.show()"
   ],
   "metadata": {
    "collapsed": false,
    "pycharm": {
     "name": "#%%\n",
     "is_executing": false
    }
   }
  },
  {
   "cell_type": "code",
   "execution_count": 48,
   "outputs": [],
   "source": [],
   "metadata": {
    "collapsed": false,
    "pycharm": {
     "name": "#%%\n",
     "is_executing": false
    }
   }
  },
  {
   "cell_type": "code",
   "execution_count": 48,
   "outputs": [],
   "source": [
    "\n"
   ],
   "metadata": {
    "collapsed": false,
    "pycharm": {
     "name": "#%%\n",
     "is_executing": false
    }
   }
  }
 ],
 "metadata": {
  "kernelspec": {
   "display_name": "Python 3",
   "language": "python",
   "name": "python3"
  },
  "language_info": {
   "codemirror_mode": {
    "name": "ipython",
    "version": 2
   },
   "file_extension": ".py",
   "mimetype": "text/x-python",
   "name": "python",
   "nbconvert_exporter": "python",
   "pygments_lexer": "ipython2",
   "version": "2.7.6"
  },
  "pycharm": {
   "stem_cell": {
    "cell_type": "raw",
    "source": [],
    "metadata": {
     "collapsed": false
    }
   }
  }
 },
 "nbformat": 4,
 "nbformat_minor": 0
}