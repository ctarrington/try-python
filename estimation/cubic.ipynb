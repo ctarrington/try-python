{
 "cells": [
  {
   "cell_type": "code",
   "execution_count": 355,
   "metadata": {
    "collapsed": true,
    "pycharm": {
     "is_executing": false
    }
   },
   "outputs": [],
   "source": [
    "import numpy as np\n",
    "import matplotlib.pyplot as plt\n"
   ]
  },
  {
   "cell_type": "code",
   "execution_count": 356,
   "outputs": [],
   "source": [
    "domain = (0,1)"
   ],
   "metadata": {
    "collapsed": false,
    "pycharm": {
     "name": "#%%\n",
     "is_executing": false
    }
   }
  },
  {
   "cell_type": "code",
   "execution_count": 357,
   "outputs": [
    {
     "name": "stdout",
     "text": [
      "x [0.         0.09090909 0.18181818 0.27272727 0.36363636 0.45454545\n",
      " 0.54545455 0.63636364 0.72727273 0.81818182 0.90909091 1.        ]\n",
      "perfect [ 0.00000000e+00  5.40640817e-01  9.09631995e-01  9.89821442e-01\n",
      "  7.55749574e-01  2.81732557e-01 -2.81732557e-01 -7.55749574e-01\n",
      " -9.89821442e-01 -9.09631995e-01 -5.40640817e-01 -2.44929360e-16]\n"
     ],
     "output_type": "stream"
    }
   ],
   "source": [
    "x = np.linspace(domain[0], domain[1], 12)\n",
    "xarg = x * 2 * np.pi\n",
    "perfect = np.sin(xarg)\n",
    "print('x', x)\n",
    "print('perfect', perfect)\n"
   ],
   "metadata": {
    "collapsed": false,
    "pycharm": {
     "name": "#%%\n",
     "is_executing": false
    }
   }
  },
  {
   "cell_type": "code",
   "execution_count": 358,
   "outputs": [
    {
     "name": "stdout",
     "text": [
      "noisy [-0.07192283  0.54282648  1.05552541  1.00887788  0.58410686  0.24532001\n",
      " -0.41228123 -0.71276552 -0.96933768 -0.93940416 -0.55575581  0.00392535]\n"
     ],
     "output_type": "stream"
    }
   ],
   "source": [
    "noise = np.random.normal(0, 0.1, x.shape[0])\n",
    "noisy = perfect + noise\n",
    "print('noisy', noisy)"
   ],
   "metadata": {
    "collapsed": false,
    "pycharm": {
     "name": "#%%\n",
     "is_executing": false
    }
   }
  },
  {
   "cell_type": "code",
   "execution_count": 359,
   "outputs": [
    {
     "name": "stdout",
     "text": [
      "[[1.00000000e+00 0.00000000e+00 0.00000000e+00 0.00000000e+00]\n",
      " [1.00000000e+00 9.09090909e-02 8.26446281e-03 7.51314801e-04]\n",
      " [1.00000000e+00 1.81818182e-01 3.30578512e-02 6.01051841e-03]\n",
      " [1.00000000e+00 2.72727273e-01 7.43801653e-02 2.02854996e-02]\n",
      " [1.00000000e+00 3.63636364e-01 1.32231405e-01 4.80841473e-02]\n",
      " [1.00000000e+00 4.54545455e-01 2.06611570e-01 9.39143501e-02]\n",
      " [1.00000000e+00 5.45454545e-01 2.97520661e-01 1.62283997e-01]\n",
      " [1.00000000e+00 6.36363636e-01 4.04958678e-01 2.57700977e-01]\n",
      " [1.00000000e+00 7.27272727e-01 5.28925620e-01 3.84673178e-01]\n",
      " [1.00000000e+00 8.18181818e-01 6.69421488e-01 5.47708490e-01]\n",
      " [1.00000000e+00 9.09090909e-01 8.26446281e-01 7.51314801e-01]\n",
      " [1.00000000e+00 1.00000000e+00 1.00000000e+00 1.00000000e+00]]\n"
     ],
     "output_type": "stream"
    }
   ],
   "source": [
    "A = np.array([ [1,i,i*i,i*i*i] for i in x])\n",
    "print(A)"
   ],
   "metadata": {
    "collapsed": false,
    "pycharm": {
     "name": "#%%\n",
     "is_executing": false
    }
   }
  },
  {
   "cell_type": "code",
   "execution_count": 360,
   "outputs": [
    {
     "name": "stdout",
     "text": [
      "model weights [ -0.08559675  10.92271217 -32.52836961  21.78541756]\n",
      "model residuals [0.08012707]\n"
     ],
     "output_type": "stream"
    }
   ],
   "source": [
    "(mw, residuals, rank, s) = np.linalg.lstsq(A, noisy, rcond=None)\n",
    "print('model weights', mw)\n",
    "print('model residuals', residuals)"
   ],
   "metadata": {
    "collapsed": false,
    "pycharm": {
     "name": "#%%\n",
     "is_executing": false
    }
   }
  },
  {
   "cell_type": "code",
   "execution_count": 361,
   "outputs": [
    {
     "data": {
      "text/plain": "<Figure size 432x288 with 1 Axes>",
      "image/png": "[encoded data removed]"
     },
     "metadata": {
      "needs_background": "light"
     },
     "output_type": "display_data"
    }
   ],
   "source": [
    "px = np.linspace(domain[0], domain[1], 100)\n",
    "predicted = [ mw[0] +mw[1]*i +mw[2]*i*i +mw[3]*i*i*i for i in px]\n",
    "plt.plot(px, predicted)\n",
    "plt.plot(x,noisy, marker='o', linestyle='None')\n",
    "plt.show()"
   ],
   "metadata": {
    "collapsed": false,
    "pycharm": {
     "name": "#%%\n",
     "is_executing": false
    }
   }
  },
  {
   "cell_type": "code",
   "execution_count": 361,
   "outputs": [],
   "source": [],
   "metadata": {
    "collapsed": false,
    "pycharm": {
     "name": "#%%\n",
     "is_executing": false
    }
   }
  }
 ],
 "metadata": {
  "kernelspec": {
   "display_name": "Python 3",
   "language": "python",
   "name": "python3"
  },
  "language_info": {
   "codemirror_mode": {
    "name": "ipython",
    "version": 2
   },
   "file_extension": ".py",
   "mimetype": "text/x-python",
   "name": "python",
   "nbconvert_exporter": "python",
   "pygments_lexer": "ipython2",
   "version": "2.7.6"
  },
  "pycharm": {
   "stem_cell": {
    "cell_type": "raw",
    "source": [],
    "metadata": {
     "collapsed": false
    }
   }
  }
 },
 "nbformat": 4,
 "nbformat_minor": 0
}