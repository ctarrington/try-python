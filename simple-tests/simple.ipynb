{
 "cells": [
  {
   "cell_type": "code",
   "execution_count": 1,
   "metadata": {},
   "outputs": [
    {
     "data": {
      "text/plain": [
       "'Hi there, freddy'"
      ]
     },
     "execution_count": 1,
     "metadata": {},
     "output_type": "execute_result"
    }
   ],
   "source": [
    "from greet import greet\n",
    "greet('freddy')"
   ]
  },
  {
   "cell_type": "code",
   "execution_count": 2,
   "metadata": {},
   "outputs": [
    {
     "data": {
      "text/plain": [
       "{'cat': 1, 'dog': 0, 'tiger': 2}"
      ]
     },
     "execution_count": 2,
     "metadata": {},
     "output_type": "execute_result"
    }
   ],
   "source": [
    "animals = ['dog', 'cat', 'tiger']\n",
    "pairs = enumerate(animals)\n",
    "reverse = {key: index for (index, key) in pairs}\n",
    "reverse"
   ]
  },
  {
   "cell_type": "code",
   "execution_count": 3,
   "metadata": {},
   "outputs": [
    {
     "data": {
      "text/plain": [
       "['canine', 'cat', 'tiger']"
      ]
     },
     "execution_count": 3,
     "metadata": {},
     "output_type": "execute_result"
    }
   ],
   "source": [
    "animals[0] = 'canine'\n",
    "animals"
   ]
  },
  {
   "cell_type": "code",
   "execution_count": 4,
   "metadata": {},
   "outputs": [
    {
     "name": "stdout",
     "output_type": "stream",
     "text": [
      "evens ['two', 'four', 'six', 'eight', 'ten']\n",
      "odds ['one', 'three', 'five', 'seven', 'nine']\n",
      "backwards ['ten', 'nine', 'eight', 'seven', 'six', 'five', 'four', 'three', 'two', 'one']\n"
     ]
    }
   ],
   "source": [
    "nums = ['one','two','three','four','five','six','seven','eight','nine','ten']\n",
    "odds = nums[::2]\n",
    "evens = nums[1::2]\n",
    "\n",
    "print('evens', evens)\n",
    "print('odds', odds)\n",
    "\n",
    "backwards = nums[::-1]\n",
    "print('backwards', backwards)"
   ]
  },
  {
   "cell_type": "code",
   "execution_count": 5,
   "metadata": {},
   "outputs": [
    {
     "data": {
      "text/plain": [
       "{}"
      ]
     },
     "execution_count": 5,
     "metadata": {},
     "output_type": "execute_result"
    }
   ],
   "source": [
    "# an enumeration cannot be reused\n",
    "forward = {index: key for (index, key) in pairs}\n",
    "forward  "
   ]
  },
  {
   "cell_type": "code",
   "execution_count": 6,
   "metadata": {},
   "outputs": [
    {
     "name": "stdout",
     "output_type": "stream",
     "text": [
      "forward {0: 'canine', 1: 'cat', 2: 'tiger'}\n",
      "reverse {'canine': 0, 'cat': 1, 'tiger': 2}\n"
     ]
    }
   ],
   "source": [
    "# better to inline the enumerate\n",
    "forward = {index: key for (index, key) in enumerate(animals)}\n",
    "print('forward', forward)\n",
    "reverse = {key: index for (index, key) in enumerate(animals)}\n",
    "print('reverse', reverse)"
   ]
  },
  {
   "cell_type": "code",
   "execution_count": 7,
   "metadata": {},
   "outputs": [
    {
     "name": "stdout",
     "output_type": "stream",
     "text": [
      "[4, 16, 36, 64]\n"
     ]
    }
   ],
   "source": [
    "evens_squared = [a**2 for a in range(2,10,2)]\n",
    "print(evens_squared)"
   ]
  },
  {
   "cell_type": "code",
   "execution_count": 8,
   "metadata": {},
   "outputs": [
    {
     "name": "stdout",
     "output_type": "stream",
     "text": [
      "{'dog': 2, 'cat': 3}\n"
     ]
    }
   ],
   "source": [
    "pets = ['dog','cat', 'parrot']\n",
    "counts = [2,3,0]\n",
    "pet_lookup = {pet:count for (pet, count) in zip(pets, counts) if count > 0}\n",
    "print(pet_lookup)"
   ]
  },
  {
   "cell_type": "code",
   "execution_count": 9,
   "metadata": {},
   "outputs": [
    {
     "name": "stdout",
     "output_type": "stream",
     "text": [
      "('dog', 2)\n",
      "('cat', 3)\n",
      "('parrot', 0)\n"
     ]
    }
   ],
   "source": [
    "pc = zip(pets, counts)\n",
    "for l in pc:\n",
    "    print(l)"
   ]
  },
  {
   "cell_type": "code",
   "execution_count": 10,
   "metadata": {},
   "outputs": [],
   "source": [
    "for l in pc:\n",
    "    print(l)"
   ]
  },
  {
   "cell_type": "markdown",
   "metadata": {},
   "source": [
    "### Note   \n",
    "Both zip and enumerate produce single use iterators.\n",
    "Inline is always better..."
   ]
  },
  {
   "cell_type": "code",
   "execution_count": 11,
   "metadata": {},
   "outputs": [
    {
     "name": "stdout",
     "output_type": "stream",
     "text": [
      "Hello there, Fred 1\n",
      "Hello there, Ted 2\n",
      "Hey Fred 1\n",
      "Hey Ted 2\n"
     ]
    }
   ],
   "source": [
    "def create_greeter(greeting = 'Hi'):\n",
    "    count = 0\n",
    "    def greet(name):\n",
    "        nonlocal count\n",
    "        count += 1\n",
    "        return '%s %s %d' % (greeting, name, count)\n",
    "    \n",
    "    return greet\n",
    "    \n",
    "formal_greeter = create_greeter('Hello there,')\n",
    "print(formal_greeter('Fred'))\n",
    "print(formal_greeter('Ted'))\n",
    "\n",
    "informal_greeter = create_greeter('Hey')\n",
    "print(informal_greeter('Fred'))\n",
    "print(informal_greeter('Ted'))\n",
    "\n"
   ]
  },
  {
   "cell_type": "code",
   "execution_count": 12,
   "metadata": {},
   "outputs": [
    {
     "name": "stdout",
     "output_type": "stream",
     "text": [
      "Hello there, Fred 1\n",
      "Hello there, Ted 2\n",
      "Hey Fred 1\n",
      "Hey Ted 2\n",
      "Hello there, Red 3\n",
      "Hey Red 3\n"
     ]
    }
   ],
   "source": [
    "def create_greeter(greeting = 'Hi'):\n",
    "    context = {'count':0}\n",
    "    def greet(name):\n",
    "        context['count'] += 1\n",
    "        return '%s %s %d' % (greeting, name, context['count'])\n",
    "    \n",
    "    return greet\n",
    "    \n",
    "formal_greeter = create_greeter('Hello there,')\n",
    "print(formal_greeter('Fred'))\n",
    "print(formal_greeter('Ted'))\n",
    "\n",
    "informal_greeter = create_greeter('Hey')\n",
    "print(informal_greeter('Fred'))\n",
    "print(informal_greeter('Ted'))\n",
    "print(formal_greeter('Red'))\n",
    "print(informal_greeter('Red'))\n",
    "\n"
   ]
  },
  {
   "cell_type": "markdown",
   "metadata": {},
   "source": [
    "### Note\n",
    "Assignment to a closure scope variable requires use of the nonlocal keyword. Mutating the contents of an object does not."
   ]
  },
  {
   "cell_type": "code",
   "execution_count": 13,
   "metadata": {},
   "outputs": [
    {
     "name": "stdout",
     "output_type": "stream",
     "text": [
      "sum of 4 and 6 10\n",
      "first 4\n"
     ]
    }
   ],
   "source": [
    "def add_with_side_effects_lost1(a,b):\n",
    "    temp_a = a\n",
    "    a = a + 10\n",
    "    return temp_a + b\n",
    "\n",
    "first = 4\n",
    "second = 6\n",
    "print('sum of 4 and 6', add_with_side_effects_lost1(first, second))\n",
    "print('first', first)"
   ]
  },
  {
   "cell_type": "code",
   "execution_count": 14,
   "metadata": {},
   "outputs": [
    {
     "name": "stdout",
     "output_type": "stream",
     "text": [
      "sum of 4 and 6 10\n",
      "nmbrs [14, 6]\n"
     ]
    }
   ],
   "source": [
    "def add_with_side_effects(numbers):\n",
    "    temp_first = numbers[0]\n",
    "    numbers[0] += 10\n",
    "    return temp_first + numbers[1]\n",
    "\n",
    "nmbrs = [4,6]\n",
    "print('sum of 4 and 6', add_with_side_effects(nmbrs))\n",
    "print('nmbrs', nmbrs)"
   ]
  },
  {
   "cell_type": "code",
   "execution_count": 15,
   "metadata": {},
   "outputs": [
    {
     "name": "stdout",
     "output_type": "stream",
     "text": [
      "sum of 4 and 6 10\n",
      "nmbrs [4, 6]\n"
     ]
    }
   ],
   "source": [
    "def add_with_side_effects_lost2(numbers):\n",
    "    temp_sum = numbers[0] + numbers[1]\n",
    "    numbers = [99, 199]\n",
    "    return temp_sum\n",
    "\n",
    "nmbrs = [4,6]\n",
    "print('sum of 4 and 6', add_with_side_effects_lost2(nmbrs))\n",
    "print('nmbrs', nmbrs)"
   ]
  },
  {
   "cell_type": "markdown",
   "metadata": {},
   "source": [
    "### Passing function arguments \n",
    "Behaves like passing a copy of the reference.\n",
    "Assignments are lost. Changes to the contents of a complex type bubble out of the function."
   ]
  },
  {
   "cell_type": "code",
   "execution_count": 20,
   "metadata": {},
   "outputs": [
    {
     "data": {
      "text/plain": [
       "6"
      ]
     },
     "execution_count": 20,
     "metadata": {},
     "output_type": "execute_result"
    }
   ],
   "source": [
    "def add(name, number, *values):\n",
    "    return sum(values)\n",
    "\n",
    "add('fred', 12, 1,2,3)"
   ]
  },
  {
   "cell_type": "code",
   "execution_count": 23,
   "metadata": {},
   "outputs": [
    {
     "data": {
      "text/plain": [
       "6"
      ]
     },
     "execution_count": 23,
     "metadata": {},
     "output_type": "execute_result"
    }
   ],
   "source": [
    "numbers = [1,2,3]\n",
    "add('fred', 12, *numbers)"
   ]
  },
  {
   "cell_type": "code",
   "execution_count": 26,
   "metadata": {},
   "outputs": [
    {
     "name": "stdout",
     "output_type": "stream",
     "text": [
      "2\n"
     ]
    }
   ],
   "source": [
    "[a,b,c] = numbers\n",
    "print(b)"
   ]
  },
  {
   "cell_type": "code",
   "execution_count": null,
   "metadata": {},
   "outputs": [],
   "source": []
  }
 ],
 "metadata": {
  "kernelspec": {
   "display_name": "Python 3",
   "language": "python",
   "name": "python3"
  },
  "language_info": {
   "codemirror_mode": {
    "name": "ipython",
    "version": 3
   },
   "file_extension": ".py",
   "mimetype": "text/x-python",
   "name": "python",
   "nbconvert_exporter": "python",
   "pygments_lexer": "ipython3",
   "version": "3.6.4"
  }
 },
 "nbformat": 4,
 "nbformat_minor": 2
}
