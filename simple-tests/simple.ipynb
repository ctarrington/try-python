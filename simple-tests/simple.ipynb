{
 "cells": [
  {
   "cell_type": "code",
   "execution_count": 1,
   "metadata": {},
   "outputs": [],
   "source": [
    "from greet import greet\n",
    "from destructure import destructure\n",
    "import json\n",
    "import math\n",
    "import bisect"
   ]
  },
  {
   "cell_type": "code",
   "execution_count": 2,
   "metadata": {},
   "outputs": [
    {
     "data": {
      "text/plain": [
       "'Hi there, freddy'"
      ]
     },
     "execution_count": 2,
     "metadata": {},
     "output_type": "execute_result"
    }
   ],
   "source": [
    "greet('freddy')"
   ]
  },
  {
   "cell_type": "code",
   "execution_count": 3,
   "metadata": {},
   "outputs": [
    {
     "data": {
      "text/plain": [
       "{'cat': 1, 'dog': 0, 'tiger': 2}"
      ]
     },
     "execution_count": 3,
     "metadata": {},
     "output_type": "execute_result"
    }
   ],
   "source": [
    "animals = ['dog', 'cat', 'tiger']\n",
    "pairs = enumerate(animals)\n",
    "reverse = {key: index for (index, key) in pairs}\n",
    "reverse"
   ]
  },
  {
   "cell_type": "code",
   "execution_count": 4,
   "metadata": {},
   "outputs": [
    {
     "name": "stdout",
     "output_type": "stream",
     "text": [
      "animals ['canine', 'cat', 'tiger']\n"
     ]
    }
   ],
   "source": [
    "animals[0] = 'canine'\n",
    "print('animals', animals)"
   ]
  },
  {
   "cell_type": "code",
   "execution_count": 5,
   "metadata": {},
   "outputs": [
    {
     "data": {
      "text/plain": [
       "['canine', 'feline', 'squid', 'sharks']"
      ]
     },
     "execution_count": 5,
     "metadata": {},
     "output_type": "execute_result"
    }
   ],
   "source": [
    "animals[1:3] = ['feline', 'squid', 'sharks']\n",
    "animals"
   ]
  },
  {
   "cell_type": "code",
   "execution_count": 6,
   "metadata": {},
   "outputs": [
    {
     "name": "stdout",
     "output_type": "stream",
     "text": [
      "evens ['two', 'four', 'six', 'eight', 'ten']\n",
      "odds ['one', 'three', 'five', 'seven', 'nine']\n",
      "backwards ['ten', 'nine', 'eight', 'seven', 'six', 'five', 'four', 'three', 'two', 'one']\n"
     ]
    }
   ],
   "source": [
    "nums = ['one','two','three','four','five','six','seven','eight','nine','ten']\n",
    "odds = nums[::2]\n",
    "evens = nums[1::2]\n",
    "\n",
    "print('evens', evens)\n",
    "print('odds', odds)\n",
    "\n",
    "backwards = nums[::-1]\n",
    "print('backwards', backwards)"
   ]
  },
  {
   "cell_type": "markdown",
   "metadata": {},
   "source": [
    "### Both zip and enumerate produce single use iterators.\n",
    "Inline is always better..."
   ]
  },
  {
   "cell_type": "code",
   "execution_count": 7,
   "metadata": {},
   "outputs": [
    {
     "data": {
      "text/plain": [
       "{}"
      ]
     },
     "execution_count": 7,
     "metadata": {},
     "output_type": "execute_result"
    }
   ],
   "source": [
    "# an enumeration cannot be reused and we used pairs above\n",
    "forward = {index: key for (index, key) in pairs}\n",
    "forward  "
   ]
  },
  {
   "cell_type": "code",
   "execution_count": 8,
   "metadata": {},
   "outputs": [
    {
     "name": "stdout",
     "output_type": "stream",
     "text": [
      "forward {0: 'canine', 1: 'feline', 2: 'squid', 3: 'sharks'}\n",
      "reverse {'canine': 0, 'feline': 1, 'squid': 2, 'sharks': 3}\n"
     ]
    }
   ],
   "source": [
    "# better to inline the enumerate\n",
    "forward = {index: key for (index, key) in enumerate(animals)}\n",
    "print('forward', forward)\n",
    "reverse = {key: index for (index, key) in enumerate(animals)}\n",
    "print('reverse', reverse)"
   ]
  },
  {
   "cell_type": "markdown",
   "metadata": {},
   "source": [
    "### comprehensions are nice"
   ]
  },
  {
   "cell_type": "code",
   "execution_count": 9,
   "metadata": {},
   "outputs": [
    {
     "name": "stdout",
     "output_type": "stream",
     "text": [
      "[4, 16, 36, 64]\n"
     ]
    }
   ],
   "source": [
    "evens_squared = [a**2 for a in range(2,10,2)]\n",
    "print(evens_squared)"
   ]
  },
  {
   "cell_type": "code",
   "execution_count": 10,
   "metadata": {},
   "outputs": [
    {
     "name": "stdout",
     "output_type": "stream",
     "text": [
      "{'dog': 2, 'cat': 3}\n"
     ]
    }
   ],
   "source": [
    "pets = ['dog','cat', 'parrot']\n",
    "counts = [2,3,0]\n",
    "pet_lookup = {pet:count for (pet, count) in zip(pets, counts) if count > 0}\n",
    "print(pet_lookup)"
   ]
  },
  {
   "cell_type": "code",
   "execution_count": 11,
   "metadata": {},
   "outputs": [
    {
     "name": "stdout",
     "output_type": "stream",
     "text": [
      "('dog', 2)\n",
      "('cat', 3)\n",
      "('parrot', 0)\n"
     ]
    }
   ],
   "source": [
    "pc = zip(pets, counts)\n",
    "for l in pc:\n",
    "    print(l)"
   ]
  },
  {
   "cell_type": "code",
   "execution_count": 12,
   "metadata": {},
   "outputs": [],
   "source": [
    "for l in pc:\n",
    "    print(l)"
   ]
  },
  {
   "cell_type": "markdown",
   "metadata": {},
   "source": [
    "don't destructure if you don't have to"
   ]
  },
  {
   "cell_type": "code",
   "execution_count": 13,
   "metadata": {},
   "outputs": [
    {
     "name": "stdout",
     "output_type": "stream",
     "text": [
      "['fred and ted', 'blue and orange']\n"
     ]
    }
   ],
   "source": [
    "groups = [('fred', 'ted'), ('blue', 'orange')]\n",
    "phrases = ['%s and %s' % group for group in groups]\n",
    "print(phrases)"
   ]
  },
  {
   "cell_type": "markdown",
   "metadata": {},
   "source": [
    "### Note\n",
    "Assignment to a closure scope variable requires use of the nonlocal keyword. Mutating the contents of an object does not."
   ]
  },
  {
   "cell_type": "code",
   "execution_count": 14,
   "metadata": {},
   "outputs": [
    {
     "name": "stdout",
     "output_type": "stream",
     "text": [
      "Hello there, Fred 1\n",
      "Hello there, Ted 2\n",
      "Hey Fred 1\n",
      "Hey Ted 2\n"
     ]
    }
   ],
   "source": [
    "def create_greeter(greeting = 'Hi'):\n",
    "    count = 0\n",
    "    def greet(name):\n",
    "        nonlocal count\n",
    "        count += 1\n",
    "        return '%s %s %d' % (greeting, name, count)\n",
    "    \n",
    "    return greet\n",
    "    \n",
    "formal_greeter = create_greeter('Hello there,')\n",
    "print(formal_greeter('Fred'))\n",
    "print(formal_greeter('Ted'))\n",
    "\n",
    "informal_greeter = create_greeter('Hey')\n",
    "print(informal_greeter('Fred'))\n",
    "print(informal_greeter('Ted'))\n",
    "\n"
   ]
  },
  {
   "cell_type": "code",
   "execution_count": 15,
   "metadata": {},
   "outputs": [
    {
     "name": "stdout",
     "output_type": "stream",
     "text": [
      "Hello there, Fred 1\n",
      "Hello there, Ted 2\n",
      "Hey Fred 1\n",
      "Hey Ted 2\n",
      "Hello there, Red 3\n",
      "Hey Red 3\n"
     ]
    }
   ],
   "source": [
    "def create_greeter(greeting = 'Hi'):\n",
    "    context = {'count':0}\n",
    "    def greet(name):\n",
    "        context['count'] += 1\n",
    "        return '%s %s %d' % (greeting, name, context['count'])\n",
    "    \n",
    "    return greet\n",
    "    \n",
    "formal_greeter = create_greeter('Hello there,')\n",
    "print(formal_greeter('Fred'))\n",
    "print(formal_greeter('Ted'))\n",
    "\n",
    "informal_greeter = create_greeter('Hey')\n",
    "print(informal_greeter('Fred'))\n",
    "print(informal_greeter('Ted'))\n",
    "print(formal_greeter('Red'))\n",
    "print(informal_greeter('Red'))\n",
    "\n"
   ]
  },
  {
   "cell_type": "markdown",
   "metadata": {},
   "source": [
    "### Passing function arguments \n",
    "Behaves like passing a copy of the reference.\n",
    "Assignments are lost. Changes to the contents of a complex type bubble out of the function. Like all the well behaved languages!"
   ]
  },
  {
   "cell_type": "code",
   "execution_count": 16,
   "metadata": {},
   "outputs": [
    {
     "name": "stdout",
     "output_type": "stream",
     "text": [
      "sum of 4 and 6 10\n",
      "first 4\n"
     ]
    }
   ],
   "source": [
    "def add_with_side_effects_lost1(a,b):\n",
    "    temp_a = a\n",
    "    a = a + 10\n",
    "    return temp_a + b\n",
    "\n",
    "first = 4\n",
    "second = 6\n",
    "print('sum of 4 and 6', add_with_side_effects_lost1(first, second))\n",
    "print('first', first)"
   ]
  },
  {
   "cell_type": "code",
   "execution_count": 17,
   "metadata": {},
   "outputs": [
    {
     "name": "stdout",
     "output_type": "stream",
     "text": [
      "sum of 4 and 6 10\n",
      "nmbrs [14, 6]\n"
     ]
    }
   ],
   "source": [
    "def add_with_side_effects(numbers):\n",
    "    temp_first = numbers[0]\n",
    "    numbers[0] += 10\n",
    "    return temp_first + numbers[1]\n",
    "\n",
    "nmbrs = [4,6]\n",
    "print('sum of 4 and 6', add_with_side_effects(nmbrs))\n",
    "print('nmbrs', nmbrs)"
   ]
  },
  {
   "cell_type": "code",
   "execution_count": 18,
   "metadata": {},
   "outputs": [
    {
     "name": "stdout",
     "output_type": "stream",
     "text": [
      "sum of 4 and 6 10\n",
      "nmbrs [4, 6]\n"
     ]
    }
   ],
   "source": [
    "def add_with_side_effects_lost2(numbers):\n",
    "    temp_sum = numbers[0] + numbers[1]\n",
    "    numbers = [99, 199]\n",
    "    return temp_sum\n",
    "\n",
    "nmbrs = [4,6]\n",
    "print('sum of 4 and 6', add_with_side_effects_lost2(nmbrs))\n",
    "print('nmbrs', nmbrs)"
   ]
  },
  {
   "cell_type": "markdown",
   "metadata": {},
   "source": [
    "### Gather, spread and destructuring work "
   ]
  },
  {
   "cell_type": "code",
   "execution_count": 19,
   "metadata": {},
   "outputs": [
    {
     "name": "stdout",
     "output_type": "stream",
     "text": [
      "a rex\n",
      "b max\n"
     ]
    }
   ],
   "source": [
    "def print_ab(a,b):\n",
    "    print('a',a)\n",
    "    print('b',b)\n",
    "    \n",
    "dogs = ['rex', 'max']\n",
    "# list of dogs are spread into arguments\n",
    "print_ab(*dogs)"
   ]
  },
  {
   "cell_type": "code",
   "execution_count": 20,
   "metadata": {},
   "outputs": [
    {
     "data": {
      "text/plain": [
       "6"
      ]
     },
     "execution_count": 20,
     "metadata": {},
     "output_type": "execute_result"
    }
   ],
   "source": [
    "# last n arguments will be gathered into a list\n",
    "def add(name, number, *values):\n",
    "    return sum(values)\n",
    "\n",
    "add('fred', 12, 1,2,3)"
   ]
  },
  {
   "cell_type": "code",
   "execution_count": 21,
   "metadata": {},
   "outputs": [
    {
     "data": {
      "text/plain": [
       "6"
      ]
     },
     "execution_count": 21,
     "metadata": {},
     "output_type": "execute_result"
    }
   ],
   "source": [
    "numbers = [1,2,3]\n",
    "# list of numbers will be spread into arguments then gathered into list\n",
    "# cause we can\n",
    "add('fred', 12, *numbers)"
   ]
  },
  {
   "cell_type": "code",
   "execution_count": 22,
   "metadata": {},
   "outputs": [
    {
     "name": "stdout",
     "output_type": "stream",
     "text": [
      "2\n"
     ]
    }
   ],
   "source": [
    "# destructuring \n",
    "[a,b,c] = numbers\n",
    "print(b)"
   ]
  },
  {
   "cell_type": "markdown",
   "metadata": {},
   "source": [
    "### named and default function parameters work \n",
    "But once you start specifying defaults in the list you have to keep specifying them"
   ]
  },
  {
   "cell_type": "code",
   "execution_count": 23,
   "metadata": {},
   "outputs": [
    {
     "name": "stdout",
     "output_type": "stream",
     "text": [
      "a A b Bee c C\n"
     ]
    }
   ],
   "source": [
    "def printem(a, b='B', c='C'):\n",
    "    print('a',a, 'b',b, 'c',c)\n",
    "    \n",
    "printem(b='Bee', a='A')"
   ]
  },
  {
   "cell_type": "markdown",
   "metadata": {},
   "source": [
    "### Beware mutable defaults\n",
    "Single default value is created when module loads "
   ]
  },
  {
   "cell_type": "code",
   "execution_count": 24,
   "metadata": {},
   "outputs": [
    {
     "name": "stdout",
     "output_type": "stream",
     "text": [
      "data1 {'name': 'Fred'}\n",
      "data2 {'name': 'TED'}\n"
     ]
    }
   ],
   "source": [
    "def load_data(raw, default={}):\n",
    "    if not raw:\n",
    "        return default\n",
    "    \n",
    "    try:\n",
    "        return json.loads(raw)\n",
    "    except ValueError:\n",
    "        return default\n",
    "        \n",
    "data1 = load_data('{\"name\":\"Fred\"}')\n",
    "data2 = load_data('{\"name\":\"Ted\"}')\n",
    "data2['name'] = 'TED'\n",
    "print('data1', data1)\n",
    "print('data2', data2)\n"
   ]
  },
  {
   "cell_type": "code",
   "execution_count": 25,
   "metadata": {},
   "outputs": [
    {
     "name": "stdout",
     "output_type": "stream",
     "text": [
      "data1 {'name': 'TED'}\n",
      "data2 {'name': 'TED'}\n"
     ]
    }
   ],
   "source": [
    "data1 = load_data(None)\n",
    "data2 = load_data(None)\n",
    "data2['name'] = 'TED'\n",
    "print('data1', data1)\n",
    "print('data2', data2)"
   ]
  },
  {
   "cell_type": "code",
   "execution_count": 26,
   "metadata": {},
   "outputs": [],
   "source": [
    "def load_data(raw=None, default={}):\n",
    "    \"\"\"Always returns a fresh mutation safe dictionary\"\"\"\n",
    "    if not raw:\n",
    "        return json.loads(json.dumps(default))\n",
    "    \n",
    "    try:\n",
    "        return json.loads(raw)\n",
    "    except ValueError:\n",
    "        return json.loads(json.dumps(default))"
   ]
  },
  {
   "cell_type": "code",
   "execution_count": 27,
   "metadata": {},
   "outputs": [
    {
     "name": "stdout",
     "output_type": "stream",
     "text": [
      "passed_default {'name': 'Fred'}\n",
      "my_dictionary {'name': 'Fred', 'height': 70}\n"
     ]
    }
   ],
   "source": [
    "my_dictionary = {'name': 'Fred'}\n",
    "passed_default = load_data(None, my_dictionary)\n",
    "my_dictionary['height'] = 70\n",
    "print('passed_default', passed_default)\n",
    "print('my_dictionary', my_dictionary)"
   ]
  },
  {
   "cell_type": "code",
   "execution_count": 28,
   "metadata": {},
   "outputs": [
    {
     "name": "stdout",
     "output_type": "stream",
     "text": [
      "default1 {'height': 70} default2 {}\n"
     ]
    }
   ],
   "source": [
    "default1 = load_data('{\"crap')\n",
    "default2 = load_data()\n",
    "default1['height'] = 70\n",
    "print('default1', default1, 'default2', default2)"
   ]
  },
  {
   "cell_type": "markdown",
   "metadata": {},
   "source": [
    "### Force caller to name all but the first required parameter\n",
    "aka keyword only arguments"
   ]
  },
  {
   "cell_type": "code",
   "execution_count": 29,
   "metadata": {},
   "outputs": [
    {
     "name": "stdout",
     "output_type": "stream",
     "text": [
      "Fred\n",
      "FRED\n",
      "derF\n",
      "DERF\n"
     ]
    }
   ],
   "source": [
    "def change(raw, *, uppercase = False, reverse = False):\n",
    "    results = raw.upper() if uppercase else raw\n",
    "    results = results[::-1] if reverse else results\n",
    "    return results\n",
    "    \n",
    "print(change('Fred'))\n",
    "print(change('Fred', uppercase = True))\n",
    "print(change('Fred', reverse = True))\n",
    "print(change('Fred', reverse = True, uppercase=True))"
   ]
  },
  {
   "cell_type": "markdown",
   "metadata": {},
   "source": [
    "### Destructuring isn't as easy for dictionaries\n",
    "Score 1 for JavaScript...\n",
    "\n",
    "### Lots of string production\n",
    "F strings give you readability but no formatting   \n",
    "printf style creation is flexible   "
   ]
  },
  {
   "cell_type": "code",
   "execution_count": 30,
   "metadata": {},
   "outputs": [
    {
     "name": "stdout",
     "output_type": "stream",
     "text": [
      "\n",
      "Fred is 70.23 inches tall\n",
      "Fred likes nifty multiline templating\n",
      "\n"
     ]
    }
   ],
   "source": [
    "fred = {'name': 'Fred', 'weight': 188, 'height': 70.23}\n",
    "wilma = {'name': 'Wilma', 'weight': None, 'height': 64.65}\n",
    "(name, height) = destructure(fred, 'name', 'height')\n",
    "a = f'''\n",
    "{name} is {height} inches tall\n",
    "{name} likes nifty multiline templating\n",
    "'''\n",
    "print(a)"
   ]
  },
  {
   "cell_type": "code",
   "execution_count": 31,
   "metadata": {},
   "outputs": [
    {
     "name": "stdout",
     "output_type": "stream",
     "text": [
      "\n",
      "Fred is 70.2 inches tall\n",
      "He likes multiline strings\n",
      "\n"
     ]
    }
   ],
   "source": [
    "a = '''\n",
    "%s is %.1f inches tall\n",
    "He likes multiline strings\n",
    "''' % (fred['name'], fred['height'])\n",
    "\n",
    "print(a)"
   ]
  },
  {
   "cell_type": "code",
   "execution_count": 32,
   "metadata": {},
   "outputs": [
    {
     "data": {
      "text/plain": [
       "'\\nFred is'"
      ]
     },
     "execution_count": 32,
     "metadata": {},
     "output_type": "execute_result"
    }
   ],
   "source": [
    "a[0:8] # escape characters count"
   ]
  },
  {
   "cell_type": "code",
   "execution_count": 33,
   "metadata": {},
   "outputs": [
    {
     "data": {
      "text/plain": [
       "'Fe s7.'"
      ]
     },
     "execution_count": 33,
     "metadata": {},
     "output_type": "execute_result"
    }
   ],
   "source": [
    "a[1:12:2]  # stride works"
   ]
  },
  {
   "cell_type": "code",
   "execution_count": 34,
   "metadata": {},
   "outputs": [
    {
     "name": "stdout",
     "output_type": "stream",
     "text": [
      "hi there\n",
      "how are you?\n"
     ]
    }
   ],
   "source": [
    "with_escapes = 'hi there\\nhow are you?'\n",
    "print(with_escapes)"
   ]
  },
  {
   "cell_type": "code",
   "execution_count": 35,
   "metadata": {},
   "outputs": [
    {
     "name": "stdout",
     "output_type": "stream",
     "text": [
      "hi there\\nhow are you?This is a slash \\.\n"
     ]
    }
   ],
   "source": [
    "with_no_escapes = 'hi there\\\\nhow are you?This is a slash \\\\.'\n",
    "print(with_no_escapes)"
   ]
  },
  {
   "cell_type": "code",
   "execution_count": 36,
   "metadata": {},
   "outputs": [
    {
     "name": "stdout",
     "output_type": "stream",
     "text": [
      "hi there\\nhow are you?This is a slash \\.\n"
     ]
    }
   ],
   "source": [
    "with_no_escapes = r'hi there\\nhow are you?This is a slash \\.'\n",
    "# r tells it to ignore specials. r means raw. cause python is dense.\n",
    "print(with_no_escapes)"
   ]
  },
  {
   "cell_type": "markdown",
   "metadata": {},
   "source": [
    "### unicode is as simple as possible"
   ]
  },
  {
   "cell_type": "code",
   "execution_count": 37,
   "metadata": {},
   "outputs": [
    {
     "name": "stdout",
     "output_type": "stream",
     "text": [
      "spanish_utf8 b'espa\\xc3\\xb1ol' spanish_string español\n"
     ]
    }
   ],
   "source": [
    "spanish_utf8 = b'espa\\xc3\\xb1ol'\n",
    "spanish_string = spanish_utf8.decode('utf-8')\n",
    "print('spanish_utf8', spanish_utf8, 'spanish_string', spanish_string)"
   ]
  },
  {
   "cell_type": "markdown",
   "metadata": {},
   "source": [
    "### logical and and or works in all possible ways...\n",
    "But pythonistas use 'and' and 'or'"
   ]
  },
  {
   "cell_type": "code",
   "execution_count": 38,
   "metadata": {},
   "outputs": [
    {
     "data": {
      "text/plain": [
       "True"
      ]
     },
     "execution_count": 38,
     "metadata": {},
     "output_type": "execute_result"
    }
   ],
   "source": [
    "True & True and (False | True) & (True or False)"
   ]
  },
  {
   "cell_type": "code",
   "execution_count": 39,
   "metadata": {},
   "outputs": [
    {
     "data": {
      "text/plain": [
       "True"
      ]
     },
     "execution_count": 39,
     "metadata": {},
     "output_type": "execute_result"
    }
   ],
   "source": [
    "True and True and (False or True) and (True or False)"
   ]
  },
  {
   "cell_type": "markdown",
   "metadata": {},
   "source": [
    "### You don't cast. You call a function"
   ]
  },
  {
   "cell_type": "code",
   "execution_count": 40,
   "metadata": {},
   "outputs": [
    {
     "data": {
      "text/plain": [
       "3"
      ]
     },
     "execution_count": 40,
     "metadata": {},
     "output_type": "execute_result"
    }
   ],
   "source": [
    "int(3.14)"
   ]
  },
  {
   "cell_type": "code",
   "execution_count": 41,
   "metadata": {},
   "outputs": [
    {
     "data": {
      "text/plain": [
       "True"
      ]
     },
     "execution_count": 41,
     "metadata": {},
     "output_type": "execute_result"
    }
   ],
   "source": [
    "bool(1)"
   ]
  },
  {
   "cell_type": "code",
   "execution_count": 42,
   "metadata": {},
   "outputs": [
    {
     "data": {
      "text/plain": [
       "False"
      ]
     },
     "execution_count": 42,
     "metadata": {},
     "output_type": "execute_result"
    }
   ],
   "source": [
    "bool(0)"
   ]
  },
  {
   "cell_type": "code",
   "execution_count": 43,
   "metadata": {},
   "outputs": [
    {
     "data": {
      "text/plain": [
       "1"
      ]
     },
     "execution_count": 43,
     "metadata": {},
     "output_type": "execute_result"
    }
   ],
   "source": [
    "int(True)"
   ]
  },
  {
   "cell_type": "code",
   "execution_count": 44,
   "metadata": {},
   "outputs": [
    {
     "data": {
      "text/plain": [
       "True"
      ]
     },
     "execution_count": 44,
     "metadata": {},
     "output_type": "execute_result"
    }
   ],
   "source": [
    "# so cool. floor division is built in\n",
    "5 // 2 == math.floor(5/2)"
   ]
  },
  {
   "cell_type": "markdown",
   "metadata": {},
   "source": [
    "### Ranges are flexible and convert nicely to lists "
   ]
  },
  {
   "cell_type": "markdown",
   "metadata": {},
   "source": [
    "Unlike iterators, ranges never get tired"
   ]
  },
  {
   "cell_type": "code",
   "execution_count": 45,
   "metadata": {},
   "outputs": [
    {
     "data": {
      "text/plain": [
       "[0, 2, 4, 6, 8, 10, 12, 14, 16, 18, 20]"
      ]
     },
     "execution_count": 45,
     "metadata": {},
     "output_type": "execute_result"
    }
   ],
   "source": [
    "evens = range(0, 21, 2)\n",
    "[a for a in evens]\n",
    "[a for a in evens]  "
   ]
  },
  {
   "cell_type": "markdown",
   "metadata": {},
   "source": [
    "You can manipulate ranges"
   ]
  },
  {
   "cell_type": "code",
   "execution_count": 46,
   "metadata": {},
   "outputs": [
    {
     "data": {
      "text/plain": [
       "[4, 6, 8, 10]"
      ]
     },
     "execution_count": 46,
     "metadata": {},
     "output_type": "execute_result"
    }
   ],
   "source": [
    "[a for a in evens[2:6]]"
   ]
  },
  {
   "cell_type": "markdown",
   "metadata": {},
   "source": [
    "### Tuples are read only and very handy"
   ]
  },
  {
   "cell_type": "code",
   "execution_count": 47,
   "metadata": {},
   "outputs": [
    {
     "data": {
      "text/plain": [
       "('dog', 'cat')"
      ]
     },
     "execution_count": 47,
     "metadata": {},
     "output_type": "execute_result"
    }
   ],
   "source": [
    "critters = 'dog', 'cat'  # parentheses are optional\n",
    "critters"
   ]
  },
  {
   "cell_type": "code",
   "execution_count": 48,
   "metadata": {},
   "outputs": [
    {
     "data": {
      "text/plain": [
       "('thimble', 'gimble')"
      ]
     },
     "execution_count": 48,
     "metadata": {},
     "output_type": "execute_result"
    }
   ],
   "source": [
    "things = ('thimble', 'gimble') # i like them\n",
    "things"
   ]
  },
  {
   "cell_type": "code",
   "execution_count": 49,
   "metadata": {},
   "outputs": [
    {
     "name": "stdout",
     "output_type": "stream",
     "text": [
      "a 1 b 2\n",
      "a 2 b 1\n"
     ]
    }
   ],
   "source": [
    "# this makes sense to me\n",
    "(a, b) = (1,2)\n",
    "print('a', a, 'b', b)\n",
    "(b, a) = (a, b)\n",
    "print('a', a, 'b', b)"
   ]
  },
  {
   "cell_type": "code",
   "execution_count": 50,
   "metadata": {},
   "outputs": [
    {
     "name": "stdout",
     "output_type": "stream",
     "text": [
      "a 1 b 2\n"
     ]
    }
   ],
   "source": [
    "a, b = b, a # works fine but looks goofy to me\n",
    "print('a', a, 'b', b)"
   ]
  },
  {
   "cell_type": "markdown",
   "metadata": {},
   "source": [
    "### multiplying a list or tuple makes copies of the reference, not a deep copy"
   ]
  },
  {
   "cell_type": "code",
   "execution_count": 51,
   "metadata": {},
   "outputs": [
    {
     "data": {
      "text/plain": [
       "([1, 2, 3], [4, 5, 6], [1, 2, 3], [4, 5, 6], [1, 2, 3], [4, 5, 6])"
      ]
     },
     "execution_count": 51,
     "metadata": {},
     "output_type": "execute_result"
    }
   ],
   "source": [
    "numbers = ([1, 2, 3], [4,5,6])\n",
    "lots = numbers * 3\n",
    "lots"
   ]
  },
  {
   "cell_type": "code",
   "execution_count": 52,
   "metadata": {},
   "outputs": [
    {
     "data": {
      "text/plain": [
       "([1, 2, 3], [4, 55, 6], [1, 2, 3], [4, 55, 6], [1, 2, 3], [4, 55, 6])"
      ]
     },
     "execution_count": 52,
     "metadata": {},
     "output_type": "execute_result"
    }
   ],
   "source": [
    "lots[1][1] = 55\n",
    "lots"
   ]
  },
  {
   "cell_type": "code",
   "execution_count": 53,
   "metadata": {},
   "outputs": [
    {
     "data": {
      "text/plain": [
       "[6, 65, 6, 65, 6, 65]"
      ]
     },
     "execution_count": 53,
     "metadata": {},
     "output_type": "execute_result"
    }
   ],
   "source": [
    "[a+b+c for a, b, c in lots]"
   ]
  },
  {
   "cell_type": "code",
   "execution_count": 54,
   "metadata": {},
   "outputs": [
    {
     "data": {
      "text/plain": [
       "[[1, [2, 3]],\n",
       " [4, [55, 6]],\n",
       " [1, [2, 3]],\n",
       " [4, [55, 6]],\n",
       " [1, [2, 3]],\n",
       " [4, [55, 6]]]"
      ]
     },
     "execution_count": 54,
     "metadata": {},
     "output_type": "execute_result"
    }
   ],
   "source": [
    "# rest works in comprehensions\n",
    "[[a, rest] for a, *rest in lots]"
   ]
  },
  {
   "cell_type": "code",
   "execution_count": 55,
   "metadata": {},
   "outputs": [
    {
     "data": {
      "text/plain": [
       "[[1, 2, 3], [4, 55, 6], [1, 2, 3], [4, 55, 6], [1, 2, 3], [4, 55, 6]]"
      ]
     },
     "execution_count": 55,
     "metadata": {},
     "output_type": "execute_result"
    }
   ],
   "source": [
    "[a for a in lots]"
   ]
  },
  {
   "cell_type": "code",
   "execution_count": 56,
   "metadata": {},
   "outputs": [
    {
     "data": {
      "text/plain": [
       "[1, 4, 1, 4, 1, 4]"
      ]
     },
     "execution_count": 56,
     "metadata": {},
     "output_type": "execute_result"
    }
   ],
   "source": [
    "[a for a, *_ in lots]  # traditional to ignore rest with underscore"
   ]
  },
  {
   "cell_type": "code",
   "execution_count": 57,
   "metadata": {},
   "outputs": [
    {
     "name": "stdout",
     "output_type": "stream",
     "text": [
      "how many 1s 1\n",
      "how many 2s 2\n",
      "how many 4\n"
     ]
    }
   ],
   "source": [
    "t = (1,2,2,3)\n",
    "print('how many 1s',t.count(1))\n",
    "print('how many 2s',t.count(2))\n",
    "print('how many', len(t))"
   ]
  },
  {
   "cell_type": "code",
   "execution_count": 58,
   "metadata": {},
   "outputs": [
    {
     "data": {
      "text/plain": [
       "True"
      ]
     },
     "execution_count": 58,
     "metadata": {},
     "output_type": "execute_result"
    }
   ],
   "source": [
    "3 in t"
   ]
  },
  {
   "cell_type": "code",
   "execution_count": 59,
   "metadata": {},
   "outputs": [
    {
     "data": {
      "text/plain": [
       "1"
      ]
     },
     "execution_count": 59,
     "metadata": {},
     "output_type": "execute_result"
    }
   ],
   "source": [
    "t.index(2)"
   ]
  },
  {
   "cell_type": "code",
   "execution_count": 60,
   "metadata": {},
   "outputs": [
    {
     "data": {
      "text/plain": [
       "[1, 1, 1, 2, 2, 3, 3, 4, 5, 5, 6, 7]"
      ]
     },
     "execution_count": 60,
     "metadata": {},
     "output_type": "execute_result"
    }
   ],
   "source": [
    "a = [2,3,1,5,2,1,3,6,7,4,5,1]\n",
    "a.sort()\n",
    "a"
   ]
  },
  {
   "cell_type": "code",
   "execution_count": 61,
   "metadata": {},
   "outputs": [
    {
     "data": {
      "text/plain": [
       "[1, 1, 1, 2, 2, 3, 3, 3.2, 4, 5, 5, 6, 7]"
      ]
     },
     "execution_count": 61,
     "metadata": {},
     "output_type": "execute_result"
    }
   ],
   "source": [
    "bisect.insort(a,3.2)\n",
    "a"
   ]
  },
  {
   "cell_type": "code",
   "execution_count": null,
   "metadata": {},
   "outputs": [],
   "source": []
  }
 ],
 "metadata": {
  "kernelspec": {
   "display_name": "Python 3",
   "language": "python",
   "name": "python3"
  },
  "language_info": {
   "codemirror_mode": {
    "name": "ipython",
    "version": 3
   },
   "file_extension": ".py",
   "mimetype": "text/x-python",
   "name": "python",
   "nbconvert_exporter": "python",
   "pygments_lexer": "ipython3",
   "version": "3.6.4"
  }
 },
 "nbformat": 4,
 "nbformat_minor": 2
}
