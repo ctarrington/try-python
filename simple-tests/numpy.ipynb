{
 "cells": [
  {
   "cell_type": "code",
   "execution_count": 1,
   "metadata": {},
   "outputs": [],
   "source": [
    "import numpy as np"
   ]
  },
  {
   "cell_type": "code",
   "execution_count": 2,
   "metadata": {},
   "outputs": [
    {
     "name": "stdout",
     "output_type": "stream",
     "text": [
      "original [[ 0.23605601 -2.25153394  1.04877596 -0.71962013]\n",
      " [-2.26857921 -0.16031458  1.70148391 -0.86629486]]\n",
      "[[  23.60560134 -225.15339423  104.87759558  -71.9620132 ]\n",
      " [-226.85792093  -16.03145766  170.14839061  -86.62948615]]\n"
     ]
    }
   ],
   "source": [
    "data = np.random.randn(2,4)\n",
    "data2 = data * 100 \n",
    "print('original', data)\n",
    "print(data2)"
   ]
  },
  {
   "cell_type": "code",
   "execution_count": 3,
   "metadata": {},
   "outputs": [
    {
     "name": "stdout",
     "output_type": "stream",
     "text": [
      "[-226.85792093  -16.03145766  170.14839061  -86.62948615]\n",
      "[-226.85792093   88.          170.14839061  -86.62948615]\n"
     ]
    }
   ],
   "source": [
    "# access and mutation work like regular python lists\n",
    "print(data2[1])\n",
    "data2[1][1] = 88\n",
    "print(data2[1])"
   ]
  },
  {
   "cell_type": "code",
   "execution_count": 4,
   "metadata": {},
   "outputs": [
    {
     "name": "stdout",
     "output_type": "stream",
     "text": [
      "[[1 2 3 4]\n",
      " [5 6 7 8]]\n",
      "(2, 4)\n",
      "int64\n",
      "2\n"
     ]
    }
   ],
   "source": [
    "from_list = np.array([[1,2,3,4], [5,6,7,8]])\n",
    "print(from_list)\n",
    "print(from_list.shape)\n",
    "print(from_list.dtype)\n",
    "print(from_list.ndim)"
   ]
  },
  {
   "cell_type": "code",
   "execution_count": 5,
   "metadata": {},
   "outputs": [
    {
     "name": "stdout",
     "output_type": "stream",
     "text": [
      "[[0. 0.]\n",
      " [0. 0.]\n",
      " [0. 0.]]\n"
     ]
    }
   ],
   "source": [
    "print(np.zeros((3,2)))"
   ]
  },
  {
   "cell_type": "code",
   "execution_count": 6,
   "metadata": {},
   "outputs": [
    {
     "data": {
      "text/plain": [
       "array([[0, 2, 4, 6, 8],\n",
       "       [1, 3, 5, 7, 9]])"
      ]
     },
     "execution_count": 6,
     "metadata": {},
     "output_type": "execute_result"
    }
   ],
   "source": [
    "# can create array from native ranges\n",
    "np.array([list(range(0,10,2)), list(range(1,11,2))])"
   ]
  },
  {
   "cell_type": "code",
   "execution_count": 40,
   "metadata": {},
   "outputs": [
    {
     "data": {
      "text/plain": [
       "array(['tails', 'heads', 'heads', 'heads', 'heads', 'tails', 'heads',\n",
       "       'heads', 'heads', 'heads'], dtype='<U5')"
      ]
     },
     "execution_count": 40,
     "metadata": {},
     "output_type": "execute_result"
    }
   ],
   "source": [
    "np.random.choice(['heads', 'tails'], 10, p=[0.7, 0.3])"
   ]
  },
  {
   "cell_type": "markdown",
   "metadata": {},
   "source": [
    "### Not exactly comprehensions, but fromfunction lets you do a lot"
   ]
  },
  {
   "cell_type": "code",
   "execution_count": 7,
   "metadata": {},
   "outputs": [
    {
     "name": "stdout",
     "output_type": "stream",
     "text": [
      "[[0 2 4 6 8]\n",
      " [1 3 5 7 9]]\n",
      "[[0 2 4 6 8]\n",
      " [1 3 5 7 9]]\n"
     ]
    }
   ],
   "source": [
    "def calc(i,j):\n",
    "    return i + 2 * j\n",
    "\n",
    "print(np.fromfunction(calc, (2,5), dtype = int))\n",
    "\n",
    "# or\n",
    "\n",
    "print(np.fromfunction(lambda i, j: i + 2 *j, (2,5), dtype = int))\n"
   ]
  },
  {
   "cell_type": "markdown",
   "metadata": {},
   "source": [
    "### Vector operations make for some clean code"
   ]
  },
  {
   "cell_type": "code",
   "execution_count": 34,
   "metadata": {},
   "outputs": [
    {
     "name": "stdout",
     "output_type": "stream",
     "text": [
      "[[ 73.         135.          17.66986082]\n",
      " [ 74.         225.          28.65920633]\n",
      " [ 66.         201.          32.18498173]]\n"
     ]
    }
   ],
   "source": [
    "heights_inches = np.array([73, 74, 66]) \n",
    "weights_lbs = np.array([135, 225, 201])\n",
    "\n",
    "heights = heights_inches * 0.0254\n",
    "weights = weights_lbs * 0.45\n",
    "\n",
    "bmis = weights / (heights * heights)\n",
    "\n",
    "print(np.column_stack((heights_inches, weights_lbs, bmis)))"
   ]
  },
  {
   "cell_type": "code",
   "execution_count": null,
   "metadata": {},
   "outputs": [],
   "source": []
  }
 ],
 "metadata": {
  "kernelspec": {
   "display_name": "Python 3",
   "language": "python",
   "name": "python3"
  },
  "language_info": {
   "codemirror_mode": {
    "name": "ipython",
    "version": 3
   },
   "file_extension": ".py",
   "mimetype": "text/x-python",
   "name": "python",
   "nbconvert_exporter": "python",
   "pygments_lexer": "ipython3",
   "version": "3.6.4"
  }
 },
 "nbformat": 4,
 "nbformat_minor": 2
}
