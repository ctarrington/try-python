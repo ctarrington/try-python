{
 "cells": [
  {
   "cell_type": "code",
   "execution_count": 1,
   "metadata": {},
   "outputs": [
    {
     "name": "stderr",
     "output_type": "stream",
     "text": [
      "Using TensorFlow backend.\n"
     ]
    },
    {
     "name": "stdout",
     "output_type": "stream",
     "text": [
      "4\n"
     ]
    },
    {
     "name": "stdout",
     "output_type": "stream",
     "text": [
      "\nINSTALLED VERSIONS\n------------------\ncommit: None\npython: 3.6.8.final.0\npython-bits: 64\nOS: Linux\nOS-release: 4.15.0-43-generic\nmachine: x86_64\nprocessor: x86_64\nbyteorder: little\nLC_ALL: None\nLANG: None\nLOCALE: None.None\n\npandas: 0.24.1\npytest: 4.2.0\npip: 19.0.1\nsetuptools: 40.7.3\nCython: 0.29.4\nnumpy: 1.15.4\nscipy: 1.2.0\npyarrow: None\nxarray: None\nIPython: 7.2.0\nsphinx: 1.8.4\npatsy: 0.5.1\ndateutil: 2.7.5\npytz: 2018.9\nblosc: None\nbottleneck: 1.2.1\ntables: 3.4.4\nnumexpr: 2.6.9\nfeather: None\nmatplotlib: 3.0.2\nopenpyxl: 2.5.14\nxlrd: 1.2.0\nxlwt: 1.3.0\nxlsxwriter: 1.1.2\nlxml.etree: 4.3.0\nbs4: 4.7.1\nhtml5lib: 1.0.1\nsqlalchemy: 1.2.17\npymysql: None\npsycopg2: None\njinja2: 2.10\ns3fs: None\nfastparquet: None\npandas_gbq: None\npandas_datareader: None\ngcsfs: None\npd: None\ntf: 1.12.0\nkeras: 2.2.4\n"
     ]
    }
   ],
   "source": [
    "import sys\n",
    "\n",
    "import pandas as pd\n",
    "\n",
    "import tensorflow as tf\n",
    "import keras\n",
    "\n",
    "print(2+2)\n",
    "\n",
    "print('pd:', pd.show_versions(as_json=False))\n",
    "print('tf:', tf.__version__)\n",
    "print('keras:', keras.__version__)"
   ]
  },
  {
   "cell_type": "code",
   "execution_count": null,
   "metadata": {},
   "outputs": [],
   "source": []
  }
 ],
 "metadata": {
  "kernelspec": {
   "display_name": "Python 3",
   "language": "python",
   "name": "python3"
  },
  "language_info": {
   "codemirror_mode": {
    "name": "ipython",
    "version": 3
   },
   "file_extension": ".py",
   "mimetype": "text/x-python",
   "name": "python",
   "nbconvert_exporter": "python",
   "pygments_lexer": "ipython3",
   "version": "3.6.8"
  }
 },
 "nbformat": 4,
 "nbformat_minor": 2
}
