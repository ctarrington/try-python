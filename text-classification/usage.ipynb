{
 "cells": [
  {
   "cell_type": "code",
   "execution_count": null,
   "metadata": {},
   "outputs": [],
   "source": [
    "import json\n",
    "\n",
    "import pandas as pd\n",
    "\n",
    "from sklearn.feature_extraction.text import TfidfVectorizer,CountVectorizer\n",
    "\n",
    "from prepare import read_and_normalize, prepare\n",
    "\n",
    "\n",
    "    "
   ]
  },
  {
   "cell_type": "code",
   "execution_count": null,
   "metadata": {},
   "outputs": [],
   "source": [
    "labeled_data = read_and_normalize('data/labeled_descriptions.json')\n",
    "unlabeled_data = read_and_normalize('data/unlabeled_descriptions.json')\n",
    "\n",
    "# vectorizer = TfidfVectorizer()\n",
    "vectorizer = CountVectorizer()\n",
    "\n",
    "labeled_occurances, unlabeled_occurances, labels, encoder = \\\n",
    "    prepare(vectorizer, labeled_data, unlabeled_data, 'words', 'label')\n",
    "\n",
    "print(labeled_data)\n",
    "print(labeled_occurances.toarray())\n",
    "print(labels)\n",
    "print(unlabeled_data)\n",
    "print(unlabeled_occurances.toarray())\n",
    "print(vectorizer.get_feature_names())"
   ]
  },
  {
   "cell_type": "code",
   "execution_count": null,
   "metadata": {},
   "outputs": [],
   "source": []
  }
 ],
 "metadata": {
  "kernelspec": {
   "display_name": "Python [conda env:for-kaggle]",
   "language": "python",
   "name": "conda-env-for-kaggle-py"
  },
  "language_info": {
   "codemirror_mode": {
    "name": "ipython",
    "version": 3
   },
   "file_extension": ".py",
   "mimetype": "text/x-python",
   "name": "python",
   "nbconvert_exporter": "python",
   "pygments_lexer": "ipython3",
   "version": "3.7.0"
  }
 },
 "nbformat": 4,
 "nbformat_minor": 2
}
