{
  "nbformat": 4,
  "nbformat_minor": 0,
  "metadata": {
    "colab": {
      "name": "tuples.ipynb",
      "provenance": [],
      "authorship_tag": "ABX9TyOnpQDTZApWgLR6YhGa3xNr",
      "include_colab_link": true
    },
    "kernelspec": {
      "name": "python3",
      "display_name": "Python 3"
    }
  },
  "cells": [
    {
      "cell_type": "markdown",
      "metadata": {
        "id": "view-in-github",
        "colab_type": "text"
      },
      "source": [
        "<a href=\"https://colab.research.google.com/github/ctarrington/try-python/blob/master/language-scraps/tuples.ipynb\" target=\"_parent\"><img src=\"https://colab.research.google.com/assets/colab-badge.svg\" alt=\"Open In Colab\"/></a>"
      ]
    },
    {
      "cell_type": "code",
      "metadata": {
        "id": "q6-oAMWFpeEh",
        "colab_type": "code",
        "colab": {}
      },
      "source": [
        "from collections import namedtuple\n",
        "from itertools import islice\n",
        "\n",
        "from matplotlib.pyplot import plot\n",
        "from matplotlib import pyplot as plt"
      ],
      "execution_count": 1,
      "outputs": []
    },
    {
      "cell_type": "code",
      "metadata": {
        "id": "VmXMU7vUyYN9",
        "colab_type": "code",
        "colab": {
          "base_uri": "https://localhost:8080/",
          "height": 71
        },
        "outputId": "72b59198-9c09-42f1-d704-74ef60542717"
      },
      "source": [
        "list_of_tuples = tuple( (x,y) for x in range(3) for y in range(2) )\n",
        "print('Not a generator!!')\n",
        "print(list_of_tuples)\n",
        "print(type(list_of_tuples[0]))\n"
      ],
      "execution_count": 2,
      "outputs": [
        {
          "output_type": "stream",
          "text": [
            "Not a generator!!\n",
            "((0, 0), (0, 1), (1, 0), (1, 1), (2, 0), (2, 1))\n",
            "<class 'tuple'>\n"
          ],
          "name": "stdout"
        }
      ]
    },
    {
      "cell_type": "code",
      "metadata": {
        "id": "rN47-zvJo4i6",
        "colab_type": "code",
        "colab": {
          "base_uri": "https://localhost:8080/",
          "height": 35
        },
        "outputId": "35164a63-a0bb-43be-88ae-8c056f603bfc"
      },
      "source": [
        "# place the parenthese carefully or else!\n",
        "pairs = (tuple((x,y)) for x in range(1_000_000_000_000) for y in range(5))\n",
        "print(pairs)"
      ],
      "execution_count": 3,
      "outputs": [
        {
          "output_type": "stream",
          "text": [
            "<generator object <genexpr> at 0x7f3e70bf9938>\n"
          ],
          "name": "stdout"
        }
      ]
    },
    {
      "cell_type": "code",
      "metadata": {
        "id": "qpBJxtyQpWJC",
        "colab_type": "code",
        "colab": {
          "base_uri": "https://localhost:8080/",
          "height": 287
        },
        "outputId": "72493253-c887-410d-eacf-029ffb89e982"
      },
      "source": [
        "print('lazy generation is the bomb! keep running the cell to see more')\n",
        "for pair in islice(pairs,4):\n",
        "  plot(*pair, 'o')\n",
        "plt.ylim(0, 4)\n",
        "plt.show()"
      ],
      "execution_count": 17,
      "outputs": [
        {
          "output_type": "stream",
          "text": [
            "lazy generation is the bomb! keep running the cell to see more\n"
          ],
          "name": "stdout"
        },
        {
          "output_type": "display_data",
          "data": {
            "image/png": "[encoded data removed]",
            "text/plain": [
              "<Figure size 432x288 with 1 Axes>"
            ]
          },
          "metadata": {
            "tags": [],
            "needs_background": "light"
          }
        }
      ]
    },
    {
      "cell_type": "code",
      "metadata": {
        "id": "x1gUpI28tygE",
        "colab_type": "code",
        "colab": {
          "base_uri": "https://localhost:8080/",
          "height": 35
        },
        "outputId": "03494a39-73a2-4563-a2c5-0a924366407a"
      },
      "source": [
        "Pair = namedtuple('Pair', 'x y')\n",
        "p = Pair(1,4)\n",
        "\n",
        "npairs = (Pair(x=j,y=k) for j in range(1_000_000_000_000) for k in range(6) )\n",
        "print(npairs)"
      ],
      "execution_count": 5,
      "outputs": [
        {
          "output_type": "stream",
          "text": [
            "<generator object <genexpr> at 0x7f3e70bf9a40>\n"
          ],
          "name": "stdout"
        }
      ]
    },
    {
      "cell_type": "code",
      "metadata": {
        "id": "QIV9rBalyE4R",
        "colab_type": "code",
        "colab": {
          "base_uri": "https://localhost:8080/",
          "height": 269
        },
        "outputId": "02ed139c-9dd9-4041-c1e2-3fc0fef48631"
      },
      "source": [
        "for pair in islice(npairs, 5):\n",
        "  plot(pair.x, pair.y, 'o')\n",
        "plt.ylim(0,5)\n",
        "plt.show()"
      ],
      "execution_count": 10,
      "outputs": [
        {
          "output_type": "display_data",
          "data": {
            "image/png": "[encoded data removed]",
            "text/plain": [
              "<Figure size 432x288 with 1 Axes>"
            ]
          },
          "metadata": {
            "tags": [],
            "needs_background": "light"
          }
        }
      ]
    }
  ]
}