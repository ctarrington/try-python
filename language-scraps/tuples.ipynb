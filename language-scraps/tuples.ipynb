{
  "nbformat": 4,
  "nbformat_minor": 0,
  "metadata": {
    "colab": {
      "name": "tuples.ipynb",
      "provenance": [],
      "authorship_tag": "ABX9TyOvSSTiJ0EV+svyJo6OG03C",
      "include_colab_link": true
    },
    "kernelspec": {
      "name": "python3",
      "display_name": "Python 3"
    }
  },
  "cells": [
    {
      "cell_type": "markdown",
      "metadata": {
        "id": "view-in-github",
        "colab_type": "text"
      },
      "source": [
        "<a href=\"https://colab.research.google.com/github/ctarrington/try-python/blob/master/language-scraps/tuples.ipynb\" target=\"_parent\"><img src=\"https://colab.research.google.com/assets/colab-badge.svg\" alt=\"Open In Colab\"/></a>"
      ]
    },
    {
      "cell_type": "code",
      "metadata": {
        "id": "q6-oAMWFpeEh",
        "colab_type": "code",
        "colab": {}
      },
      "source": [
        "from collections import namedtuple\n",
        "from itertools import islice\n",
        "\n",
        "from matplotlib.pyplot import plot\n",
        "from matplotlib import pyplot as plt"
      ],
      "execution_count": 1,
      "outputs": []
    },
    {
      "cell_type": "markdown",
      "metadata": {
        "id": "Vh6dxx8oWcEG",
        "colab_type": "text"
      },
      "source": [
        "#Generators\n",
        "Generators and lists are a little twitchy and the stakes are high"
      ]
    },
    {
      "cell_type": "code",
      "metadata": {
        "id": "VmXMU7vUyYN9",
        "colab_type": "code",
        "colab": {
          "base_uri": "https://localhost:8080/",
          "height": 68
        },
        "outputId": "d67083db-5aec-4f9a-d936-0f61842046d1"
      },
      "source": [
        "tuple_of_tuples = tuple( (x,y) for x in range(3) for y in range(2) )\n",
        "print('Not a generator!!')\n",
        "print(type(tuple_of_tuples), tuple_of_tuples)\n",
        "print(type(tuple_of_tuples[0]), tuple_of_tuples[0])\n"
      ],
      "execution_count": 2,
      "outputs": [
        {
          "output_type": "stream",
          "text": [
            "Not a generator!!\n",
            "<class 'tuple'> ((0, 0), (0, 1), (1, 0), (1, 1), (2, 0), (2, 1))\n",
            "<class 'tuple'> (0, 0)\n"
          ],
          "name": "stdout"
        }
      ]
    },
    {
      "cell_type": "code",
      "metadata": {
        "id": "rN47-zvJo4i6",
        "colab_type": "code",
        "colab": {
          "base_uri": "https://localhost:8080/",
          "height": 34
        },
        "outputId": "a48ae71b-c4e1-4814-aad3-9d5c3b85cd65"
      },
      "source": [
        "# place the parenthese carefully or else!\n",
        "pairs = (tuple((x,y)) for x in range(1_000_000_000_000) for y in range(5))\n",
        "print(pairs)"
      ],
      "execution_count": 3,
      "outputs": [
        {
          "output_type": "stream",
          "text": [
            "<generator object <genexpr> at 0x7f4c4933f938>\n"
          ],
          "name": "stdout"
        }
      ]
    },
    {
      "cell_type": "code",
      "metadata": {
        "id": "qpBJxtyQpWJC",
        "colab_type": "code",
        "colab": {
          "base_uri": "https://localhost:8080/",
          "height": 286
        },
        "outputId": "5b243070-4015-4c58-908b-8db0e5843b21"
      },
      "source": [
        "print('lazy generation is the bomb! keep running the cell to see more')\n",
        "for pair in islice(pairs,4):\n",
        "  plot(*pair, 'o')\n",
        "plt.ylim(0, 4)\n",
        "plt.show()"
      ],
      "execution_count": 20,
      "outputs": [
        {
          "output_type": "stream",
          "text": [
            "lazy generation is the bomb! keep running the cell to see more\n"
          ],
          "name": "stdout"
        },
        {
          "output_type": "display_data",
          "data": {
            "image/png": "[encoded data removed]",
            "text/plain": [
              "<Figure size 432x288 with 1 Axes>"
            ]
          },
          "metadata": {
            "tags": [],
            "needs_background": "light"
          }
        }
      ]
    },
    {
      "cell_type": "code",
      "metadata": {
        "id": "x1gUpI28tygE",
        "colab_type": "code",
        "colab": {
          "base_uri": "https://localhost:8080/",
          "height": 34
        },
        "outputId": "b1a21341-2749-46e7-f170-5850e7e0c0bc"
      },
      "source": [
        "Pair = namedtuple('Pair', 'x y')\n",
        "p = Pair(1,4)\n",
        "\n",
        "npairs = (Pair(x=j,y=k) for j in range(1_000_000_000_000) for k in range(6) )\n",
        "print(npairs)"
      ],
      "execution_count": 5,
      "outputs": [
        {
          "output_type": "stream",
          "text": [
            "<generator object <genexpr> at 0x7f4c4933fbf8>\n"
          ],
          "name": "stdout"
        }
      ]
    },
    {
      "cell_type": "code",
      "metadata": {
        "id": "QIV9rBalyE4R",
        "colab_type": "code",
        "colab": {
          "base_uri": "https://localhost:8080/",
          "height": 269
        },
        "outputId": "9f0a9ded-4823-4dbb-aa1e-873176157e1c"
      },
      "source": [
        "for pair in islice(npairs, 5):\n",
        "  plot(pair.x, pair.y, 'o')\n",
        "plt.ylim(0,5)\n",
        "plt.show()"
      ],
      "execution_count": 6,
      "outputs": [
        {
          "output_type": "display_data",
          "data": {
            "image/png": "[encoded data removed]",
            "text/plain": [
              "<Figure size 432x288 with 1 Axes>"
            ]
          },
          "metadata": {
            "tags": [],
            "needs_background": "light"
          }
        }
      ]
    },
    {
      "cell_type": "code",
      "metadata": {
        "id": "BHechNG8Tw_A",
        "colab_type": "code",
        "colab": {
          "base_uri": "https://localhost:8080/",
          "height": 34
        },
        "outputId": "6400a62e-86fa-4608-9dd4-7c472f09380e"
      },
      "source": [
        "tuple_odds = (1,3,5,7) \n",
        "print('tuple_odds', tuple_odds)"
      ],
      "execution_count": 7,
      "outputs": [
        {
          "output_type": "stream",
          "text": [
            "tuple_odds (1, 3, 5, 7)\n"
          ],
          "name": "stdout"
        }
      ]
    },
    {
      "cell_type": "code",
      "metadata": {
        "id": "qSWD3LBXT9LI",
        "colab_type": "code",
        "colab": {
          "base_uri": "https://localhost:8080/",
          "height": 34
        },
        "outputId": "4922af17-0154-466f-f85a-3f72e288120e"
      },
      "source": [
        "*one_three, five, seven = tuple_odds\n",
        "print(one_three, five, seven)"
      ],
      "execution_count": 8,
      "outputs": [
        {
          "output_type": "stream",
          "text": [
            "[1, 3] 5 7\n"
          ],
          "name": "stdout"
        }
      ]
    },
    {
      "cell_type": "markdown",
      "metadata": {
        "id": "OjQfRUgrWVvi",
        "colab_type": "text"
      },
      "source": [
        "## Unpacking is pretty powerful"
      ]
    },
    {
      "cell_type": "code",
      "metadata": {
        "id": "dlHkrgGKUjwf",
        "colab_type": "code",
        "colab": {
          "base_uri": "https://localhost:8080/",
          "height": 34
        },
        "outputId": "6aa5e377-2e0a-4b7e-bf9d-474a3106ea60"
      },
      "source": [
        "one, *three_five, seven = tuple_odds\n",
        "print(one, three_five, seven)"
      ],
      "execution_count": 9,
      "outputs": [
        {
          "output_type": "stream",
          "text": [
            "1 [3, 5] 7\n"
          ],
          "name": "stdout"
        }
      ]
    },
    {
      "cell_type": "code",
      "metadata": {
        "id": "WjggPBZjUy68",
        "colab_type": "code",
        "colab": {
          "base_uri": "https://localhost:8080/",
          "height": 68
        },
        "outputId": "9f7eaec3-763f-492c-cf56-d825be299557"
      },
      "source": [
        "lookup = ('ted', (123, 456, 7890))\n",
        "name, numbers = lookup\n",
        "print(name)\n",
        "print(numbers)\n",
        "\n",
        "name, (code, prefix, number) = lookup\n",
        "print('%s (%d)-%d-%d' % (name, code, prefix, number))"
      ],
      "execution_count": 10,
      "outputs": [
        {
          "output_type": "stream",
          "text": [
            "ted\n",
            "(123, 456, 7890)\n",
            "ted (123)-456-7890\n"
          ],
          "name": "stdout"
        }
      ]
    },
    {
      "cell_type": "markdown",
      "metadata": {
        "id": "gB7mQVP8Y475",
        "colab_type": "text"
      },
      "source": [
        "# Slicing"
      ]
    },
    {
      "cell_type": "code",
      "metadata": {
        "id": "Lnd3PqhlVZOb",
        "colab_type": "code",
        "colab": {
          "base_uri": "https://localhost:8080/",
          "height": 34
        },
        "outputId": "48d5ce31-6891-4c49-dae5-17ada36f3249"
      },
      "source": [
        "tuple_evens = (2,4,6,8,10)\n",
        "#  *two_four, six, *eight_ten = tuple_evens\n",
        "#  nope: SyntaxError: two starred expressions in assignment\n",
        "\n",
        "two_four, six, eight_ten = tuple_evens[:2], tuple_evens[2], tuple_evens[3:]\n",
        "print(two_four, six, eight_ten)"
      ],
      "execution_count": 11,
      "outputs": [
        {
          "output_type": "stream",
          "text": [
            "(2, 4) 6 (8, 10)\n"
          ],
          "name": "stdout"
        }
      ]
    },
    {
      "cell_type": "markdown",
      "metadata": {
        "id": "plOxQKyaZ8lu",
        "colab_type": "text"
      },
      "source": [
        "# Named Slicing"
      ]
    },
    {
      "cell_type": "code",
      "metadata": {
        "id": "PK9V8EmBX6ZK",
        "colab_type": "code",
        "colab": {
          "base_uri": "https://localhost:8080/",
          "height": 34
        },
        "outputId": "dee08715-6f72-4dd4-9ac1-31b70b7907ff"
      },
      "source": [
        "ODDS = slice(1, 10, 2)\n",
        "\n",
        "some_numbers = tuple(range(11))\n",
        "odds = some_numbers[ODDS]\n",
        "print(odds)\n",
        "\n"
      ],
      "execution_count": 12,
      "outputs": [
        {
          "output_type": "stream",
          "text": [
            "(1, 3, 5, 7, 9)\n"
          ],
          "name": "stdout"
        }
      ]
    },
    {
      "cell_type": "markdown",
      "metadata": {
        "id": "KoXj66LNcEVt",
        "colab_type": "text"
      },
      "source": [
        "## Slicing on lazy things produces lazy things!!"
      ]
    },
    {
      "cell_type": "code",
      "metadata": {
        "id": "RuKsdMCOZehY",
        "colab_type": "code",
        "colab": {
          "base_uri": "https://localhost:8080/",
          "height": 68
        },
        "outputId": "2a26d61f-4eab-4303-fc77-9027cb0004d2"
      },
      "source": [
        "lazy_numbers = range(11)\n",
        "print(type(lazy_numbers), lazy_numbers)\n",
        "\n",
        "lazy_odds = lazy_numbers[1:11:2]\n",
        "print('lazy_odds', type(lazy_odds), lazy_odds)\n",
        "print('take', tuple(lazy_odds))"
      ],
      "execution_count": 27,
      "outputs": [
        {
          "output_type": "stream",
          "text": [
            "<class 'range'> range(0, 11)\n",
            "lazy_odds <class 'range'> range(1, 11, 2)\n",
            "take (1, 3, 5, 7, 9)\n"
          ],
          "name": "stdout"
        }
      ]
    },
    {
      "cell_type": "code",
      "metadata": {
        "id": "4JLzEfU4bgpA",
        "colab_type": "code",
        "colab": {}
      },
      "source": [
        ""
      ],
      "execution_count": null,
      "outputs": []
    }
  ]
}