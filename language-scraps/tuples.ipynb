{
  "nbformat": 4,
  "nbformat_minor": 0,
  "metadata": {
    "colab": {
      "name": "tuples.ipynb",
      "provenance": [],
      "authorship_tag": "ABX9TyOI3dHG1ADPHd4DyB3SRLvK",
      "include_colab_link": true
    },
    "kernelspec": {
      "name": "python3",
      "display_name": "Python 3"
    }
  },
  "cells": [
    {
      "cell_type": "markdown",
      "metadata": {
        "id": "view-in-github",
        "colab_type": "text"
      },
      "source": [
        "<a href=\"https://colab.research.google.com/github/ctarrington/try-python/blob/master/language-scraps/tuples.ipynb\" target=\"_parent\"><img src=\"https://colab.research.google.com/assets/colab-badge.svg\" alt=\"Open In Colab\"/></a>"
      ]
    },
    {
      "cell_type": "code",
      "metadata": {
        "id": "q6-oAMWFpeEh",
        "colab_type": "code",
        "colab": {}
      },
      "source": [
        "from collections import namedtuple\n",
        "from itertools import islice\n",
        "\n",
        "from matplotlib.pyplot import plot\n",
        "from matplotlib import pyplot as plt"
      ],
      "execution_count": 28,
      "outputs": []
    },
    {
      "cell_type": "markdown",
      "metadata": {
        "id": "Vh6dxx8oWcEG",
        "colab_type": "text"
      },
      "source": [
        "#Generators\n",
        "Generators and lists are a little twitchy and the stakes are high"
      ]
    },
    {
      "cell_type": "code",
      "metadata": {
        "id": "VmXMU7vUyYN9",
        "colab_type": "code",
        "colab": {
          "base_uri": "https://localhost:8080/",
          "height": 68
        },
        "outputId": "ab69c549-9ea4-4dc2-b71c-3de310f9b82f"
      },
      "source": [
        "tuple_of_tuples = tuple( (x,y) for x in range(3) for y in range(2) )\n",
        "print('Not a generator!!')\n",
        "print(type(tuple_of_tuples), tuple_of_tuples)\n",
        "print(type(tuple_of_tuples[0]), tuple_of_tuples[0])\n"
      ],
      "execution_count": 29,
      "outputs": [
        {
          "output_type": "stream",
          "text": [
            "Not a generator!!\n",
            "<class 'tuple'> ((0, 0), (0, 1), (1, 0), (1, 1), (2, 0), (2, 1))\n",
            "<class 'tuple'> (0, 0)\n"
          ],
          "name": "stdout"
        }
      ]
    },
    {
      "cell_type": "code",
      "metadata": {
        "id": "rN47-zvJo4i6",
        "colab_type": "code",
        "colab": {
          "base_uri": "https://localhost:8080/",
          "height": 34
        },
        "outputId": "9666783a-c23c-4196-b9fe-6aeac639274f"
      },
      "source": [
        "# place the parenthese carefully or else!\n",
        "pairs = (tuple((x,y)) for x in range(1_000_000_000_000) for y in range(5))\n",
        "print(pairs)"
      ],
      "execution_count": 30,
      "outputs": [
        {
          "output_type": "stream",
          "text": [
            "<generator object <genexpr> at 0x7f4c4825be08>\n"
          ],
          "name": "stdout"
        }
      ]
    },
    {
      "cell_type": "code",
      "metadata": {
        "id": "qpBJxtyQpWJC",
        "colab_type": "code",
        "colab": {
          "base_uri": "https://localhost:8080/",
          "height": 286
        },
        "outputId": "758a9d7e-560b-44a3-f145-211cbf280474"
      },
      "source": [
        "print('lazy generation is the bomb! keep running the cell to see more')\n",
        "for pair in islice(pairs,4):\n",
        "  plot(*pair, 'o')\n",
        "plt.ylim(0, 4)\n",
        "plt.show()"
      ],
      "execution_count": 31,
      "outputs": [
        {
          "output_type": "stream",
          "text": [
            "lazy generation is the bomb! keep running the cell to see more\n"
          ],
          "name": "stdout"
        },
        {
          "output_type": "display_data",
          "data": {
            "image/png": "[encoded data removed]",
            "text/plain": [
              "<Figure size 432x288 with 1 Axes>"
            ]
          },
          "metadata": {
            "tags": [],
            "needs_background": "light"
          }
        }
      ]
    },
    {
      "cell_type": "code",
      "metadata": {
        "id": "x1gUpI28tygE",
        "colab_type": "code",
        "colab": {
          "base_uri": "https://localhost:8080/",
          "height": 34
        },
        "outputId": "fded97e2-845c-4146-cac5-5d460ed695c5"
      },
      "source": [
        "Pair = namedtuple('Pair', 'x y')\n",
        "p = Pair(1,4)\n",
        "\n",
        "npairs = (Pair(x=j,y=k) for j in range(1_000_000_000_000) for k in range(6) )\n",
        "print(npairs)"
      ],
      "execution_count": 32,
      "outputs": [
        {
          "output_type": "stream",
          "text": [
            "<generator object <genexpr> at 0x7f4c408ee2b0>\n"
          ],
          "name": "stdout"
        }
      ]
    },
    {
      "cell_type": "code",
      "metadata": {
        "id": "QIV9rBalyE4R",
        "colab_type": "code",
        "colab": {
          "base_uri": "https://localhost:8080/",
          "height": 269
        },
        "outputId": "9e43bd88-257f-4505-b5fc-3752aa56e9fd"
      },
      "source": [
        "for pair in islice(npairs, 5):\n",
        "  plot(pair.x, pair.y, 'o')\n",
        "plt.ylim(0,5)\n",
        "plt.show()"
      ],
      "execution_count": 33,
      "outputs": [
        {
          "output_type": "display_data",
          "data": {
            "image/png": "[encoded data removed]",
            "text/plain": [
              "<Figure size 432x288 with 1 Axes>"
            ]
          },
          "metadata": {
            "tags": [],
            "needs_background": "light"
          }
        }
      ]
    },
    {
      "cell_type": "code",
      "metadata": {
        "id": "BHechNG8Tw_A",
        "colab_type": "code",
        "colab": {
          "base_uri": "https://localhost:8080/",
          "height": 34
        },
        "outputId": "cdcbfe2a-94ed-410e-c921-1071545cba9a"
      },
      "source": [
        "tuple_odds = (1,3,5,7) \n",
        "print('tuple_odds', tuple_odds)"
      ],
      "execution_count": 34,
      "outputs": [
        {
          "output_type": "stream",
          "text": [
            "tuple_odds (1, 3, 5, 7)\n"
          ],
          "name": "stdout"
        }
      ]
    },
    {
      "cell_type": "code",
      "metadata": {
        "id": "qSWD3LBXT9LI",
        "colab_type": "code",
        "colab": {
          "base_uri": "https://localhost:8080/",
          "height": 34
        },
        "outputId": "bca2e126-79a2-4dfa-92a1-2ead8843b502"
      },
      "source": [
        "*one_three, five, seven = tuple_odds\n",
        "print(one_three, five, seven)"
      ],
      "execution_count": 35,
      "outputs": [
        {
          "output_type": "stream",
          "text": [
            "[1, 3] 5 7\n"
          ],
          "name": "stdout"
        }
      ]
    },
    {
      "cell_type": "markdown",
      "metadata": {
        "id": "OjQfRUgrWVvi",
        "colab_type": "text"
      },
      "source": [
        "## Unpacking is pretty powerful"
      ]
    },
    {
      "cell_type": "code",
      "metadata": {
        "id": "dlHkrgGKUjwf",
        "colab_type": "code",
        "colab": {
          "base_uri": "https://localhost:8080/",
          "height": 34
        },
        "outputId": "6bacda39-c0c4-4f05-9bec-74034c0ae447"
      },
      "source": [
        "one, *three_five, seven = tuple_odds\n",
        "print(one, three_five, seven)"
      ],
      "execution_count": 36,
      "outputs": [
        {
          "output_type": "stream",
          "text": [
            "1 [3, 5] 7\n"
          ],
          "name": "stdout"
        }
      ]
    },
    {
      "cell_type": "code",
      "metadata": {
        "id": "WjggPBZjUy68",
        "colab_type": "code",
        "colab": {
          "base_uri": "https://localhost:8080/",
          "height": 68
        },
        "outputId": "f2e64893-5db5-4ef2-9ce1-7aaeeaa8cce9"
      },
      "source": [
        "lookup = ('ted', (123, 456, 7890))\n",
        "name, numbers = lookup\n",
        "print(name)\n",
        "print(numbers)\n",
        "\n",
        "name, (code, prefix, number) = lookup\n",
        "print('%s (%d)-%d-%d' % (name, code, prefix, number))"
      ],
      "execution_count": 37,
      "outputs": [
        {
          "output_type": "stream",
          "text": [
            "ted\n",
            "(123, 456, 7890)\n",
            "ted (123)-456-7890\n"
          ],
          "name": "stdout"
        }
      ]
    },
    {
      "cell_type": "markdown",
      "metadata": {
        "id": "gB7mQVP8Y475",
        "colab_type": "text"
      },
      "source": [
        "# Slicing"
      ]
    },
    {
      "cell_type": "code",
      "metadata": {
        "id": "Lnd3PqhlVZOb",
        "colab_type": "code",
        "colab": {
          "base_uri": "https://localhost:8080/",
          "height": 34
        },
        "outputId": "6ec5cd33-1e46-47ef-d229-a2d7171a45a8"
      },
      "source": [
        "tuple_evens = (2,4,6,8,10)\n",
        "#  *two_four, six, *eight_ten = tuple_evens\n",
        "#  nope: SyntaxError: two starred expressions in assignment\n",
        "\n",
        "two_four, six, eight_ten = tuple_evens[:2], tuple_evens[2], tuple_evens[3:]\n",
        "print(two_four, six, eight_ten)"
      ],
      "execution_count": 38,
      "outputs": [
        {
          "output_type": "stream",
          "text": [
            "(2, 4) 6 (8, 10)\n"
          ],
          "name": "stdout"
        }
      ]
    },
    {
      "cell_type": "markdown",
      "metadata": {
        "id": "plOxQKyaZ8lu",
        "colab_type": "text"
      },
      "source": [
        "# Named Slicing"
      ]
    },
    {
      "cell_type": "code",
      "metadata": {
        "id": "PK9V8EmBX6ZK",
        "colab_type": "code",
        "colab": {
          "base_uri": "https://localhost:8080/",
          "height": 34
        },
        "outputId": "fdc48562-cbf9-48ff-d69a-d8ac42ff8741"
      },
      "source": [
        "ODDS = slice(1, 10, 2)\n",
        "\n",
        "some_numbers = tuple(range(11))\n",
        "odds = some_numbers[ODDS]\n",
        "print(odds)\n",
        "\n"
      ],
      "execution_count": 39,
      "outputs": [
        {
          "output_type": "stream",
          "text": [
            "(1, 3, 5, 7, 9)\n"
          ],
          "name": "stdout"
        }
      ]
    },
    {
      "cell_type": "markdown",
      "metadata": {
        "id": "KoXj66LNcEVt",
        "colab_type": "text"
      },
      "source": [
        "## Slicing on lazy things produces lazy things!!"
      ]
    },
    {
      "cell_type": "code",
      "metadata": {
        "id": "RuKsdMCOZehY",
        "colab_type": "code",
        "colab": {
          "base_uri": "https://localhost:8080/",
          "height": 68
        },
        "outputId": "50c3e0a8-7318-41cf-af5a-0a9f67f3c95b"
      },
      "source": [
        "lazy_numbers = range(11)\n",
        "print(type(lazy_numbers), lazy_numbers)\n",
        "\n",
        "lazy_odds = lazy_numbers[ODDS]\n",
        "print('lazy_odds', type(lazy_odds), lazy_odds)\n",
        "print('take', tuple(lazy_odds))"
      ],
      "execution_count": 46,
      "outputs": [
        {
          "output_type": "stream",
          "text": [
            "<class 'range'> range(0, 11)\n",
            "lazy_odds <class 'range'> range(1, 10, 2)\n",
            "take (1, 3, 5, 7, 9)\n"
          ],
          "name": "stdout"
        }
      ]
    },
    {
      "cell_type": "code",
      "metadata": {
        "id": "4JLzEfU4bgpA",
        "colab_type": "code",
        "colab": {
          "base_uri": "https://localhost:8080/",
          "height": 34
        },
        "outputId": "1164c9f7-3182-4558-9a84-84cf050ce94a"
      },
      "source": [
        "# when changing non-contiguous slice the size must match\n",
        "mutable_numbers = list(range(10))\n",
        "mutable_numbers[ODDS] = [10,30,50,70,90]\n",
        "print(mutable_numbers)"
      ],
      "execution_count": 51,
      "outputs": [
        {
          "output_type": "stream",
          "text": [
            "[0, 10, 2, 30, 4, 50, 6, 70, 8, 90]\n"
          ],
          "name": "stdout"
        }
      ]
    },
    {
      "cell_type": "code",
      "metadata": {
        "id": "IKxuTnaipRFZ",
        "colab_type": "code",
        "colab": {
          "base_uri": "https://localhost:8080/",
          "height": 51
        },
        "outputId": "6fd7c1fd-dbae-4b46-a393-6a8f2794bdb3"
      },
      "source": [
        "# no worries if contiguous\n",
        "mutable_numbers = list(range(10))\n",
        "mutable_numbers[:3] = [20]\n",
        "print(mutable_numbers)\n",
        "\n",
        "mutable_numbers = list(range(10))\n",
        "mutable_numbers[3:5] = []\n",
        "print(mutable_numbers)\n"
      ],
      "execution_count": 58,
      "outputs": [
        {
          "output_type": "stream",
          "text": [
            "[20, 3, 4, 5, 6, 7, 8, 9]\n",
            "[0, 1, 2, 5, 6, 7, 8, 9]\n"
          ],
          "name": "stdout"
        }
      ]
    },
    {
      "cell_type": "markdown",
      "metadata": {
        "id": "aT30qV17syWs",
        "colab_type": "text"
      },
      "source": [
        "## Sorting"
      ]
    },
    {
      "cell_type": "code",
      "metadata": {
        "id": "4_WNWVwiqKIP",
        "colab_type": "code",
        "colab": {
          "base_uri": "https://localhost:8080/",
          "height": 51
        },
        "outputId": "bc249cda-3352-4dcd-b487-2431926bf529"
      },
      "source": [
        "words = ['hi', 'there', 'how', 'are', 'you']\n",
        "\n",
        "# sort works in place\n",
        "nada = list.sort(words)\n",
        "print(nada)\n",
        "print(words)"
      ],
      "execution_count": 63,
      "outputs": [
        {
          "output_type": "stream",
          "text": [
            "None\n",
            "['are', 'hi', 'how', 'there', 'you']\n"
          ],
          "name": "stdout"
        }
      ]
    },
    {
      "cell_type": "code",
      "metadata": {
        "id": "Kof1FSHAr8rU",
        "colab_type": "code",
        "colab": {
          "base_uri": "https://localhost:8080/",
          "height": 51
        },
        "outputId": "308dc327-9570-4e5f-de57-f68e06f0b1f2"
      },
      "source": [
        "words = ['hi', 'there', 'how', 'are', 'you']\n",
        "\n",
        "# sorted leaves original untouched\n",
        "new_list = sorted(words, key=len)\n",
        "print(new_list)\n",
        "print(words)"
      ],
      "execution_count": 65,
      "outputs": [
        {
          "output_type": "stream",
          "text": [
            "['hi', 'how', 'are', 'you', 'there']\n",
            "['hi', 'there', 'how', 'are', 'you']\n"
          ],
          "name": "stdout"
        }
      ]
    },
    {
      "cell_type": "code",
      "metadata": {
        "id": "hnODecCIsmyC",
        "colab_type": "code",
        "colab": {}
      },
      "source": [
        ""
      ],
      "execution_count": null,
      "outputs": []
    }
  ]
}