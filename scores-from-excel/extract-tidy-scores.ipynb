{
 "cells": [
  {
   "cell_type": "code",
   "execution_count": 1,
   "metadata": {},
   "outputs": [],
   "source": [
    "import numpy as np\n",
    "\n",
    "import pandas as pd\n",
    "from pandas import Series, DataFrame\n",
    "\n",
    "import matplotlib.pyplot as plt"
   ]
  },
  {
   "cell_type": "code",
   "execution_count": 2,
   "metadata": {},
   "outputs": [
    {
     "name": "stdout",
     "output_type": "stream",
     "text": [
      "scorer Jane Doe product Acme Widget\n"
     ]
    }
   ],
   "source": [
    "raw = pd.read_excel('jane-acme-scores.xlsx', sheet_name='Product', usecols=1, header=None)\n",
    "scorer, product = raw.iloc[0][1], raw.iloc[1][1]\n",
    "print('scorer', scorer, 'product', product)"
   ]
  },
  {
   "cell_type": "code",
   "execution_count": 3,
   "metadata": {},
   "outputs": [
    {
     "name": "stdout",
     "output_type": "stream",
     "text": [
      "raw\n",
      "                          Scorer     Jane Doe Unnamed: 2  Unnamed: 3  \\\n",
      "0                       Product  Acme Widget        NaN         NaN   \n",
      "1                           NaN          NaN        NaN         NaN   \n",
      "2               Technical Specs          NaN        NaN         NaN   \n",
      "3                   Requirement        Score      Notes         NaN   \n",
      "4   Must be able to hold 20 oz             5        NaN         NaN   \n",
      "5                      Flexible            2        NaN         NaN   \n",
      "6         Gizmos to the wingnut            4        NaN         NaN   \n",
      "7                           NaN          NaN        NaN         NaN   \n",
      "8                     Packaging          NaN        NaN         NaN   \n",
      "9                   Requirement        Score      Notes         NaN   \n",
      "10         Pleasant apppearance            4        NaN         NaN   \n",
      "11                 Easy to open            1        NaN         NaN   \n",
      "12                   Recyclable            3        NaN         NaN   \n",
      "\n",
      "   Unnamed: 4  Unnamed: 5  \n",
      "0       Scale         NaN  \n",
      "1           0  No Support  \n",
      "2           1    Very Bad  \n",
      "3           2         Bad  \n",
      "4           3         Meh  \n",
      "5           4   Very Good  \n",
      "6           5   Excellent  \n",
      "7         NaN         NaN  \n",
      "8         NaN         NaN  \n",
      "9         NaN         NaN  \n",
      "10        NaN         NaN  \n",
      "11        NaN         NaN  \n",
      "12        NaN         NaN  \n"
     ]
    }
   ],
   "source": [
    "raw = pd.read_excel('jane-acme-scores.xlsx', sheet_name='Product')\n",
    "print('raw\\n', raw)\n"
   ]
  },
  {
   "cell_type": "code",
   "execution_count": 4,
   "metadata": {},
   "outputs": [
    {
     "name": "stdout",
     "output_type": "stream",
     "text": [
      "raw\n",
      "                     requirement  score  notes\n",
      "0               Technical Specs    NaN    NaN\n",
      "1                   Requirement  Score  Notes\n",
      "2   Must be able to hold 20 oz       5    NaN\n",
      "3                      Flexible      2    NaN\n",
      "4         Gizmos to the wingnut      4    NaN\n",
      "5                           NaN    NaN    NaN\n",
      "6                     Packaging    NaN    NaN\n",
      "7                   Requirement  Score  Notes\n",
      "8          Pleasant apppearance      4    NaN\n",
      "9                  Easy to open      1    NaN\n",
      "10                   Recyclable      3    NaN\n",
      "header_indexes [7, 1]\n"
     ]
    }
   ],
   "source": [
    "raw = pd.read_excel('jane-acme-scores.xlsx', sheet_name='Product', skiprows=2, usecols=2)\n",
    "raw.columns = ['requirement', 'score', 'notes']\n",
    "print('raw\\n', raw)\n",
    "header_indexes = raw.index[raw['requirement'] == 'Requirement'].tolist()\n",
    "header_indexes = list(reversed(header_indexes))\n",
    "print('header_indexes', header_indexes)\n",
    "\n"
   ]
  },
  {
   "cell_type": "code",
   "execution_count": 5,
   "metadata": {},
   "outputs": [
    {
     "data": {
      "text/html": [
       "<div>\n",
       "<style scoped>\n",
       "    .dataframe tbody tr th:only-of-type {\n",
       "        vertical-align: middle;\n",
       "    }\n",
       "\n",
       "    .dataframe tbody tr th {\n",
       "        vertical-align: top;\n",
       "    }\n",
       "\n",
       "    .dataframe thead th {\n",
       "        text-align: right;\n",
       "    }\n",
       "</style>\n",
       "<table border=\"1\" class=\"dataframe\">\n",
       "  <thead>\n",
       "    <tr style=\"text-align: right;\">\n",
       "      <th></th>\n",
       "      <th>requirement</th>\n",
       "      <th>score</th>\n",
       "      <th>notes</th>\n",
       "      <th>category</th>\n",
       "      <th>scorer</th>\n",
       "      <th>product</th>\n",
       "    </tr>\n",
       "  </thead>\n",
       "  <tbody>\n",
       "    <tr>\n",
       "      <th>8</th>\n",
       "      <td>Pleasant apppearance</td>\n",
       "      <td>4</td>\n",
       "      <td>NaN</td>\n",
       "      <td>Packaging</td>\n",
       "      <td>Jane Doe</td>\n",
       "      <td>Acme Widget</td>\n",
       "    </tr>\n",
       "    <tr>\n",
       "      <th>9</th>\n",
       "      <td>Easy to open</td>\n",
       "      <td>1</td>\n",
       "      <td>NaN</td>\n",
       "      <td>Packaging</td>\n",
       "      <td>Jane Doe</td>\n",
       "      <td>Acme Widget</td>\n",
       "    </tr>\n",
       "    <tr>\n",
       "      <th>10</th>\n",
       "      <td>Recyclable</td>\n",
       "      <td>3</td>\n",
       "      <td>NaN</td>\n",
       "      <td>Packaging</td>\n",
       "      <td>Jane Doe</td>\n",
       "      <td>Acme Widget</td>\n",
       "    </tr>\n",
       "    <tr>\n",
       "      <th>2</th>\n",
       "      <td>Must be able to hold 20 oz</td>\n",
       "      <td>5</td>\n",
       "      <td>NaN</td>\n",
       "      <td>Technical Specs</td>\n",
       "      <td>Jane Doe</td>\n",
       "      <td>Acme Widget</td>\n",
       "    </tr>\n",
       "    <tr>\n",
       "      <th>3</th>\n",
       "      <td>Flexible</td>\n",
       "      <td>2</td>\n",
       "      <td>NaN</td>\n",
       "      <td>Technical Specs</td>\n",
       "      <td>Jane Doe</td>\n",
       "      <td>Acme Widget</td>\n",
       "    </tr>\n",
       "    <tr>\n",
       "      <th>4</th>\n",
       "      <td>Gizmos to the wingnut</td>\n",
       "      <td>4</td>\n",
       "      <td>NaN</td>\n",
       "      <td>Technical Specs</td>\n",
       "      <td>Jane Doe</td>\n",
       "      <td>Acme Widget</td>\n",
       "    </tr>\n",
       "  </tbody>\n",
       "</table>\n",
       "</div>"
      ],
      "text/plain": [
       "                    requirement score notes         category    scorer  \\\n",
       "8          Pleasant apppearance     4   NaN        Packaging  Jane Doe   \n",
       "9                  Easy to open     1   NaN        Packaging  Jane Doe   \n",
       "10                   Recyclable     3   NaN        Packaging  Jane Doe   \n",
       "2   Must be able to hold 20 oz      5   NaN  Technical Specs  Jane Doe   \n",
       "3                      Flexible     2   NaN  Technical Specs  Jane Doe   \n",
       "4         Gizmos to the wingnut     4   NaN  Technical Specs  Jane Doe   \n",
       "\n",
       "        product  \n",
       "8   Acme Widget  \n",
       "9   Acme Widget  \n",
       "10  Acme Widget  \n",
       "2   Acme Widget  \n",
       "3   Acme Widget  \n",
       "4   Acme Widget  "
      ]
     },
     "execution_count": 5,
     "metadata": {},
     "output_type": "execute_result"
    }
   ],
   "source": [
    "scores = DataFrame()\n",
    "\n",
    "for hi in header_indexes:\n",
    "    category = raw.iloc[hi-1][0]\n",
    "    sub_scores = DataFrame(raw.iloc[hi+1:])\n",
    "    sub_scores['category'] = category\n",
    "    sub_scores['scorer'] = scorer\n",
    "    sub_scores['product'] = product\n",
    "    sub_scores = sub_scores[pd.notnull(sub_scores['requirement'])]\n",
    "\n",
    "    scores = scores.append(sub_scores)\n",
    "    raw = raw.iloc[0:hi-1]\n",
    "\n",
    "    \n",
    "scores    \n",
    "    "
   ]
  },
  {
   "cell_type": "code",
   "execution_count": null,
   "metadata": {},
   "outputs": [],
   "source": []
  }
 ],
 "metadata": {
  "kernelspec": {
   "display_name": "Python 3",
   "language": "python",
   "name": "python3"
  },
  "language_info": {
   "codemirror_mode": {
    "name": "ipython",
    "version": 3
   },
   "file_extension": ".py",
   "mimetype": "text/x-python",
   "name": "python",
   "nbconvert_exporter": "python",
   "pygments_lexer": "ipython3",
   "version": "3.6.4"
  }
 },
 "nbformat": 4,
 "nbformat_minor": 2
}
