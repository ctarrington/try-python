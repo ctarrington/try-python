{
 "cells": [
  {
   "cell_type": "code",
   "execution_count": null,
   "metadata": {},
   "outputs": [],
   "source": [
    "import os\n",
    "\n",
    "import numpy as np\n",
    "\n",
    "import pandas as pd\n",
    "from pandas import Series, DataFrame\n",
    "\n",
    "import matplotlib.pyplot as plt"
   ]
  },
  {
   "cell_type": "code",
   "execution_count": null,
   "metadata": {},
   "outputs": [],
   "source": [
    "weights = DataFrame()\n",
    "file = 'scores.xlsx'\n",
    "\n",
    "raw_product = pd.read_excel(file, sheet_name='Product', skiprows=2, usecols=3)\n",
    "raw_product['page'] = 'product'\n",
    "raw_company = pd.read_excel(file, sheet_name='Company', skiprows=2, usecols=3)\n",
    "raw_company['page'] = 'company'\n",
    "\n",
    "raw = raw_product.append(raw_company)\n",
    "raw = raw.reset_index(drop=True)\n",
    "raw.columns = ['requirement', 'score', 'notes', 'weight', 'page']\n",
    "del raw['score']\n",
    "del raw['notes']\n",
    "\n",
    "\n",
    "# starting at the last category\n",
    "# extract the rows for the category to the end of the df\n",
    "# remove the rows\n",
    "header_indexes = raw.index[raw['requirement'] == 'Requirement'].tolist()\n",
    "header_indexes = list(reversed(header_indexes))\n",
    "\n",
    "for hi in header_indexes:\n",
    "    category = raw.iloc[hi-1][0]\n",
    "    sub_weights = DataFrame(raw.iloc[hi+1:])\n",
    "    sub_weights['category'] = category\n",
    "    sub_weights = sub_weights[pd.notnull(sub_weights['requirement'])]\n",
    "\n",
    "    weights = weights.append(sub_weights)\n",
    "    raw = raw.iloc[0:hi-1]\n",
    "\n",
    "    \n",
    "weights = weights.reset_index(drop=True)\n",
    "weights"
   ]
  },
  {
   "cell_type": "code",
   "execution_count": null,
   "metadata": {},
   "outputs": [],
   "source": [
    "scores = DataFrame()\n",
    "files = [f for f in os.listdir('.') if f.endswith('-scores.xlsx')]\n",
    "\n",
    "for file in files:\n",
    "    raw = pd.read_excel(file, sheet_name='Product', usecols=1, header=None)\n",
    "    scorer, product = raw.iloc[0][1], raw.iloc[1][1]\n",
    "\n",
    "    raw_product = pd.read_excel(file, sheet_name='Product', skiprows=2, usecols=2)\n",
    "    raw_product['page'] = 'product'\n",
    "    raw_company = pd.read_excel(file, sheet_name='Company', skiprows=2, usecols=2)\n",
    "    raw_company['page'] = 'company'\n",
    "\n",
    "\n",
    "    raw = raw_product.append(raw_company)\n",
    "    raw = raw.reset_index(drop=True)\n",
    "    raw.columns = ['requirement', 'score', 'notes', 'page']\n",
    "\n",
    "    # starting at the last category\n",
    "    # extract the rows for the category to the end of the df\n",
    "    # remove the rows\n",
    "    header_indexes = raw.index[raw['requirement'] == 'Requirement'].tolist()\n",
    "    header_indexes = list(reversed(header_indexes))\n",
    "\n",
    "    for hi in header_indexes:\n",
    "        category = raw.iloc[hi-1][0]\n",
    "        sub_scores = DataFrame(raw.iloc[hi+1:])\n",
    "        sub_scores['category'] = category\n",
    "        sub_scores['scorer'] = scorer\n",
    "        sub_scores['product'] = product\n",
    "        sub_scores = sub_scores[pd.notnull(sub_scores['requirement'])]\n",
    "\n",
    "        scores = scores.append(sub_scores)\n",
    "        raw = raw.iloc[0:hi-1]\n",
    "\n",
    "    \n",
    "scores = scores.reset_index(drop=True)\n",
    "scores.head()\n"
   ]
  },
  {
   "cell_type": "code",
   "execution_count": null,
   "metadata": {},
   "outputs": [],
   "source": [
    "cleansed = scores.dropna(axis=0, subset=['score'])\n",
    "cleansed.loc[:,'score'] = pd.to_numeric(cleansed.loc[:,'score'])\n",
    "cleansed"
   ]
  },
  {
   "cell_type": "code",
   "execution_count": null,
   "metadata": {},
   "outputs": [],
   "source": [
    "minimums = cleansed.sort_values('score').groupby(['product','page', 'category', 'requirement'], as_index=False).first()\n",
    "maximums = cleansed.sort_values('score').groupby(['product','page', 'category', 'requirement'], as_index=False).last()\n",
    "means = cleansed.groupby(['product','page', 'category', 'requirement'], as_index=False)['score'].mean()\n",
    "counts = cleansed.groupby(['product','page', 'category', 'requirement'], as_index=False).size().reset_index(name='responses')\n",
    "\n",
    "minimums = minimums.rename({'score': 'minimum score', 'notes': 'minimum notes', 'scorer': 'minimum scorer'}, axis='columns')\n",
    "maximums = maximums.rename({'score': 'maximum score','notes': 'maximum notes', 'scorer': 'maximum scorer'}, axis='columns')\n",
    "means = means.rename({'score': 'mean score'}, axis='columns')\n",
    "\n",
    "aggregate = pd.merge(minimums, maximums, on=['product','page', 'category', 'requirement'])\n",
    "aggregate = pd.merge(aggregate, means, on=['product','page', 'category', 'requirement'])\n",
    "aggregate = pd.merge(aggregate, counts, on=['product','page', 'category', 'requirement'])\n",
    "aggregate = pd.merge(aggregate, weights, on=['page', 'category', 'requirement'])\n",
    "aggregate['mean contribution'] = aggregate['mean score'] * aggregate['weight']\n",
    "\n",
    "aggregate"
   ]
  },
  {
   "cell_type": "code",
   "execution_count": null,
   "metadata": {},
   "outputs": [],
   "source": [
    "summary_product = aggregate['mean contribution'].groupby(aggregate['product']).sum().to_frame()\n",
    "summary_product.columns = ['total weighted score']\n",
    "summary_product['count'] = aggregate['mean contribution'].groupby(aggregate['product']).count()\n",
    "summary_product"
   ]
  },
  {
   "cell_type": "code",
   "execution_count": null,
   "metadata": {},
   "outputs": [],
   "source": [
    "summary_scorer = cleansed['score'].groupby(cleansed['scorer']).mean().to_frame()\n",
    "summary_scorer.columns = ['average score']\n",
    "summary_scorer['count'] = cleansed['score'].groupby(cleansed['scorer']).count()\n",
    "\n",
    "summary_scorer"
   ]
  },
  {
   "cell_type": "code",
   "execution_count": null,
   "metadata": {},
   "outputs": [],
   "source": [
    "cleansed['min score'] = cleansed.groupby(['product','page','category', 'requirement'])['score'].transform('min')\n",
    "cleansed['max score'] = cleansed.groupby(['product','page','category', 'requirement'])['score'].transform('max')\n",
    "cleansed['mean score'] = cleansed.groupby(['product','page','category', 'requirement'])['score'].transform('mean')\n",
    "cleansed['responses'] = cleansed.groupby(['product','page','category', 'requirement'])['score'].transform('count')\n",
    "cleansed = cleansed.sort_values(by=['product','page', 'category','requirement', 'score'], ascending=[True,True,True,True,False])\n",
    "cleansed = cleansed[['product','page', 'category','requirement','scorer','score','notes','min score','mean score','max score','responses']]\n",
    "cleansed"
   ]
  },
  {
   "cell_type": "code",
   "execution_count": null,
   "metadata": {},
   "outputs": [],
   "source": []
  }
 ],
 "metadata": {
  "kernelspec": {
   "display_name": "Python 3",
   "language": "python",
   "name": "python3"
  },
  "language_info": {
   "codemirror_mode": {
    "name": "ipython",
    "version": 3
   },
   "file_extension": ".py",
   "mimetype": "text/x-python",
   "name": "python",
   "nbconvert_exporter": "python",
   "pygments_lexer": "ipython3",
   "version": "3.6.4"
  }
 },
 "nbformat": 4,
 "nbformat_minor": 2
}
