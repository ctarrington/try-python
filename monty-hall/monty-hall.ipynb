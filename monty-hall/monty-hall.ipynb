{
 "cells": [
  {
   "cell_type": "code",
   "execution_count": 1,
   "metadata": {},
   "outputs": [],
   "source": [
    "import pandas as pd\n",
    "import numpy as np\n",
    "import random"
   ]
  },
  {
   "cell_type": "code",
   "execution_count": 2,
   "metadata": {},
   "outputs": [
    {
     "name": "stdout",
     "output_type": "stream",
     "text": [
      "just_guess_hit_rate 0.33213333333333334\n",
      "switch_hit_rate 0.6678666666666667\n"
     ]
    }
   ],
   "source": [
    "def pick_other(first, second):\n",
    "    choices = set([0,1,2])\n",
    "    choices.discard(first)\n",
    "    choices.discard(second)\n",
    "        \n",
    "    return random.choice(list(choices))\n",
    "\n",
    "def calculate_reveal(row):\n",
    "    return pick_other(row['prizeDoor'], row['selectedDoor'])\n",
    "\n",
    "def calculate_switch(row):\n",
    "    return pick_other(row['selectedDoor'], row['revealedGoatDoor'])\n",
    "\n",
    "def calculate_hit_rate(rows, key):\n",
    "    return rows.query('prizeDoor == ' +key).shape[0] / rows.shape[0]\n",
    "        \n",
    "df = pd.DataFrame(np.random.randint(0,3,size=(30000, 2)), columns=('prizeDoor', 'selectedDoor'))\n",
    "df['revealedGoatDoor'] = df.apply(calculate_reveal, axis=1) \n",
    "df['newSelection'] = df.apply(calculate_switch, axis=1) \n",
    "\n",
    "print('just_guess_hit_rate', calculate_hit_rate(df, 'selectedDoor'))\n",
    "print('switch_hit_rate', calculate_hit_rate(df, 'newSelection'))\n",
    "\n"
   ]
  },
  {
   "cell_type": "code",
   "execution_count": 3,
   "metadata": {},
   "outputs": [
    {
     "data": {
      "text/html": [
       "<div>\n",
       "<style scoped>\n",
       "    .dataframe tbody tr th:only-of-type {\n",
       "        vertical-align: middle;\n",
       "    }\n",
       "\n",
       "    .dataframe tbody tr th {\n",
       "        vertical-align: top;\n",
       "    }\n",
       "\n",
       "    .dataframe thead th {\n",
       "        text-align: right;\n",
       "    }\n",
       "</style>\n",
       "<table border=\"1\" class=\"dataframe\">\n",
       "  <thead>\n",
       "    <tr style=\"text-align: right;\">\n",
       "      <th></th>\n",
       "      <th>prizeDoor</th>\n",
       "      <th>selectedDoor</th>\n",
       "      <th>revealedGoatDoor</th>\n",
       "      <th>newSelection</th>\n",
       "    </tr>\n",
       "  </thead>\n",
       "  <tbody>\n",
       "    <tr>\n",
       "      <th>0</th>\n",
       "      <td>2</td>\n",
       "      <td>1</td>\n",
       "      <td>0</td>\n",
       "      <td>2</td>\n",
       "    </tr>\n",
       "    <tr>\n",
       "      <th>1</th>\n",
       "      <td>2</td>\n",
       "      <td>1</td>\n",
       "      <td>0</td>\n",
       "      <td>2</td>\n",
       "    </tr>\n",
       "    <tr>\n",
       "      <th>2</th>\n",
       "      <td>1</td>\n",
       "      <td>2</td>\n",
       "      <td>0</td>\n",
       "      <td>1</td>\n",
       "    </tr>\n",
       "    <tr>\n",
       "      <th>3</th>\n",
       "      <td>1</td>\n",
       "      <td>2</td>\n",
       "      <td>0</td>\n",
       "      <td>1</td>\n",
       "    </tr>\n",
       "    <tr>\n",
       "      <th>4</th>\n",
       "      <td>1</td>\n",
       "      <td>1</td>\n",
       "      <td>2</td>\n",
       "      <td>0</td>\n",
       "    </tr>\n",
       "  </tbody>\n",
       "</table>\n",
       "</div>"
      ],
      "text/plain": [
       "   prizeDoor  selectedDoor  revealedGoatDoor  newSelection\n",
       "0          2             1                 0             2\n",
       "1          2             1                 0             2\n",
       "2          1             2                 0             1\n",
       "3          1             2                 0             1\n",
       "4          1             1                 2             0"
      ]
     },
     "execution_count": 3,
     "metadata": {},
     "output_type": "execute_result"
    }
   ],
   "source": [
    "df.head()"
   ]
  },
  {
   "cell_type": "code",
   "execution_count": null,
   "metadata": {},
   "outputs": [],
   "source": []
  }
 ],
 "metadata": {
  "kernelspec": {
   "display_name": "Python 3",
   "language": "python",
   "name": "python3"
  },
  "language_info": {
   "codemirror_mode": {
    "name": "ipython",
    "version": 3
   },
   "file_extension": ".py",
   "mimetype": "text/x-python",
   "name": "python",
   "nbconvert_exporter": "python",
   "pygments_lexer": "ipython3",
   "version": "3.6.4"
  }
 },
 "nbformat": 4,
 "nbformat_minor": 2
}
