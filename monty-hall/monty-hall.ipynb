{
 "cells": [
  {
   "cell_type": "code",
   "execution_count": 10,
   "metadata": {},
   "outputs": [],
   "source": [
    "import pandas as pd\n",
    "import numpy as np\n",
    "import random"
   ]
  },
  {
   "cell_type": "code",
   "execution_count": 32,
   "metadata": {},
   "outputs": [
    {
     "name": "stdout",
     "output_type": "stream",
     "text": [
      "just_guess_hit_rate 0.334\n",
      "switch_hit_rate 0.666\n"
     ]
    }
   ],
   "source": [
    "df = pd.DataFrame(np.random.randint(0,3,size=(10000, 2)), columns=('prizeDoor', 'selectedDoor'))\n",
    "\n",
    "def pick_other(first, second):\n",
    "    choices = set([0,1,2])\n",
    "    choices.discard(first)\n",
    "    choices.discard(second)\n",
    "        \n",
    "    return random.choice(list(choices))\n",
    "\n",
    "def calculate_reveal(row):\n",
    "    return pick_other(row['prizeDoor'], row['selectedDoor'])\n",
    "\n",
    "def calculate_switch(row):\n",
    "    return pick_other(row['selectedDoor'], row['revealedGoatDoor'])\n",
    "        \n",
    "\n",
    "df['revealedGoatDoor'] = df.apply(calculate_reveal, axis=1) \n",
    "df['newSelection'] = df.apply(calculate_switch, axis=1) \n",
    "\n",
    "just_guess_hit_rate = df.query('prizeDoor == selectedDoor').shape[0] / df.shape[0]\n",
    "switch_hit_rate = df.query('prizeDoor == newSelection').shape[0] / df.shape[0]\n",
    "\n",
    "print('just_guess_hit_rate', just_guess_hit_rate)\n",
    "print('switch_hit_rate', switch_hit_rate)\n",
    "\n"
   ]
  },
  {
   "cell_type": "code",
   "execution_count": null,
   "metadata": {},
   "outputs": [],
   "source": []
  }
 ],
 "metadata": {
  "kernelspec": {
   "display_name": "Python 3",
   "language": "python",
   "name": "python3"
  },
  "language_info": {
   "codemirror_mode": {
    "name": "ipython",
    "version": 3
   },
   "file_extension": ".py",
   "mimetype": "text/x-python",
   "name": "python",
   "nbconvert_exporter": "python",
   "pygments_lexer": "ipython3",
   "version": "3.6.4"
  }
 },
 "nbformat": 4,
 "nbformat_minor": 2
}
