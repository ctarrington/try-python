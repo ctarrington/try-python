{
 "cells": [
  {
   "cell_type": "code",
   "execution_count": null,
   "metadata": {
    "collapsed": true
   },
   "outputs": [],
   "source": [
    "import matplotlib.pyplot as plt\n",
    "import numpy as np\n",
    "import pandas as pd\n",
    "from scipy import stats\n",
    "import arviz as az"
   ]
  },
  {
   "cell_type": "code",
   "execution_count": null,
   "metadata": {
    "collapsed": false,
    "pycharm": {
     "name": "#%%\n"
    }
   },
   "outputs": [],
   "source": [
    "mu_params = [-1, 0, 1]\n",
    "sd_params = [0.5, 1, 1.5]\n",
    "x = np.linspace(-7, 7, num=200)\n",
    "_, subplots = plt.subplots(len(mu_params), len(sd_params), sharex=True, sharey=True,\n",
    "                     figsize=(9, 7), constrained_layout=True)\n",
    "for mu_index in range(len(mu_params)):\n",
    "    for sd_index in range(len(sd_params)):\n",
    "        mu = mu_params[mu_index]\n",
    "        sd = sd_params[sd_index]\n",
    "        y = stats.norm(mu, sd).pdf(x)\n",
    "        subplots[mu_index,sd_index].plot(x, y)\n",
    "        subplots[mu_index,sd_index].plot([], label=\"μ = {:3.2f}\\nσ = {:3.2f}\".format(mu, sd), alpha=0)\n",
    "        subplots[mu_index,sd_index].legend(loc=1)\n",
    "subplots[2,1].set_xlabel('x')\n",
    "subplots[1,0].set_ylabel('p(x)', rotation=0, labelpad=20)\n",
    "subplots[1,0].set_yticks([])"
   ]
  },
  {
   "cell_type": "code",
   "execution_count": null,
   "metadata": {
    "collapsed": false,
    "pycharm": {
     "name": "#%%\n"
    }
   },
   "outputs": [],
   "source": [
    "\n",
    "ls = np.linspace(-1, 1, 7)\n",
    "print(ls)"
   ]
  },
  {
   "cell_type": "code",
   "execution_count": null,
   "outputs": [],
   "source": [
    "np.random.seed(1)\n",
    "az.plot_posterior({'θ':stats.beta.rvs(5, 11, size=1000)})"
   ],
   "metadata": {
    "collapsed": false,
    "pycharm": {
     "name": "#%%\n"
    }
   }
  },
  {
   "cell_type": "code",
   "execution_count": null,
   "outputs": [],
   "source": [
    "n_params = [1, 2, 4]  # Number of trials\n",
    "p_params = [0.25, 0.5, 0.75]  # Probability of success\n",
    "\n",
    "x = np.arange(0, max(n_params)+1)\n",
    "f,ax = plt.subplots(len(n_params), len(p_params), sharex=True, sharey=True,\n",
    "                    figsize=(8, 7), constrained_layout=True)\n",
    "\n",
    "for i in range(len(n_params)):\n",
    "    for j in range(len(p_params)):\n",
    "        n = n_params[i]\n",
    "        p = p_params[j]\n",
    "\n",
    "        y = stats.binom(n=n, p=p).pmf(x)\n",
    "\n",
    "        ax[i,j].vlines(x, 0, y, colors='C0', lw=5)\n",
    "        ax[i,j].set_ylim(0, 1)\n",
    "        ax[i,j].plot(0, 0, label=\"N = {:3.2f}\\nθ = {:3.2f}\".format(n,p), alpha=0)\n",
    "        ax[i,j].legend()\n",
    "\n",
    "        ax[2,1].set_xlabel('y')\n",
    "        ax[1,0].set_ylabel('p(y | θ, N)')\n",
    "        ax[0,0].set_xticks(x)\n",
    "        "
   ],
   "metadata": {
    "collapsed": false,
    "pycharm": {
     "name": "#%%\n"
    }
   }
  },
  {
   "cell_type": "code",
   "execution_count": null,
   "outputs": [],
   "source": [
    "params = [0.5, 1, 2, 3]\n",
    "x = np.linspace(0, 1, 100)\n",
    "f, ax = plt.subplots(len(params), len(params), sharex=True, sharey=True,\n",
    "                     figsize=(8, 7), constrained_layout=True)\n",
    "for i in range(4):\n",
    "    for j in range(4):\n",
    "        a = params[i]\n",
    "        b = params[j]\n",
    "        y = stats.beta(a, b).pdf(x)\n",
    "        ax[i,j].plot(x, y)\n",
    "        ax[i,j].plot(0, 0, label=\"α = {:2.1f}\\nβ = {:2.1f}\".format(a, b), alpha=0)\n",
    "        ax[i,j].legend()\n",
    "ax[1,0].set_yticks([])\n",
    "ax[1,0].set_xticks([0, 0.5, 1])\n",
    "f.text(0.5, 0.05, 'θ', ha='center')\n",
    "f.text(0.07, 0.5, 'p(θ)', va='center', rotation=0)\n"
   ],
   "metadata": {
    "collapsed": false,
    "pycharm": {
     "name": "#%%\n"
    }
   }
  },
  {
   "cell_type": "code",
   "execution_count": null,
   "outputs": [],
   "source": [],
   "metadata": {
    "collapsed": false,
    "pycharm": {
     "name": "#%%\n"
    }
   }
  },
  {
   "cell_type": "code",
   "execution_count": null,
   "metadata": {},
   "outputs": [],
   "source": []
  },
  {
   "cell_type": "code",
   "execution_count": null,
   "metadata": {},
   "outputs": [],
   "source": [
    "n_params = [1, 2, 4]  # Number of trials\n",
    "p_params = [0.25, 0.5, 0.75]  # Probability of success\n",
    "\n",
    "x = np.arange(0, max(n_params)+1)\n",
    "f,ax = plt.subplots(len(n_params), len(p_params), sharex=True, sharey=True,\n",
    "                    figsize=(8, 7), constrained_layout=True)\n",
    "\n",
    "for i in range(len(n_params)):\n",
    "    for j in range(len(p_params)):\n",
    "        n = n_params[i]\n",
    "        p = p_params[j]\n",
    "\n",
    "        y = stats.binom(n=n, p=p).pmf(x)\n",
    "\n",
    "        ax[i,j].vlines(x, 0, y, colors='C0', lw=5)\n",
    "        ax[i,j].set_ylim(0, 1)\n",
    "        ax[i,j].plot(0, 0, label=\"N = {:3.2f}\\nθ = {:3.2f}\".format(n,p), alpha=0)\n",
    "        ax[i,j].legend()\n",
    "\n",
    "        ax[2,1].set_xlabel('y')\n",
    "        ax[1,0].set_ylabel('p(y | θ, N)')\n",
    "        ax[0,0].set_xticks(x)\n",
    "        "
   ]
  },
  {
   "cell_type": "code",
   "execution_count": null,
   "metadata": {},
   "outputs": [],
   "source": [
    "params = [0.5, 1, 2, 3]\n",
    "x = np.linspace(0, 1, 100)\n",
    "f, ax = plt.subplots(len(params), len(params), sharex=True, sharey=True,\n",
    "                     figsize=(8, 7), constrained_layout=True)\n",
    "for i in range(4):\n",
    "    for j in range(4):\n",
    "        a = params[i]\n",
    "        b = params[j]\n",
    "        y = stats.beta(a, b).pdf(x)\n",
    "        ax[i,j].plot(x, y)\n",
    "        ax[i,j].plot(0, 0, label=\"α = {:2.1f}\\nβ = {:2.1f}\".format(a, b), alpha=0)\n",
    "        ax[i,j].legend()\n",
    "ax[1,0].set_yticks([])\n",
    "ax[1,0].set_xticks([0, 0.5, 1])\n",
    "f.text(0.5, 0.05, 'θ', ha='center')\n",
    "f.text(0.07, 0.5, 'p(θ)', va='center', rotation=0)\n"
   ]
  },
  {
   "cell_type": "code",
   "execution_count": null,
   "metadata": {},
   "outputs": [],
   "source": []
  }
 ],
 "metadata": {
  "kernelspec": {
   "display_name": "Python 3",
   "language": "python",
   "name": "python3"
  },
  "language_info": {
   "codemirror_mode": {
    "name": "ipython",
    "version": 2
   },
   "file_extension": ".py",
   "mimetype": "text/x-python",
   "name": "python",
   "nbconvert_exporter": "python",
   "pygments_lexer": "ipython2",
   "version": "2.7.6"
  }
 },
 "nbformat": 4,
 "nbformat_minor": 0
}