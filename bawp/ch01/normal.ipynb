{
 "cells": [
  {
   "cell_type": "code",
   "execution_count": null,
   "metadata": {
    "collapsed": true,
    "pycharm": {
     "is_executing": false
    }
   },
   "outputs": [],
   "source": [
    "import matplotlib.pyplot as plt\n",
    "import numpy as np\n",
    "import pandas as pd\n",
    "from scipy import stats\n",
    "import arviz as az"
   ]
  },
  {
   "cell_type": "code",
   "execution_count": null,
   "outputs": [],
   "source": [
    "mu_params = [-1, 0, 1]\n",
    "sd_params = [0.5, 1, 1.5]\n",
    "x = np.linspace(-7, 7, 200)\n",
    "_, subplots = plt.subplots(len(mu_params), len(sd_params), sharex=True, sharey=True,\n",
    "                     figsize=(9, 7), constrained_layout=True)\n",
    "for mu_index in range(len(mu_params)):\n",
    "    for sd_index in range(len(sd_params)):\n",
    "        mu = mu_params[mu_index]\n",
    "        sd = sd_params[sd_index]\n",
    "        y = stats.norm(mu, sd).pdf(x)\n",
    "        subplots[mu_index,sd_index].plot(x, y)\n",
    "        subplots[mu_index,sd_index].plot([], label=\"μ = {:3.2f}\\nσ = {:3.2f}\".format(mu, sd), alpha=0)\n",
    "        subplots[mu_index,sd_index].legend(loc=1)\n",
    "subplots[2,1].set_xlabel('x')\n",
    "subplots[1,0].set_ylabel('p(x)', rotation=0, labelpad=20)\n",
    "subplots[1,0].set_yticks([])"
   ],
   "metadata": {
    "collapsed": false,
    "pycharm": {
     "name": "#%%\n",
     "is_executing": false
    }
   }
  },
  {
   "cell_type": "code",
   "execution_count": null,
   "outputs": [],
   "source": [
    "\n"
   ],
   "metadata": {
    "collapsed": false,
    "pycharm": {
     "name": "#%%\n",
     "is_executing": false
    }
   }
  }
 ],
 "metadata": {
  "kernelspec": {
   "display_name": "Python 3",
   "language": "python",
   "name": "python3"
  },
  "language_info": {
   "codemirror_mode": {
    "name": "ipython",
    "version": 2
   },
   "file_extension": ".py",
   "mimetype": "text/x-python",
   "name": "python",
   "nbconvert_exporter": "python",
   "pygments_lexer": "ipython2",
   "version": "2.7.6"
  },
  "pycharm": {
   "stem_cell": {
    "cell_type": "raw",
    "source": [],
    "metadata": {
     "collapsed": false
    }
   }
  }
 },
 "nbformat": 4,
 "nbformat_minor": 0
}