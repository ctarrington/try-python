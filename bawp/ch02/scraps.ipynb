{
 "cells": [
  {
   "cell_type": "code",
   "execution_count": 1,
   "metadata": {
    "collapsed": true
   },
   "outputs": [],
   "source": [
    "import matplotlib.pyplot as plt\n",
    "import scipy.stats as stats\n",
    "import numpy as np\n",
    "import pandas as pd\n",
    "import seaborn as sns\n",
    "import pymc3 as pm\n",
    "import arviz as az\n"
   ]
  },
  {
   "cell_type": "code",
   "execution_count": 2,
   "metadata": {},
   "outputs": [],
   "source": [
    "az.style.use('arviz-darkgrid')\n",
    "\n",
    "\n",
    "np.random.seed(123)\n",
    "trials = 1000\n",
    "theta_real = 0.35 # unknown value in a real experiment\n",
    "\n",
    "data = stats.bernoulli.rvs(p=theta_real, size=trials)\n"
   ]
  },
  {
   "cell_type": "code",
   "execution_count": 4,
   "metadata": {},
   "outputs": [
    {
     "name": "stderr",
     "output_type": "stream",
     "text": [
      "Auto-assigning NUTS sampler...\n"
     ]
    },
    {
     "name": "stderr",
     "output_type": "stream",
     "text": [
      "Initializing NUTS using jitter+adapt_diag...\n"
     ]
    },
    {
     "name": "stderr",
     "output_type": "stream",
     "text": [
      "Multiprocess sampling (2 chains in 2 jobs)\n"
     ]
    },
    {
     "name": "stderr",
     "output_type": "stream",
     "text": [
      "NUTS: [θ]\n"
     ]
    },
    {
     "name": "stderr",
     "output_type": "stream",
     "text": [
      "\rSampling 2 chains, 0 divergences:   0%|          | 0/3000 [00:00<?, ?draws/s]"
     ]
    },
    {
     "name": "stderr",
     "output_type": "stream",
     "text": [
      "\rSampling 2 chains, 0 divergences:   3%|▎         | 79/3000 [00:00<00:03, 787.42draws/s]"
     ]
    },
    {
     "name": "stderr",
     "output_type": "stream",
     "text": [
      "\rSampling 2 chains, 0 divergences:   7%|▋         | 210/3000 [00:00<00:03, 893.31draws/s]"
     ]
    },
    {
     "name": "stderr",
     "output_type": "stream",
     "text": [
      "\rSampling 2 chains, 0 divergences:  12%|█▏        | 369/3000 [00:00<00:02, 1027.60draws/s]"
     ]
    },
    {
     "name": "stderr",
     "output_type": "stream",
     "text": [
      "\rSampling 2 chains, 0 divergences:  17%|█▋        | 518/3000 [00:00<00:02, 1133.01draws/s]"
     ]
    },
    {
     "name": "stderr",
     "output_type": "stream",
     "text": [
      "\rSampling 2 chains, 0 divergences:  23%|██▎       | 684/3000 [00:00<00:01, 1248.82draws/s]"
     ]
    },
    {
     "name": "stderr",
     "output_type": "stream",
     "text": [
      "\rSampling 2 chains, 0 divergences:  28%|██▊       | 853/3000 [00:00<00:01, 1354.51draws/s]"
     ]
    },
    {
     "name": "stderr",
     "output_type": "stream",
     "text": [
      "\rSampling 2 chains, 0 divergences:  33%|███▎      | 990/3000 [00:00<00:01, 1332.11draws/s]"
     ]
    },
    {
     "name": "stderr",
     "output_type": "stream",
     "text": [
      "\rSampling 2 chains, 0 divergences:  39%|███▉      | 1163/3000 [00:00<00:01, 1429.97draws/s]"
     ]
    },
    {
     "name": "stderr",
     "output_type": "stream",
     "text": [
      "\rSampling 2 chains, 0 divergences:  45%|████▍     | 1349/3000 [00:00<00:01, 1534.71draws/s]"
     ]
    },
    {
     "name": "stderr",
     "output_type": "stream",
     "text": [
      "\rSampling 2 chains, 0 divergences:  51%|█████     | 1524/3000 [00:01<00:00, 1590.01draws/s]"
     ]
    },
    {
     "name": "stderr",
     "output_type": "stream",
     "text": [
      "\rSampling 2 chains, 0 divergences:  56%|█████▋    | 1691/3000 [00:01<00:00, 1611.72draws/s]"
     ]
    },
    {
     "name": "stderr",
     "output_type": "stream",
     "text": [
      "\rSampling 2 chains, 0 divergences:  62%|██████▏   | 1870/3000 [00:01<00:00, 1660.46draws/s]"
     ]
    },
    {
     "name": "stderr",
     "output_type": "stream",
     "text": [
      "\rSampling 2 chains, 0 divergences:  68%|██████▊   | 2039/3000 [00:01<00:00, 1492.29draws/s]"
     ]
    },
    {
     "name": "stderr",
     "output_type": "stream",
     "text": [
      "\rSampling 2 chains, 0 divergences:  73%|███████▎  | 2193/3000 [00:01<00:00, 1470.66draws/s]"
     ]
    },
    {
     "name": "stderr",
     "output_type": "stream",
     "text": [
      "\rSampling 2 chains, 0 divergences:  78%|███████▊  | 2344/3000 [00:01<00:00, 1468.42draws/s]"
     ]
    },
    {
     "name": "stderr",
     "output_type": "stream",
     "text": [
      "\rSampling 2 chains, 0 divergences:  83%|████████▎ | 2494/3000 [00:01<00:00, 1370.56draws/s]"
     ]
    },
    {
     "name": "stderr",
     "output_type": "stream",
     "text": [
      "\rSampling 2 chains, 0 divergences:  88%|████████▊ | 2641/3000 [00:01<00:00, 1397.82draws/s]"
     ]
    },
    {
     "name": "stderr",
     "output_type": "stream",
     "text": [
      "\rSampling 2 chains, 0 divergences:  94%|█████████▍| 2814/3000 [00:01<00:00, 1482.31draws/s]"
     ]
    },
    {
     "name": "stderr",
     "output_type": "stream",
     "text": [
      "\rSampling 2 chains, 0 divergences:  99%|█████████▉| 2966/3000 [00:01<00:00, 1491.87draws/s]"
     ]
    },
    {
     "name": "stderr",
     "output_type": "stream",
     "text": [
      "\rSampling 2 chains, 0 divergences: 100%|██████████| 3000/3000 [00:02<00:00, 1472.35draws/s]"
     ]
    },
    {
     "name": "stderr",
     "output_type": "stream",
     "text": [
      "\n"
     ]
    }
   ],
   "source": [
    "with pm.Model() as our_first_model:\n",
    "    # a priori - uniform\n",
    "    θ = pm.Beta('θ', alpha=1., beta=1.)\n",
    "    # likelihood\n",
    "    y = pm.Bernoulli('y', p=θ, observed=data)\n",
    "    trace = pm.sample(1000, random_seed=123)\n",
    "    "
   ]
  },
  {
   "cell_type": "code",
   "execution_count": 5,
   "metadata": {},
   "outputs": [
    {
     "name": "stderr",
     "output_type": "stream",
     "text": [
      "/Applications/PyCharm.app/Contents/helpers/pycharm_matplotlib_backend/backend_interagg.py:62: UserWarning: This figure was using constrained_layout==True, but that is incompatible with subplots_adjust and or tight_layout: setting constrained_layout==False. \n  self.figure.tight_layout()\n"
     ]
    }
   ],
   "source": [
    "az.plot_trace(trace)\n",
    "plt.show()"
   ]
  },
  {
   "cell_type": "code",
   "execution_count": 6,
   "metadata": {},
   "outputs": [
    {
     "name": "stdout",
     "output_type": "stream",
     "text": [
      "    mean     sd  hpd_3%  hpd_97%  mcse_mean  mcse_sd  ess_mean  ess_sd  \\\nθ  0.345  0.015   0.318    0.376      0.001      0.0     752.0   751.0   \n\n   ess_bulk  ess_tail  r_hat  \nθ     750.0    1354.0    1.0  \n"
     ]
    }
   ],
   "source": [
    "df = az.summary(trace)\n",
    "print(df)"
   ]
  },
  {
   "cell_type": "code",
   "execution_count": null,
   "metadata": {},
   "outputs": [],
   "source": []
  }
 ],
 "metadata": {
  "kernelspec": {
   "display_name": "Python 2",
   "language": "python",
   "name": "python2"
  },
  "language_info": {
   "codemirror_mode": {
    "name": "ipython",
    "version": 2
   },
   "file_extension": ".py",
   "mimetype": "text/x-python",
   "name": "python",
   "nbconvert_exporter": "python",
   "pygments_lexer": "ipython2",
   "version": "2.7.6"
  }
 },
 "nbformat": 4,
 "nbformat_minor": 0
}
