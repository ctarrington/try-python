{
 "cells": [
  {
   "cell_type": "code",
   "execution_count": 11,
   "metadata": {
    "collapsed": true
   },
   "outputs": [],
   "source": [
    "import matplotlib.pyplot as plt\n",
    "import scipy.stats as stats\n",
    "import numpy as np\n",
    "import pandas as pd\n",
    "import seaborn as sns\n",
    "import pymc3 as pm\n",
    "import arviz as az\n"
   ]
  },
  {
   "cell_type": "code",
   "execution_count": 38,
   "metadata": {},
   "outputs": [],
   "source": [
    "az.style.use('arviz-darkgrid')\n",
    "\n",
    "\n",
    "np.random.seed(123)\n",
    "trials = 1000\n",
    "theta_real = 0.35 # unknown value in a real experiment\n",
    "\n",
    "data = stats.bernoulli.rvs(p=theta_real, size=trials)\n"
   ]
  },
  {
   "cell_type": "code",
   "execution_count": 39,
   "metadata": {},
   "outputs": [
    {
     "name": "stderr",
     "output_type": "stream",
     "text": [
      "Auto-assigning NUTS sampler...\n"
     ]
    },
    {
     "name": "stderr",
     "output_type": "stream",
     "text": [
      "Initializing NUTS using jitter+adapt_diag...\n"
     ]
    },
    {
     "name": "stderr",
     "output_type": "stream",
     "text": [
      "Multiprocess sampling (2 chains in 2 jobs)\n"
     ]
    },
    {
     "name": "stderr",
     "output_type": "stream",
     "text": [
      "NUTS: [θ]\n"
     ]
    },
    {
     "name": "stderr",
     "output_type": "stream",
     "text": [
      "\rSampling 2 chains, 0 divergences:   0%|          | 0/3000 [00:00<?, ?draws/s]"
     ]
    },
    {
     "name": "stderr",
     "output_type": "stream",
     "text": [
      "\rSampling 2 chains, 0 divergences:   4%|▎         | 110/3000 [00:00<00:02, 1098.81draws/s]"
     ]
    },
    {
     "name": "stderr",
     "output_type": "stream",
     "text": [
      "\rSampling 2 chains, 0 divergences:   7%|▋         | 213/3000 [00:00<00:02, 1074.66draws/s]"
     ]
    },
    {
     "name": "stderr",
     "output_type": "stream",
     "text": [
      "\rSampling 2 chains, 0 divergences:  12%|█▏        | 359/3000 [00:00<00:02, 1166.02draws/s]"
     ]
    },
    {
     "name": "stderr",
     "output_type": "stream",
     "text": [
      "\rSampling 2 chains, 0 divergences:  17%|█▋        | 518/3000 [00:00<00:01, 1266.27draws/s]"
     ]
    },
    {
     "name": "stderr",
     "output_type": "stream",
     "text": [
      "\rSampling 2 chains, 0 divergences:  23%|██▎       | 684/3000 [00:00<00:01, 1361.53draws/s]"
     ]
    },
    {
     "name": "stderr",
     "output_type": "stream",
     "text": [
      "\rSampling 2 chains, 0 divergences:  28%|██▊       | 840/3000 [00:00<00:01, 1415.28draws/s]"
     ]
    },
    {
     "name": "stderr",
     "output_type": "stream",
     "text": [
      "\rSampling 2 chains, 0 divergences:  34%|███▎      | 1009/3000 [00:00<00:01, 1485.04draws/s]"
     ]
    },
    {
     "name": "stderr",
     "output_type": "stream",
     "text": [
      "\rSampling 2 chains, 0 divergences:  39%|███▉      | 1184/3000 [00:00<00:01, 1551.26draws/s]"
     ]
    },
    {
     "name": "stderr",
     "output_type": "stream",
     "text": [
      "\rSampling 2 chains, 0 divergences:  45%|████▌     | 1363/3000 [00:00<00:01, 1614.12draws/s]"
     ]
    },
    {
     "name": "stderr",
     "output_type": "stream",
     "text": [
      "\rSampling 2 chains, 0 divergences:  51%|█████▏    | 1544/3000 [00:01<00:00, 1665.23draws/s]"
     ]
    },
    {
     "name": "stderr",
     "output_type": "stream",
     "text": [
      "\rSampling 2 chains, 0 divergences:  57%|█████▋    | 1719/3000 [00:01<00:00, 1687.82draws/s]"
     ]
    },
    {
     "name": "stderr",
     "output_type": "stream",
     "text": [
      "\rSampling 2 chains, 0 divergences:  63%|██████▎   | 1889/3000 [00:01<00:00, 1690.90draws/s]"
     ]
    },
    {
     "name": "stderr",
     "output_type": "stream",
     "text": [
      "\rSampling 2 chains, 0 divergences:  69%|██████▊   | 2061/3000 [00:01<00:00, 1698.94draws/s]"
     ]
    },
    {
     "name": "stderr",
     "output_type": "stream",
     "text": [
      "\rSampling 2 chains, 0 divergences:  75%|███████▍  | 2247/3000 [00:01<00:00, 1742.69draws/s]"
     ]
    },
    {
     "name": "stderr",
     "output_type": "stream",
     "text": [
      "\rSampling 2 chains, 0 divergences:  81%|████████▏ | 2438/3000 [00:01<00:00, 1788.21draws/s]"
     ]
    },
    {
     "name": "stderr",
     "output_type": "stream",
     "text": [
      "\rSampling 2 chains, 0 divergences:  87%|████████▋ | 2622/3000 [00:01<00:00, 1802.10draws/s]"
     ]
    },
    {
     "name": "stderr",
     "output_type": "stream",
     "text": [
      "\rSampling 2 chains, 0 divergences:  93%|█████████▎| 2803/3000 [00:01<00:00, 1804.30draws/s]"
     ]
    },
    {
     "name": "stderr",
     "output_type": "stream",
     "text": [
      "\rSampling 2 chains, 0 divergences:  99%|█████████▉| 2984/3000 [00:01<00:00, 1748.94draws/s]"
     ]
    },
    {
     "name": "stderr",
     "output_type": "stream",
     "text": [
      "\rSampling 2 chains, 0 divergences: 100%|██████████| 3000/3000 [00:01<00:00, 1623.35draws/s]"
     ]
    },
    {
     "name": "stderr",
     "output_type": "stream",
     "text": [
      "\n"
     ]
    }
   ],
   "source": [
    "with pm.Model() as our_first_model:\n",
    "    # a priori - uniform\n",
    "    θ = pm.Beta('θ', alpha=1., beta=1.)\n",
    "    # likelihood\n",
    "    y = pm.Bernoulli('y', p=θ, observed=data)\n",
    "    trace = pm.sample(1000, random_seed=123)\n",
    "    "
   ]
  },
  {
   "cell_type": "code",
   "execution_count": 40,
   "metadata": {},
   "outputs": [
    {
     "name": "stderr",
     "output_type": "stream",
     "text": [
      "/Applications/PyCharm.app/Contents/helpers/pycharm_matplotlib_backend/backend_interagg.py:62: UserWarning: This figure was using constrained_layout==True, but that is incompatible with subplots_adjust and or tight_layout: setting constrained_layout==False. \n  self.figure.tight_layout()\n"
     ]
    }
   ],
   "source": [
    "az.plot_trace(trace)\n",
    "plt.show()"
   ]
  },
  {
   "cell_type": "code",
   "execution_count": 45,
   "metadata": {},
   "outputs": [
    {
     "name": "stdout",
     "output_type": "stream",
     "text": [
      "    mean     sd  hpd_3%  hpd_97%  mcse_mean  mcse_sd  ess_mean  ess_sd  \\\nθ  0.345  0.015   0.318    0.376      0.001      0.0     752.0   751.0   \n\n   ess_bulk  ess_tail  r_hat  \nθ     750.0    1354.0    1.0  \n"
     ]
    }
   ],
   "source": [
    "df = az.summary(trace)\n",
    "print(df)"
   ]
  },
  {
   "cell_type": "code",
   "execution_count": null,
   "metadata": {},
   "outputs": [],
   "source": []
  }
 ],
 "metadata": {
  "kernelspec": {
   "display_name": "Python 2",
   "language": "python",
   "name": "python2"
  },
  "language_info": {
   "codemirror_mode": {
    "name": "ipython",
    "version": 2
   },
   "file_extension": ".py",
   "mimetype": "text/x-python",
   "name": "python",
   "nbconvert_exporter": "python",
   "pygments_lexer": "ipython2",
   "version": "2.7.6"
  }
 },
 "nbformat": 4,
 "nbformat_minor": 0
}
