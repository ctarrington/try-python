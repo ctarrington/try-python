{
 "cells": [
  {
   "cell_type": "code",
   "execution_count": 1,
   "metadata": {
    "collapsed": true
   },
   "outputs": [],
   "source": [
    "import matplotlib.pyplot as plt\n",
    "import scipy.stats as stats\n",
    "import numpy as np\n",
    "import pandas as pd\n",
    "import seaborn as sns\n",
    "import pymc3 as pm\n",
    "import arviz as az\n"
   ]
  },
  {
   "cell_type": "code",
   "execution_count": 2,
   "metadata": {},
   "outputs": [],
   "source": [
    "az.style.use('arviz-darkgrid')\n",
    "%matplotlib inline\n"
   ]
  },
  {
   "cell_type": "code",
   "execution_count": 3,
   "metadata": {},
   "outputs": [],
   "source": [
    "\n",
    "np.random.seed(123)\n",
    "theta_real = 0.35 # unknown value in a real experiment\n",
    "trial_counts = [10,100,1000]"
   ]
  },
  {
   "cell_type": "code",
   "execution_count": null,
   "metadata": {},
   "outputs": [
    {
     "name": "stdout",
     "output_type": "stream",
     "text": [
      "10\n"
     ]
    },
    {
     "name": "stderr",
     "output_type": "stream",
     "text": [
      "Auto-assigning NUTS sampler...\n"
     ]
    },
    {
     "name": "stderr",
     "output_type": "stream",
     "text": [
      "Initializing NUTS using jitter+adapt_diag...\n"
     ]
    },
    {
     "name": "stderr",
     "output_type": "stream",
     "text": [
      "Multiprocess sampling (2 chains in 2 jobs)\n"
     ]
    },
    {
     "name": "stderr",
     "output_type": "stream",
     "text": [
      "NUTS: [θ]\n"
     ]
    },
    {
     "name": "stderr",
     "output_type": "stream",
     "text": [
      "\rSampling 2 chains, 0 divergences:   0%|          | 0/3000 [00:00<?, ?draws/s]"
     ]
    },
    {
     "name": "stderr",
     "output_type": "stream",
     "text": [
      "\rSampling 2 chains, 0 divergences:   4%|▍         | 123/3000 [00:00<00:02, 1229.51draws/s]"
     ]
    },
    {
     "name": "stderr",
     "output_type": "stream",
     "text": [
      "\rSampling 2 chains, 0 divergences:   9%|▉         | 273/3000 [00:00<00:02, 1298.43draws/s]"
     ]
    },
    {
     "name": "stderr",
     "output_type": "stream",
     "text": [
      "\rSampling 2 chains, 0 divergences:  14%|█▍        | 434/3000 [00:00<00:01, 1378.40draws/s]"
     ]
    },
    {
     "name": "stderr",
     "output_type": "stream",
     "text": [
      "\rSampling 2 chains, 0 divergences:  20%|█▉        | 594/3000 [00:00<00:01, 1436.99draws/s]"
     ]
    },
    {
     "name": "stderr",
     "output_type": "stream",
     "text": [
      "\rSampling 2 chains, 0 divergences:  25%|██▌       | 764/3000 [00:00<00:01, 1505.05draws/s]"
     ]
    },
    {
     "name": "stderr",
     "output_type": "stream",
     "text": [
      "\rSampling 2 chains, 0 divergences:  32%|███▏      | 949/3000 [00:00<00:01, 1594.10draws/s]"
     ]
    },
    {
     "name": "stderr",
     "output_type": "stream",
     "text": [
      "\rSampling 2 chains, 0 divergences:  38%|███▊      | 1144/3000 [00:00<00:01, 1684.68draws/s]"
     ]
    },
    {
     "name": "stderr",
     "output_type": "stream",
     "text": [
      "\rSampling 2 chains, 0 divergences:  44%|████▎     | 1306/3000 [00:00<00:01, 1459.33draws/s]"
     ]
    },
    {
     "name": "stderr",
     "output_type": "stream",
     "text": [
      "\rSampling 2 chains, 0 divergences:  48%|████▊     | 1453/3000 [00:00<00:01, 1436.92draws/s]"
     ]
    },
    {
     "name": "stderr",
     "output_type": "stream",
     "text": [
      "\rSampling 2 chains, 0 divergences:  55%|█████▌    | 1653/3000 [00:01<00:00, 1568.51draws/s]"
     ]
    },
    {
     "name": "stderr",
     "output_type": "stream",
     "text": [
      "\rSampling 2 chains, 0 divergences:  61%|██████    | 1821/3000 [00:01<00:00, 1598.37draws/s]"
     ]
    },
    {
     "name": "stderr",
     "output_type": "stream",
     "text": [
      "\rSampling 2 chains, 0 divergences:  67%|██████▋   | 2014/3000 [00:01<00:00, 1684.29draws/s]"
     ]
    },
    {
     "name": "stderr",
     "output_type": "stream",
     "text": [
      "\rSampling 2 chains, 0 divergences:  74%|███████▎  | 2208/3000 [00:01<00:00, 1750.70draws/s]"
     ]
    },
    {
     "name": "stderr",
     "output_type": "stream",
     "text": [
      "\rSampling 2 chains, 0 divergences:  80%|████████  | 2402/3000 [00:01<00:00, 1802.67draws/s]"
     ]
    },
    {
     "name": "stderr",
     "output_type": "stream",
     "text": [
      "\rSampling 2 chains, 0 divergences:  87%|████████▋ | 2606/3000 [00:01<00:00, 1863.48draws/s]"
     ]
    },
    {
     "name": "stderr",
     "output_type": "stream",
     "text": [
      "\rSampling 2 chains, 0 divergences:  94%|█████████▎| 2807/3000 [00:01<00:00, 1899.24draws/s]"
     ]
    },
    {
     "name": "stderr",
     "output_type": "stream",
     "text": [
      "\rSampling 2 chains, 0 divergences: 100%|█████████▉| 2999/3000 [00:01<00:00, 1835.59draws/s]"
     ]
    },
    {
     "name": "stderr",
     "output_type": "stream",
     "text": [
      "\rSampling 2 chains, 0 divergences: 100%|██████████| 3000/3000 [00:01<00:00, 1680.98draws/s]"
     ]
    },
    {
     "name": "stderr",
     "output_type": "stream",
     "text": [
      "\n"
     ]
    },
    {
     "name": "stdout",
     "output_type": "stream",
     "text": [
      "    mean     sd  hpd_3%  hpd_97%  mcse_mean  mcse_sd  ess_mean  ess_sd  \\\nθ  0.327  0.125   0.101    0.564      0.004    0.003     788.0   788.0   \n\n   ess_bulk  ess_tail  r_hat  \nθ     789.0    1122.0    1.0  \n"
     ]
    },
    {
     "name": "stdout",
     "output_type": "stream",
     "text": [
      "100\n"
     ]
    },
    {
     "name": "stderr",
     "output_type": "stream",
     "text": [
      "Auto-assigning NUTS sampler...\n"
     ]
    },
    {
     "name": "stderr",
     "output_type": "stream",
     "text": [
      "Initializing NUTS using jitter+adapt_diag...\n"
     ]
    },
    {
     "name": "stderr",
     "output_type": "stream",
     "text": [
      "Multiprocess sampling (2 chains in 2 jobs)\n"
     ]
    },
    {
     "name": "stderr",
     "output_type": "stream",
     "text": [
      "NUTS: [θ]\n"
     ]
    },
    {
     "name": "stderr",
     "output_type": "stream",
     "text": [
      "\rSampling 2 chains, 0 divergences:   0%|          | 0/3000 [00:00<?, ?draws/s]"
     ]
    },
    {
     "name": "stderr",
     "output_type": "stream",
     "text": [
      "\rSampling 2 chains, 0 divergences:   4%|▍         | 125/3000 [00:00<00:02, 1240.71draws/s]"
     ]
    },
    {
     "name": "stderr",
     "output_type": "stream",
     "text": [
      "\rSampling 2 chains, 0 divergences:  10%|█         | 302/3000 [00:00<00:01, 1362.30draws/s]"
     ]
    },
    {
     "name": "stderr",
     "output_type": "stream",
     "text": [
      "\rSampling 2 chains, 0 divergences:  16%|█▌        | 479/3000 [00:00<00:01, 1463.40draws/s]"
     ]
    },
    {
     "name": "stderr",
     "output_type": "stream",
     "text": [
      "\rSampling 2 chains, 0 divergences:  22%|██▏       | 662/3000 [00:00<00:01, 1554.59draws/s]"
     ]
    },
    {
     "name": "stderr",
     "output_type": "stream",
     "text": [
      "\rSampling 2 chains, 0 divergences:  28%|██▊       | 849/3000 [00:00<00:01, 1636.25draws/s]"
     ]
    },
    {
     "name": "stderr",
     "output_type": "stream",
     "text": [
      "\rSampling 2 chains, 0 divergences:  35%|███▍      | 1037/3000 [00:00<00:01, 1700.12draws/s]"
     ]
    },
    {
     "name": "stderr",
     "output_type": "stream",
     "text": [
      "\rSampling 2 chains, 0 divergences:  41%|████▏     | 1241/3000 [00:00<00:00, 1788.64draws/s]"
     ]
    },
    {
     "name": "stderr",
     "output_type": "stream",
     "text": [
      "\rSampling 2 chains, 0 divergences:  47%|████▋     | 1424/3000 [00:00<00:00, 1798.84draws/s]"
     ]
    },
    {
     "name": "stderr",
     "output_type": "stream",
     "text": [
      "\rSampling 2 chains, 0 divergences:  53%|█████▎    | 1600/3000 [00:00<00:00, 1740.46draws/s]"
     ]
    },
    {
     "name": "stderr",
     "output_type": "stream",
     "text": [
      "\rSampling 2 chains, 0 divergences:  59%|█████▉    | 1772/3000 [00:01<00:00, 1504.63draws/s]"
     ]
    },
    {
     "name": "stderr",
     "output_type": "stream",
     "text": [
      "\rSampling 2 chains, 0 divergences:  65%|██████▍   | 1948/3000 [00:01<00:00, 1568.62draws/s]"
     ]
    },
    {
     "name": "stderr",
     "output_type": "stream",
     "text": [
      "\rSampling 2 chains, 0 divergences:  71%|███████   | 2127/3000 [00:01<00:00, 1628.31draws/s]"
     ]
    },
    {
     "name": "stderr",
     "output_type": "stream",
     "text": [
      "\rSampling 2 chains, 0 divergences:  76%|███████▋  | 2293/3000 [00:01<00:00, 1591.65draws/s]"
     ]
    },
    {
     "name": "stderr",
     "output_type": "stream",
     "text": [
      "\rSampling 2 chains, 0 divergences:  82%|████████▏ | 2470/3000 [00:01<00:00, 1640.46draws/s]"
     ]
    },
    {
     "name": "stderr",
     "output_type": "stream",
     "text": [
      "\rSampling 2 chains, 0 divergences:  88%|████████▊ | 2636/3000 [00:01<00:00, 1624.60draws/s]"
     ]
    },
    {
     "name": "stderr",
     "output_type": "stream",
     "text": [
      "\rSampling 2 chains, 0 divergences:  94%|█████████▍| 2825/3000 [00:01<00:00, 1694.99draws/s]"
     ]
    },
    {
     "name": "stderr",
     "output_type": "stream",
     "text": [
      "\rSampling 2 chains, 0 divergences: 100%|█████████▉| 2997/3000 [00:01<00:00, 1647.17draws/s]"
     ]
    },
    {
     "name": "stderr",
     "output_type": "stream",
     "text": [
      "\rSampling 2 chains, 0 divergences: 100%|██████████| 3000/3000 [00:01<00:00, 1659.23draws/s]"
     ]
    },
    {
     "name": "stderr",
     "output_type": "stream",
     "text": [
      "\n"
     ]
    },
    {
     "name": "stdout",
     "output_type": "stream",
     "text": [
      "    mean     sd  hpd_3%  hpd_97%  mcse_mean  mcse_sd  ess_mean  ess_sd  \\\nθ  0.392  0.048   0.302     0.48      0.002    0.001     814.0   813.0   \n\n   ess_bulk  ess_tail  r_hat  \nθ     813.0    1369.0    1.0  \n"
     ]
    },
    {
     "name": "stdout",
     "output_type": "stream",
     "text": [
      "1000\n"
     ]
    },
    {
     "name": "stderr",
     "output_type": "stream",
     "text": [
      "Auto-assigning NUTS sampler...\n"
     ]
    },
    {
     "name": "stderr",
     "output_type": "stream",
     "text": [
      "Initializing NUTS using jitter+adapt_diag...\n"
     ]
    },
    {
     "name": "stderr",
     "output_type": "stream",
     "text": [
      "Multiprocess sampling (2 chains in 2 jobs)\n"
     ]
    },
    {
     "name": "stderr",
     "output_type": "stream",
     "text": [
      "NUTS: [θ]\n"
     ]
    },
    {
     "name": "stderr",
     "output_type": "stream",
     "text": [
      "\rSampling 2 chains, 0 divergences:   0%|          | 0/3000 [00:00<?, ?draws/s]"
     ]
    },
    {
     "name": "stderr",
     "output_type": "stream",
     "text": [
      "\rSampling 2 chains, 0 divergences:   4%|▍         | 128/3000 [00:00<00:02, 1275.22draws/s]"
     ]
    },
    {
     "name": "stderr",
     "output_type": "stream",
     "text": [
      "\rSampling 2 chains, 0 divergences:   9%|▉         | 283/3000 [00:00<00:02, 1346.00draws/s]"
     ]
    },
    {
     "name": "stderr",
     "output_type": "stream",
     "text": [
      "\rSampling 2 chains, 0 divergences:  15%|█▌        | 459/3000 [00:00<00:01, 1446.41draws/s]"
     ]
    },
    {
     "name": "stderr",
     "output_type": "stream",
     "text": [
      "\rSampling 2 chains, 0 divergences:  21%|██        | 625/3000 [00:00<00:01, 1501.72draws/s]"
     ]
    },
    {
     "name": "stderr",
     "output_type": "stream",
     "text": [
      "\rSampling 2 chains, 0 divergences:  26%|██▌       | 770/3000 [00:00<00:01, 1484.51draws/s]"
     ]
    },
    {
     "name": "stderr",
     "output_type": "stream",
     "text": [
      "\rSampling 2 chains, 0 divergences:  32%|███▏      | 946/3000 [00:00<00:01, 1557.53draws/s]"
     ]
    },
    {
     "name": "stderr",
     "output_type": "stream",
     "text": [
      "\rSampling 2 chains, 0 divergences:  38%|███▊      | 1130/3000 [00:00<00:01, 1632.72draws/s]"
     ]
    },
    {
     "name": "stderr",
     "output_type": "stream",
     "text": [
      "\rSampling 2 chains, 0 divergences:  44%|████▍     | 1313/3000 [00:00<00:01, 1686.78draws/s]"
     ]
    },
    {
     "name": "stderr",
     "output_type": "stream",
     "text": [
      "\rSampling 2 chains, 0 divergences:  50%|████▉     | 1498/3000 [00:00<00:00, 1732.54draws/s]"
     ]
    },
    {
     "name": "stderr",
     "output_type": "stream",
     "text": [
      "\rSampling 2 chains, 0 divergences:  56%|█████▋    | 1689/3000 [00:01<00:00, 1780.05draws/s]"
     ]
    },
    {
     "name": "stderr",
     "output_type": "stream",
     "text": [
      "\rSampling 2 chains, 0 divergences:  63%|██████▎   | 1880/3000 [00:01<00:00, 1816.95draws/s]"
     ]
    },
    {
     "name": "stderr",
     "output_type": "stream",
     "text": [
      "\rSampling 2 chains, 0 divergences:  69%|██████▉   | 2064/3000 [00:01<00:00, 1822.13draws/s]"
     ]
    },
    {
     "name": "stderr",
     "output_type": "stream",
     "text": [
      "\rSampling 2 chains, 0 divergences:  75%|███████▌  | 2255/3000 [00:01<00:00, 1845.04draws/s]"
     ]
    },
    {
     "name": "stderr",
     "output_type": "stream",
     "text": [
      "\rSampling 2 chains, 0 divergences:  82%|████████▏ | 2448/3000 [00:01<00:00, 1865.90draws/s]"
     ]
    },
    {
     "name": "stderr",
     "output_type": "stream",
     "text": [
      "\rSampling 2 chains, 0 divergences:  88%|████████▊ | 2635/3000 [00:01<00:00, 1806.60draws/s]"
     ]
    },
    {
     "name": "stderr",
     "output_type": "stream",
     "text": [
      "\rSampling 2 chains, 0 divergences:  94%|█████████▍| 2816/3000 [00:01<00:00, 1777.12draws/s]"
     ]
    },
    {
     "name": "stderr",
     "output_type": "stream",
     "text": [
      "\rSampling 2 chains, 0 divergences: 100%|█████████▉| 2994/3000 [00:01<00:00, 1747.45draws/s]"
     ]
    },
    {
     "name": "stderr",
     "output_type": "stream",
     "text": [
      "\rSampling 2 chains, 0 divergences: 100%|██████████| 3000/3000 [00:01<00:00, 1714.77draws/s]"
     ]
    },
    {
     "name": "stderr",
     "output_type": "stream",
     "text": [
      "\n"
     ]
    },
    {
     "name": "stderr",
     "output_type": "stream",
     "text": [
      "The acceptance probability does not match the target. It is 0.8805045628952277, but should be close to 0.8. Try to increase the number of tuning steps.\n"
     ]
    },
    {
     "name": "stdout",
     "output_type": "stream",
     "text": [
      "    mean     sd  hpd_3%  hpd_97%  mcse_mean  mcse_sd  ess_mean  ess_sd  \\\nθ  0.365  0.015   0.336    0.392      0.001      0.0     768.0   767.0   \n\n   ess_bulk  ess_tail  r_hat  \nθ     770.0    1607.0    1.0  \n"
     ]
    },
    {
     "data": {
      "image/png": "[encoded data removed]",
      "text/plain": [
       "<Figure size 576x504 with 3 Axes>"
      ]
     },
     "metadata": {},
     "output_type": "display_data"
    }
   ],
   "source": [
    "_,ax = plt.subplots(len(trial_counts), 1, sharex=True, sharey=False,\n",
    "                    figsize=(8, 7), constrained_layout=True)\n",
    "\n",
    "for trial_index in range(len(trial_counts)):\n",
    "    trial_count = trial_counts[trial_index]\n",
    "    print(trial_count)\n",
    "    data = stats.bernoulli.rvs(p=theta_real, size=trial_count)\n",
    "    with pm.Model() as our_first_model:\n",
    "        # a priori - uniform\n",
    "        θ = pm.Beta('θ', alpha=1., beta=1.)\n",
    "        # likelihood p(y|θ)\n",
    "        y = pm.Bernoulli('y', p=θ, observed=data)\n",
    "        trace = pm.sample(1000, random_seed=123)\n",
    "        \n",
    "    df = az.summary(trace)\n",
    "    print(df)\n",
    "    ref_value = 0.5\n",
    "    az.plot_posterior(trace, rope=[0.45, 0.55], ref_val=ref_value, ax = ax[trial_index])\n",
    "    ax[trial_index].set_title(trial_count)\n",
    "    \n"
   ]
  },
  {
   "cell_type": "code",
   "execution_count": null,
   "metadata": {},
   "outputs": [],
   "source": []
  }
 ],
 "metadata": {
  "kernelspec": {
   "display_name": "Python 2",
   "language": "python",
   "name": "python2"
  },
  "language_info": {
   "codemirror_mode": {
    "name": "ipython",
    "version": 2
   },
   "file_extension": ".py",
   "mimetype": "text/x-python",
   "name": "python",
   "nbconvert_exporter": "python",
   "pygments_lexer": "ipython2",
   "version": "2.7.6"
  }
 },
 "nbformat": 4,
 "nbformat_minor": 0
}
