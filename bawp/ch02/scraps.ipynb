{
 "cells": [
  {
   "cell_type": "code",
   "execution_count": 1,
   "metadata": {
    "collapsed": true
   },
   "outputs": [],
   "source": [
    "import matplotlib.pyplot as plt\n",
    "import scipy.stats as stats\n",
    "import numpy as np\n",
    "import pandas as pd\n",
    "import seaborn as sns\n",
    "import pymc3 as pm\n",
    "import arviz as az\n"
   ]
  },
  {
   "cell_type": "code",
   "execution_count": 2,
   "metadata": {},
   "outputs": [],
   "source": [
    "az.style.use('arviz-darkgrid')\n",
    "%matplotlib inline\n"
   ]
  },
  {
   "cell_type": "code",
   "execution_count": 3,
   "metadata": {},
   "outputs": [],
   "source": [
    "\n",
    "np.random.seed(123)\n",
    "theta_real = 0.35 # unknown value in a real experiment\n",
    "trial_counts = [10,100,1000]"
   ]
  },
  {
   "cell_type": "code",
   "execution_count": 12,
   "metadata": {},
   "outputs": [
    {
     "name": "stdout",
     "output_type": "stream",
     "text": [
      "10\n"
     ]
    },
    {
     "name": "stderr",
     "output_type": "stream",
     "text": [
      "Auto-assigning NUTS sampler...\n"
     ]
    },
    {
     "name": "stderr",
     "output_type": "stream",
     "text": [
      "Initializing NUTS using jitter+adapt_diag...\n"
     ]
    },
    {
     "name": "stderr",
     "output_type": "stream",
     "text": [
      "Multiprocess sampling (2 chains in 2 jobs)\n"
     ]
    },
    {
     "name": "stderr",
     "output_type": "stream",
     "text": [
      "NUTS: [θ]\n"
     ]
    },
    {
     "name": "stderr",
     "output_type": "stream",
     "text": [
      "\rSampling 2 chains, 0 divergences:   0%|          | 0/3000 [00:00<?, ?draws/s]"
     ]
    },
    {
     "name": "stderr",
     "output_type": "stream",
     "text": [
      "\rSampling 2 chains, 0 divergences:   4%|▍         | 134/3000 [00:00<00:02, 1335.61draws/s]"
     ]
    },
    {
     "name": "stderr",
     "output_type": "stream",
     "text": [
      "\rSampling 2 chains, 0 divergences:  10%|█         | 302/3000 [00:00<00:01, 1422.55draws/s]"
     ]
    },
    {
     "name": "stderr",
     "output_type": "stream",
     "text": [
      "\rSampling 2 chains, 0 divergences:  16%|█▌        | 484/3000 [00:00<00:01, 1521.39draws/s]"
     ]
    },
    {
     "name": "stderr",
     "output_type": "stream",
     "text": [
      "\rSampling 2 chains, 0 divergences:  22%|██▏       | 669/3000 [00:00<00:01, 1605.94draws/s]"
     ]
    },
    {
     "name": "stderr",
     "output_type": "stream",
     "text": [
      "\rSampling 2 chains, 0 divergences:  29%|██▉       | 863/3000 [00:00<00:01, 1692.62draws/s]"
     ]
    },
    {
     "name": "stderr",
     "output_type": "stream",
     "text": [
      "\rSampling 2 chains, 0 divergences:  35%|███▍      | 1049/3000 [00:00<00:01, 1732.87draws/s]"
     ]
    },
    {
     "name": "stderr",
     "output_type": "stream",
     "text": [
      "\rSampling 2 chains, 0 divergences:  42%|████▏     | 1246/3000 [00:00<00:00, 1797.00draws/s]"
     ]
    },
    {
     "name": "stderr",
     "output_type": "stream",
     "text": [
      "\rSampling 2 chains, 0 divergences:  48%|████▊     | 1445/3000 [00:00<00:00, 1849.53draws/s]"
     ]
    },
    {
     "name": "stderr",
     "output_type": "stream",
     "text": [
      "\rSampling 2 chains, 0 divergences:  55%|█████▍    | 1649/3000 [00:00<00:00, 1899.45draws/s]"
     ]
    },
    {
     "name": "stderr",
     "output_type": "stream",
     "text": [
      "\rSampling 2 chains, 0 divergences:  62%|██████▏   | 1850/3000 [00:01<00:00, 1930.02draws/s]"
     ]
    },
    {
     "name": "stderr",
     "output_type": "stream",
     "text": [
      "\rSampling 2 chains, 0 divergences:  68%|██████▊   | 2045/3000 [00:01<00:00, 1934.66draws/s]"
     ]
    },
    {
     "name": "stderr",
     "output_type": "stream",
     "text": [
      "\rSampling 2 chains, 0 divergences:  75%|███████▍  | 2244/3000 [00:01<00:00, 1950.68draws/s]"
     ]
    },
    {
     "name": "stderr",
     "output_type": "stream",
     "text": [
      "\rSampling 2 chains, 0 divergences:  81%|████████▏ | 2438/3000 [00:01<00:00, 1928.66draws/s]"
     ]
    },
    {
     "name": "stderr",
     "output_type": "stream",
     "text": [
      "\rSampling 2 chains, 0 divergences:  88%|████████▊ | 2636/3000 [00:01<00:00, 1942.10draws/s]"
     ]
    },
    {
     "name": "stderr",
     "output_type": "stream",
     "text": [
      "\rSampling 2 chains, 0 divergences:  95%|█████████▍| 2837/3000 [00:01<00:00, 1960.12draws/s]"
     ]
    },
    {
     "name": "stderr",
     "output_type": "stream",
     "text": [
      "\rSampling 2 chains, 0 divergences: 100%|██████████| 3000/3000 [00:01<00:00, 1835.56draws/s]"
     ]
    },
    {
     "name": "stderr",
     "output_type": "stream",
     "text": [
      "\n"
     ]
    },
    {
     "name": "stdout",
     "output_type": "stream",
     "text": [
      "    mean     sd  hpd_3%  hpd_97%  mcse_mean  mcse_sd  ess_mean  ess_sd  \\\nθ  0.327  0.125   0.101    0.564      0.004    0.003     788.0   788.0   \n\n   ess_bulk  ess_tail  r_hat  \nθ     789.0    1122.0    1.0  \n"
     ]
    },
    {
     "name": "stdout",
     "output_type": "stream",
     "text": [
      "100\n"
     ]
    },
    {
     "name": "stderr",
     "output_type": "stream",
     "text": [
      "Auto-assigning NUTS sampler...\n"
     ]
    },
    {
     "name": "stderr",
     "output_type": "stream",
     "text": [
      "Initializing NUTS using jitter+adapt_diag...\n"
     ]
    },
    {
     "name": "stderr",
     "output_type": "stream",
     "text": [
      "Multiprocess sampling (2 chains in 2 jobs)\n"
     ]
    },
    {
     "name": "stderr",
     "output_type": "stream",
     "text": [
      "NUTS: [θ]\n"
     ]
    },
    {
     "name": "stderr",
     "output_type": "stream",
     "text": [
      "\rSampling 2 chains, 0 divergences:   0%|          | 0/3000 [00:00<?, ?draws/s]"
     ]
    },
    {
     "name": "stderr",
     "output_type": "stream",
     "text": [
      "\rSampling 2 chains, 0 divergences:   5%|▍         | 146/3000 [00:00<00:01, 1454.58draws/s]"
     ]
    },
    {
     "name": "stderr",
     "output_type": "stream",
     "text": [
      "\rSampling 2 chains, 0 divergences:  11%|█         | 325/3000 [00:00<00:01, 1541.05draws/s]"
     ]
    },
    {
     "name": "stderr",
     "output_type": "stream",
     "text": [
      "\rSampling 2 chains, 0 divergences:  17%|█▋        | 502/3000 [00:00<00:01, 1602.62draws/s]"
     ]
    },
    {
     "name": "stderr",
     "output_type": "stream",
     "text": [
      "\rSampling 2 chains, 0 divergences:  23%|██▎       | 681/3000 [00:00<00:01, 1652.50draws/s]"
     ]
    },
    {
     "name": "stderr",
     "output_type": "stream",
     "text": [
      "\rSampling 2 chains, 0 divergences:  29%|██▊       | 858/3000 [00:00<00:01, 1684.46draws/s]"
     ]
    },
    {
     "name": "stderr",
     "output_type": "stream",
     "text": [
      "\rSampling 2 chains, 0 divergences:  35%|███▍      | 1037/3000 [00:00<00:01, 1712.23draws/s]"
     ]
    },
    {
     "name": "stderr",
     "output_type": "stream",
     "text": [
      "\rSampling 2 chains, 0 divergences:  41%|████      | 1230/3000 [00:00<00:01, 1769.21draws/s]"
     ]
    },
    {
     "name": "stderr",
     "output_type": "stream",
     "text": [
      "\rSampling 2 chains, 0 divergences:  47%|████▋     | 1420/3000 [00:00<00:00, 1803.01draws/s]"
     ]
    },
    {
     "name": "stderr",
     "output_type": "stream",
     "text": [
      "\rSampling 2 chains, 0 divergences:  54%|█████▍    | 1614/3000 [00:00<00:00, 1837.93draws/s]"
     ]
    },
    {
     "name": "stderr",
     "output_type": "stream",
     "text": [
      "\rSampling 2 chains, 0 divergences:  60%|██████    | 1804/3000 [00:01<00:00, 1852.64draws/s]"
     ]
    },
    {
     "name": "stderr",
     "output_type": "stream",
     "text": [
      "\rSampling 2 chains, 0 divergences:  66%|██████▋   | 1990/3000 [00:01<00:00, 1853.50draws/s]"
     ]
    },
    {
     "name": "stderr",
     "output_type": "stream",
     "text": [
      "\rSampling 2 chains, 0 divergences:  73%|███████▎  | 2180/3000 [00:01<00:00, 1866.14draws/s]"
     ]
    },
    {
     "name": "stderr",
     "output_type": "stream",
     "text": [
      "\rSampling 2 chains, 0 divergences:  79%|███████▉  | 2379/3000 [00:01<00:00, 1899.79draws/s]"
     ]
    },
    {
     "name": "stderr",
     "output_type": "stream",
     "text": [
      "\rSampling 2 chains, 0 divergences:  86%|████████▌ | 2583/3000 [00:01<00:00, 1936.77draws/s]"
     ]
    },
    {
     "name": "stderr",
     "output_type": "stream",
     "text": [
      "\rSampling 2 chains, 0 divergences:  93%|█████████▎| 2780/3000 [00:01<00:00, 1945.43draws/s]"
     ]
    },
    {
     "name": "stderr",
     "output_type": "stream",
     "text": [
      "\rSampling 2 chains, 0 divergences:  99%|█████████▉| 2975/3000 [00:01<00:00, 1893.71draws/s]"
     ]
    },
    {
     "name": "stderr",
     "output_type": "stream",
     "text": [
      "\rSampling 2 chains, 0 divergences: 100%|██████████| 3000/3000 [00:01<00:00, 1816.46draws/s]"
     ]
    },
    {
     "name": "stderr",
     "output_type": "stream",
     "text": [
      "\n"
     ]
    },
    {
     "name": "stdout",
     "output_type": "stream",
     "text": [
      "    mean     sd  hpd_3%  hpd_97%  mcse_mean  mcse_sd  ess_mean  ess_sd  \\\nθ  0.392  0.048   0.302     0.48      0.002    0.001     814.0   813.0   \n\n   ess_bulk  ess_tail  r_hat  \nθ     813.0    1369.0    1.0  \n"
     ]
    },
    {
     "name": "stdout",
     "output_type": "stream",
     "text": [
      "1000\n"
     ]
    },
    {
     "name": "stderr",
     "output_type": "stream",
     "text": [
      "Auto-assigning NUTS sampler...\n"
     ]
    },
    {
     "name": "stderr",
     "output_type": "stream",
     "text": [
      "Initializing NUTS using jitter+adapt_diag...\n"
     ]
    },
    {
     "name": "stderr",
     "output_type": "stream",
     "text": [
      "Multiprocess sampling (2 chains in 2 jobs)\n"
     ]
    },
    {
     "name": "stderr",
     "output_type": "stream",
     "text": [
      "NUTS: [θ]\n"
     ]
    },
    {
     "name": "stderr",
     "output_type": "stream",
     "text": [
      "\rSampling 2 chains, 0 divergences:   0%|          | 0/3000 [00:00<?, ?draws/s]"
     ]
    },
    {
     "name": "stderr",
     "output_type": "stream",
     "text": [
      "\rSampling 2 chains, 0 divergences:   5%|▍         | 140/3000 [00:00<00:02, 1393.48draws/s]"
     ]
    },
    {
     "name": "stderr",
     "output_type": "stream",
     "text": [
      "\rSampling 2 chains, 0 divergences:  10%|▉         | 296/3000 [00:00<00:01, 1439.07draws/s]"
     ]
    },
    {
     "name": "stderr",
     "output_type": "stream",
     "text": [
      "\rSampling 2 chains, 0 divergences:  15%|█▌        | 452/3000 [00:00<00:01, 1472.74draws/s]"
     ]
    },
    {
     "name": "stderr",
     "output_type": "stream",
     "text": [
      "\rSampling 2 chains, 0 divergences:  21%|██        | 618/3000 [00:00<00:01, 1523.67draws/s]"
     ]
    },
    {
     "name": "stderr",
     "output_type": "stream",
     "text": [
      "\rSampling 2 chains, 0 divergences:  26%|██▌       | 784/3000 [00:00<00:01, 1558.12draws/s]"
     ]
    },
    {
     "name": "stderr",
     "output_type": "stream",
     "text": [
      "\rSampling 2 chains, 0 divergences:  32%|███▏      | 954/3000 [00:00<00:01, 1598.07draws/s]"
     ]
    },
    {
     "name": "stderr",
     "output_type": "stream",
     "text": [
      "\rSampling 2 chains, 0 divergences:  38%|███▊      | 1136/3000 [00:00<00:01, 1657.52draws/s]"
     ]
    },
    {
     "name": "stderr",
     "output_type": "stream",
     "text": [
      "\rSampling 2 chains, 0 divergences:  44%|████▍     | 1316/3000 [00:00<00:00, 1695.11draws/s]"
     ]
    },
    {
     "name": "stderr",
     "output_type": "stream",
     "text": [
      "\rSampling 2 chains, 0 divergences:  50%|████▉     | 1493/3000 [00:00<00:00, 1715.40draws/s]"
     ]
    },
    {
     "name": "stderr",
     "output_type": "stream",
     "text": [
      "\rSampling 2 chains, 0 divergences:  56%|█████▌    | 1674/3000 [00:01<00:00, 1740.26draws/s]"
     ]
    },
    {
     "name": "stderr",
     "output_type": "stream",
     "text": [
      "\rSampling 2 chains, 0 divergences:  62%|██████▏   | 1864/3000 [00:01<00:00, 1783.98draws/s]"
     ]
    },
    {
     "name": "stderr",
     "output_type": "stream",
     "text": [
      "\rSampling 2 chains, 0 divergences:  68%|██████▊   | 2047/3000 [00:01<00:00, 1796.05draws/s]"
     ]
    },
    {
     "name": "stderr",
     "output_type": "stream",
     "text": [
      "\rSampling 2 chains, 0 divergences:  75%|███████▍  | 2237/3000 [00:01<00:00, 1824.62draws/s]"
     ]
    },
    {
     "name": "stderr",
     "output_type": "stream",
     "text": [
      "\rSampling 2 chains, 0 divergences:  81%|████████  | 2431/3000 [00:01<00:00, 1856.76draws/s]"
     ]
    },
    {
     "name": "stderr",
     "output_type": "stream",
     "text": [
      "\rSampling 2 chains, 0 divergences:  87%|████████▋ | 2618/3000 [00:01<00:00, 1858.38draws/s]"
     ]
    },
    {
     "name": "stderr",
     "output_type": "stream",
     "text": [
      "\rSampling 2 chains, 0 divergences:  94%|█████████▎| 2805/3000 [00:01<00:00, 1858.46draws/s]"
     ]
    },
    {
     "name": "stderr",
     "output_type": "stream",
     "text": [
      "\rSampling 2 chains, 0 divergences: 100%|█████████▉| 2991/3000 [00:01<00:00, 1837.24draws/s]"
     ]
    },
    {
     "name": "stderr",
     "output_type": "stream",
     "text": [
      "\rSampling 2 chains, 0 divergences: 100%|██████████| 3000/3000 [00:01<00:00, 1725.97draws/s]"
     ]
    },
    {
     "name": "stderr",
     "output_type": "stream",
     "text": [
      "\n"
     ]
    },
    {
     "name": "stderr",
     "output_type": "stream",
     "text": [
      "The acceptance probability does not match the target. It is 0.8805045628952277, but should be close to 0.8. Try to increase the number of tuning steps.\n"
     ]
    },
    {
     "name": "stdout",
     "output_type": "stream",
     "text": [
      "    mean     sd  hpd_3%  hpd_97%  mcse_mean  mcse_sd  ess_mean  ess_sd  \\\nθ  0.365  0.015   0.336    0.392      0.001      0.0     768.0   767.0   \n\n   ess_bulk  ess_tail  r_hat  \nθ     770.0    1607.0    1.0  \n"
     ]
    },
    {
     "data": {
      "image/png": "[encoded data removed]",
      "text/plain": [
       "<Figure size 576x504 with 3 Axes>"
      ]
     },
     "metadata": {},
     "output_type": "display_data"
    }
   ],
   "source": [
    "_,ax = plt.subplots(len(trial_counts), 1, sharex=True, sharey=False,\n",
    "                    figsize=(8, 7), constrained_layout=True)\n",
    "\n",
    "for trial_index in range(len(trial_counts)):\n",
    "    trial_count = trial_counts[trial_index]\n",
    "    print(trial_count)\n",
    "    data = stats.bernoulli.rvs(p=theta_real, size=trial_count)\n",
    "    with pm.Model() as our_first_model:\n",
    "        # a priori - uniform\n",
    "        θ = pm.Beta('θ', alpha=1., beta=1.)\n",
    "        # likelihood p(y|θ)\n",
    "        y = pm.Bernoulli('y', p=θ, observed=data)\n",
    "        trace = pm.sample(1000, random_seed=123)\n",
    "        \n",
    "    df = az.summary(trace)\n",
    "    print(df)\n",
    "    ref_value = 0.5\n",
    "    az.plot_posterior(trace, rope=[0.45, 0.55], ref_val=ref_value, ax = ax[trial_index])\n",
    "    ax[trial_index].set_title(trial_count)\n",
    "    \n"
   ]
  },
  {
   "cell_type": "code",
   "execution_count": null,
   "metadata": {},
   "outputs": [],
   "source": []
  }
 ],
 "metadata": {
  "kernelspec": {
   "display_name": "Python 2",
   "language": "python",
   "name": "python2"
  },
  "language_info": {
   "codemirror_mode": {
    "name": "ipython",
    "version": 2
   },
   "file_extension": ".py",
   "mimetype": "text/x-python",
   "name": "python",
   "nbconvert_exporter": "python",
   "pygments_lexer": "ipython2",
   "version": "2.7.6"
  }
 },
 "nbformat": 4,
 "nbformat_minor": 0
}
