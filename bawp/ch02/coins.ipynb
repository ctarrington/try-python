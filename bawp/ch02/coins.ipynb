{
 "cells": [
  {
   "cell_type": "code",
   "execution_count": null,
   "metadata": {},
   "outputs": [],
   "source": [
    "import matplotlib.pyplot as plt\n",
    "import scipy.stats as stats\n",
    "import numpy as np\n",
    "import pymc3 as pm\n",
    "import arviz as az\n"
   ]
  },
  {
   "cell_type": "code",
   "execution_count": null,
   "metadata": {},
   "outputs": [],
   "source": [
    "az.style.use('arviz-darkgrid')\n",
    "%matplotlib inline\n"
   ]
  },
  {
   "cell_type": "code",
   "execution_count": null,
   "metadata": {},
   "outputs": [],
   "source": [
    "\n",
    "np.random.seed(123)\n",
    "theta_real = 0.35 # unknown value in a real experiment\n",
    "trial_counts = [10,100,1000,10000]"
   ]
  },
  {
   "cell_type": "code",
   "execution_count": null,
   "metadata": {},
   "outputs": [],
   "source": [
    "_,ax = plt.subplots(len(trial_counts), 1, sharex=True, sharey=False,\n",
    "                    figsize=(8, 7), constrained_layout=True)\n",
    "\n",
    "for trial_index in range(len(trial_counts)):\n",
    "    trial_count = trial_counts[trial_index]\n",
    "    print(trial_count)\n",
    "    data = stats.bernoulli.rvs(p=theta_real, size=trial_count)\n",
    "    with pm.Model() as our_first_model:\n",
    "        # a priori - uniform\n",
    "        θ = pm.Beta('θ', alpha=1., beta=1.)\n",
    "        # likelihood p(y|θ)\n",
    "        y = pm.Bernoulli('y', p=θ, observed=data)\n",
    "        trace = pm.sample(1000, random_seed=123)\n",
    "        \n",
    "    df = az.summary(trace)\n",
    "    print(df)\n",
    "    ref_value = 0.5\n",
    "    #az.plot_posterior(trace, rope=[0.45, 0.55], ref_val=ref_value, ax = ax[trial_index])\n",
    "    #ax[trial_index].set_title(trial_count)\n",
    "        \n"
   ]
  },
  {
   "cell_type": "code",
   "execution_count": null,
   "metadata": {},
   "outputs": [],
   "source": [
    "    pm.model_to_graphviz(our_first_model)\n"
   ]
  },
  {
   "cell_type": "code",
   "execution_count": null,
   "metadata": {},
   "outputs": [],
   "source": []
  }
 ],
 "metadata": {
  "kernelspec": {
   "display_name": "Python (for-kaggle)",
   "language": "python",
   "name": "for-kaggle"
  },
  "language_info": {
   "codemirror_mode": {
    "name": "ipython",
    "version": 3
   },
   "file_extension": ".py",
   "mimetype": "text/x-python",
   "name": "python",
   "nbconvert_exporter": "python",
   "pygments_lexer": "ipython3",
   "version": "3.7.0"
  }
 },
 "nbformat": 4,
 "nbformat_minor": 1
}
