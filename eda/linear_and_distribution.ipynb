{
 "cells": [
  {
   "cell_type": "code",
   "execution_count": null,
   "metadata": {},
   "outputs": [],
   "source": [
    "import pandas as pd\n",
    "import seaborn as sns\n",
    "import qgrid\n",
    "from pandas.plotting import scatter_matrix\n",
    "\n",
    "sns.set(style='darkgrid')\n",
    "tips = sns.load_dataset('tips')\n",
    "tips['tip_percent'] = tips['tip'] / tips['total_bill']"
   ]
  },
  {
   "cell_type": "code",
   "execution_count": null,
   "metadata": {},
   "outputs": [],
   "source": [
    "display(tips.dtypes)\n",
    "display(tips.describe())\n",
    "scatter_matrix(tips, figsize=(10,10))"
   ]
  },
  {
   "cell_type": "code",
   "execution_count": null,
   "metadata": {},
   "outputs": [],
   "source": [
    "tips.groupby(['sex', 'smoker', 'day', 'time']).size().reset_index(name='counts')"
   ]
  },
  {
   "cell_type": "code",
   "execution_count": null,
   "metadata": {},
   "outputs": [],
   "source": [
    "sns.catplot(x=\"day\", y=\"total_bill\", hue=\"smoker\", kind=\"swarm\", data=tips)\n",
    "sns.catplot(x=\"day\", y=\"tip\", hue=\"smoker\", kind=\"swarm\", data=tips)\n",
    "sns.catplot(x=\"day\", y=\"tip_percent\", hue=\"smoker\", kind=\"swarm\", data=tips)"
   ]
  },
  {
   "cell_type": "code",
   "execution_count": null,
   "metadata": {},
   "outputs": [],
   "source": [
    "g = sns.jointplot('total_bill', 'tip', data=tips, kind='reg', xlim=(0, 60), ylim=(0, 12), color='m')\n",
    "g = sns.jointplot('total_bill', 'tip_percent', data=tips, kind='reg', xlim=(0, 60), ylim=(0, 1), color='m')"
   ]
  },
  {
   "cell_type": "code",
   "execution_count": null,
   "metadata": {},
   "outputs": [],
   "source": [
    "qgrid.show_grid(tips)"
   ]
  },
  {
   "cell_type": "code",
   "execution_count": null,
   "metadata": {},
   "outputs": [],
   "source": []
  }
 ],
 "metadata": {
  "kernelspec": {
   "display_name": "Python 3",
   "language": "python",
   "name": "python3"
  },
  "language_info": {
   "codemirror_mode": {
    "name": "ipython",
    "version": 3
   },
   "file_extension": ".py",
   "mimetype": "text/x-python",
   "name": "python",
   "nbconvert_exporter": "python",
   "pygments_lexer": "ipython3",
   "version": "3.7.0"
  }
 },
 "nbformat": 4,
 "nbformat_minor": 2
}
