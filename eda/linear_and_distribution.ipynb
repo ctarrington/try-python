{
 "cells": [
  {
   "cell_type": "code",
   "execution_count": null,
   "metadata": {},
   "outputs": [],
   "source": [
    "import numpy as np\n",
    "import pandas as pd\n",
    "import seaborn as sns\n",
    "import matplotlib.pyplot as plt\n",
    "\n",
    "import qgrid\n",
    "from pandas.plotting import scatter_matrix\n",
    "\n",
    "sns.set(style='darkgrid')\n",
    "from prepare_tips import augment_tips\n",
    "tips = augment_tips()\n"
   ]
  },
  {
   "cell_type": "code",
   "execution_count": null,
   "metadata": {},
   "outputs": [],
   "source": [
    "display(tips.dtypes)\n",
    "display(tips.describe())\n",
    "scatter_matrix(tips, figsize=(10,10))"
   ]
  },
  {
   "cell_type": "code",
   "execution_count": null,
   "metadata": {},
   "outputs": [],
   "source": [
    "for y_value in ['total_bill', 'per_person_bill', 'tip', 'tip_percent']:\n",
    "    sns.catplot(x='size', y=y_value, kind=\"swarm\", data=tips)\n",
    "    sns.catplot(x='size', y=y_value, hue=\"smoker\", kind=\"swarm\", col=\"time\", data=tips)"
   ]
  },
  {
   "cell_type": "code",
   "execution_count": null,
   "metadata": {},
   "outputs": [],
   "source": [
    "g = sns.jointplot('per_person_bill', 'tip', data=tips, kind='reg', xlim=(0, 60), ylim=(0, 12), color='m')\n",
    "g = sns.jointplot('per_person_bill', 'tip_percent', data=tips, kind='reg', xlim=(0, 60), ylim=(0, 1), color='m')"
   ]
  },
  {
   "cell_type": "code",
   "execution_count": null,
   "metadata": {},
   "outputs": [],
   "source": [
    "qgrid.show_grid(tips)"
   ]
  },
  {
   "cell_type": "code",
   "execution_count": null,
   "metadata": {},
   "outputs": [],
   "source": [
    "for y_value in ['tip', 'tip_percent']:\n",
    "    sns.lmplot(data=tips, x=\"total_bill\", y=y_value)\n",
    "    sns.lmplot(data=tips, x=\"total_bill\", y=y_value, hue='smoker', col='time')\n"
   ]
  },
  {
   "cell_type": "code",
   "execution_count": null,
   "metadata": {},
   "outputs": [],
   "source": [
    "g = sns.FacetGrid(data=tips, col='time', hue='smoker') \n",
    "g.map(sns.regplot, 'total_bill', 'tip')\n"
   ]
  },
  {
   "cell_type": "code",
   "execution_count": null,
   "metadata": {},
   "outputs": [],
   "source": []
  }
 ],
 "metadata": {
  "kernelspec": {
   "display_name": "Python 3",
   "language": "python",
   "name": "python3"
  },
  "language_info": {
   "codemirror_mode": {
    "name": "ipython",
    "version": 3
   },
   "file_extension": ".py",
   "mimetype": "text/x-python",
   "name": "python",
   "nbconvert_exporter": "python",
   "pygments_lexer": "ipython3",
   "version": "3.7.0"
  }
 },
 "nbformat": 4,
 "nbformat_minor": 2
}
